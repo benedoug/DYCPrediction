{
 "cells": [
  {
   "cell_type": "code",
   "execution_count": 69,
   "metadata": {},
   "outputs": [],
   "source": [
    "import numpy as np\n",
    "import pandas as pd\n",
    "import matplotlib.pyplot as plt\n",
    "from statsmodels.tsa.stattools import adfuller, acf, pacf\n",
    "from statsmodels.tsa.arima_model import ARIMA\n",
    "from statsmodels.tsa.arima_model import ARIMAResults\n",
    "from statsmodels.tsa.seasonal import seasonal_decompose\n",
    "from statsmodels.tsa.stattools import arma_order_select_ic\n",
    "from sklearn.metrics import mean_squared_error\n",
    "from sklearn.metrics import r2_score\n",
    "import matplotlib.pylab as plt\n",
    "%matplotlib inline"
   ]
  },
  {
   "cell_type": "code",
   "execution_count": 2,
   "metadata": {
    "collapsed": true
   },
   "outputs": [],
   "source": [
    "data = pd.read_csv(\"FRB_H15.csv\",header = 0,skiprows = 5).replace('ND',np.nan)\n",
    "data.drop(['RIFLGFCM01_N.B','RIFLGFCM03_N.B','RIFLGFCM06_N.B','RIFLGFCY02_N.B','RIFLGFCY07_N.B','RIFLGFCY20_N.B','RIFLGFCY30_N.B'],axis = 1,inplace = True)\n",
    "data['Time Period'] = pd.to_datetime(data['Time Period'])\n",
    "dates = pd.DataFrame(pd.date_range(start = '1962-01-02',end = '2017-10-5'))\n",
    "dates.columns = ['Time Period']\n",
    "data = dates.merge(data,how = 'left',on = 'Time Period')\n",
    "\n",
    "data['IS_WEEKEND'] = 1\n",
    "data['Day of week'] = data['Time Period'].dt.dayofweek\n",
    "weekend = data['IS_WEEKEND'].copy()\n",
    "weekend[(data['Day of week'] != 5) & (data['Day of week'] != 6)] = 0\n",
    "data['IS_WEEKEND'] = weekend\n",
    "\n",
    "#impute missing values\n",
    "f1 = data['RIFLGFCY01_N.B'].copy()\n",
    "f2 = data['RIFLGFCY03_N.B'].copy()\n",
    "f3 = data['RIFLGFCY05_N.B'].copy()\n",
    "f4 = data['RIFLGFCY10_N.B'].copy()\n",
    "for i in range(len(data)):\n",
    "    if data['IS_WEEKEND'].iloc[i] == 1:\n",
    "        f1[i] = f1[i-1]\n",
    "        f2[i] = f2[i-1]\n",
    "        f3[i] = f3[i-1]\n",
    "        f4[i] = f4[i-1]\n",
    "        \n",
    "for i in range(len(f1)):\n",
    "    if pd.isnull(f1[i]):\n",
    "        j = i - 1\n",
    "        while pd.isnull(f1[j]):\n",
    "            j = j - 1\n",
    "        f1[i] = f1[j]\n",
    "\n",
    "for i in range(len(f2)):\n",
    "    if pd.isnull(f2[i]):\n",
    "        j = i - 1\n",
    "        while pd.isnull(f2[j]):\n",
    "            j = j - 1\n",
    "        f2[i] = f2[j]\n",
    "\n",
    "for i in range(len(f3)):\n",
    "    if pd.isnull(f3[i]):\n",
    "        j = i - 1\n",
    "        while pd.isnull(f3[j]):\n",
    "            j = j - 1\n",
    "        f3[i] = f3[j]\n",
    "\n",
    "for i in range(len(f4)):\n",
    "    if pd.isnull(f4[i]):\n",
    "        j = i - 1\n",
    "        while pd.isnull(f4[j]):\n",
    "            j = j - 1\n",
    "        f4[i] = f4[j]\n",
    "        \n",
    "data['RIFLGFCY01_N.B'] = f1\n",
    "data['RIFLGFCY03_N.B'] = f2\n",
    "data['RIFLGFCY05_N.B'] = f3\n",
    "data['RIFLGFCY10_N.B'] = f4\n",
    "\n",
    "\n",
    "data['RIFLGFCY01_N.B'] = data['RIFLGFCY01_N.B'].astype(float)\n",
    "data['RIFLGFCY03_N.B'] = data['RIFLGFCY03_N.B'].astype(float)\n",
    "data['RIFLGFCY05_N.B'] = data['RIFLGFCY05_N.B'].astype(float)\n",
    "data['RIFLGFCY10_N.B'] = data['RIFLGFCY10_N.B'].astype(float)\n",
    "\n",
    "#Difference the data from the rolling mean to make it stationary\n",
    "#Check for stationarity using dickey fuller test\n",
    "\n",
    "\n",
    "from statsmodels.tsa.stattools import adfuller\n",
    "def test_stationarity(timeseries):\n",
    "    \n",
    "    #Determing rolling statistics\n",
    "    rolmean = pd.rolling_mean(timeseries, window=12)\n",
    "    rolstd = pd.rolling_std(timeseries, window=12)\n",
    "\n",
    "    #Plot rolling statistics:\n",
    "    orig = plt.plot(timeseries, color='blue',label='Original')\n",
    "    mean = plt.plot(rolmean, color='red', label='Rolling Mean')\n",
    "    std = plt.plot(rolstd, color='black', label = 'Rolling Std')\n",
    "    plt.legend(loc='best')\n",
    "    plt.title('Rolling Mean & Standard Deviation')\n",
    "    plt.show(block=False)\n",
    "    \n",
    "    #Perform Dickey-Fuller test:\n",
    "    print ('Results of Dickey-Fuller Test:')\n",
    "    dftest = adfuller(timeseries, autolag='AIC')\n",
    "    dfoutput = pd.Series(dftest[0:4], index=['Test Statistic','p-value','#Lags Used','Number of Observations Used'])\n",
    "    for key,value in dftest[4].items():\n",
    "        dfoutput['Critical Value (%s)'%key] = value\n",
    "    print (dfoutput)\n",
    "    "
   ]
  },
  {
   "cell_type": "code",
   "execution_count": 3,
   "metadata": {},
   "outputs": [
    {
     "name": "stderr",
     "output_type": "stream",
     "text": [
      "D:\\anaconda_py3\\python3\\envs\\tensorflow2\\lib\\site-packages\\ipykernel_launcher.py:7: FutureWarning: pd.rolling_mean is deprecated for DataFrame and will be removed in a future version, replace with \n",
      "\tDataFrame.rolling(center=False,window=100).mean()\n",
      "  import sys\n"
     ]
    }
   ],
   "source": [
    "#Select data after 2000\n",
    "data_after_2000 = data[data['Time Period']>='2000-01-01'].set_index('Time Period')\n",
    "#remove weekend\n",
    "data_after_2000 = data_after_2000[data_after_2000['IS_WEEKEND']==0]\n",
    "\n",
    "#difference data from rolling mean\n",
    "data_after_2000_diff = (data_after_2000 - pd.rolling_mean((data_after_2000),100))\n",
    "\n",
    "\n",
    "\n",
    "#test on 2017 (assume one day's data in 2017 is missing, try to fill it using MCMC with available data after 2000)\n",
    "train = data_after_2000_diff[data_after_2000_diff.index<='2016-12-31'].iloc[100:,]\n",
    "test = data_after_2000_diff[data_after_2000_diff.index>='2017-01-01']"
   ]
  },
  {
   "cell_type": "code",
   "execution_count": 4,
   "metadata": {
    "collapsed": true
   },
   "outputs": [],
   "source": [
    "#Try one year maturity\n",
    "train_one_year = train['RIFLGFCY01_N.B']\n",
    "test_one_year = test['RIFLGFCY01_N.B']\n"
   ]
  },
  {
   "cell_type": "code",
   "execution_count": 5,
   "metadata": {},
   "outputs": [
    {
     "name": "stderr",
     "output_type": "stream",
     "text": [
      "D:\\anaconda_py3\\python3\\envs\\tensorflow2\\lib\\site-packages\\ipykernel_launcher.py:73: FutureWarning: pd.rolling_mean is deprecated for Series and will be removed in a future version, replace with \n",
      "\tSeries.rolling(center=False,window=12).mean()\n",
      "D:\\anaconda_py3\\python3\\envs\\tensorflow2\\lib\\site-packages\\ipykernel_launcher.py:74: FutureWarning: pd.rolling_std is deprecated for Series and will be removed in a future version, replace with \n",
      "\tSeries.rolling(center=False,window=12).std()\n"
     ]
    },
    {
     "data": {
      "image/png": "[encoded data removed]",
      "text/plain": [
       "<matplotlib.figure.Figure at 0x23074141b38>"
      ]
     },
     "metadata": {},
     "output_type": "display_data"
    },
    {
     "name": "stdout",
     "output_type": "stream",
     "text": [
      "Results of Dickey-Fuller Test:\n",
      "Test Statistic                   -4.742892\n",
      "p-value                           0.000070\n",
      "#Lags Used                       21.000000\n",
      "Number of Observations Used    4313.000000\n",
      "Critical Value (1%)              -3.431867\n",
      "Critical Value (5%)              -2.862210\n",
      "Critical Value (10%)             -2.567127\n",
      "dtype: float64\n"
     ]
    }
   ],
   "source": [
    "test_stationarity(train_one_year)"
   ]
  },
  {
   "cell_type": "markdown",
   "metadata": {},
   "source": [
    "Gibbs sampling for filling missing value"
   ]
  },
  {
   "cell_type": "code",
   "execution_count": 32,
   "metadata": {
    "collapsed": true
   },
   "outputs": [],
   "source": [
    "#Define starting values \n",
    "def get_starting_values(ar_order, data, missing_id):\n",
    "    \n",
    "    '''\n",
    "    Let staring value of missing value xh be the previous day value\n",
    "    Fill the missing value by the previous day value to fit an AR(p) model, and use the coefficients of this model\n",
    "    as the starting values of φ and σ^2\n",
    "    '''\n",
    "    data_temp = np.array(data)\n",
    "    xh_start = data_temp[(missing_id-1)]\n",
    "    \n",
    "    data_temp[missing_id] = xh_start\n",
    "    \n",
    "    model = ARIMA(data_temp, order=(ar_order,0,0))\n",
    "    \n",
    "    model_fit = model.fit(trend='nc') #don't include constant term when fit\n",
    "    \n",
    "    phi_start = list(model_fit.arparams)\n",
    "    sigma_start = model_fit.sigma2\n",
    "    \n",
    "    \n",
    "    return (xh_start,phi_start,sigma_start)\n",
    "    \n",
    "    \n",
    "    "
   ]
  },
  {
   "cell_type": "code",
   "execution_count": null,
   "metadata": {
    "collapsed": true
   },
   "outputs": [],
   "source": []
  },
  {
   "cell_type": "code",
   "execution_count": null,
   "metadata": {},
   "outputs": [],
   "source": []
  },
  {
   "cell_type": "code",
   "execution_count": null,
   "metadata": {},
   "outputs": [],
   "source": []
  },
  {
   "cell_type": "code",
   "execution_count": 100,
   "metadata": {
    "collapsed": true
   },
   "outputs": [],
   "source": [
    "def gibbs_sampling(n_iter, data, missing_id, ar_order):\n",
    "    data_temp = np.array(data)\n",
    "    data_temp[missing_id] = np.nan\n",
    "    \n",
    "    phi = []\n",
    "    sigma = []\n",
    "    xh = []\n",
    "    \n",
    "    #Define hyperparameters\n",
    "    phi_0 = 0\n",
    "    sigma_0_phi = 0.25\n",
    "    miu_0 = 0\n",
    "    sigma_0_xh = np.nanvar(data_temp)\n",
    "    v = 10\n",
    "    lambda_ = 0.05\n",
    "    \n",
    "    #Get starting values\n",
    "    xh_start, phi_start, sigma_start = get_starting_values(ar_order, data, missing_id)\n",
    "    \n",
    "    \n",
    "    phi_temp = phi_start[0] #AR(1)\n",
    "    data_temp[missing_id] = xh_start\n",
    "    sigma_temp = sigma_start\n",
    "    \n",
    "    for t in range(n_iter):\n",
    "        #update phi_temp\n",
    "        sigma_phi_temp = ((np.sum(np.square(data_temp[:-1]))/sigma_temp)+(sigma_0_phi)**-1)**-1\n",
    "        miu_phi_temp = ((sum(data_temp[:-1]*data_temp[1:])/sigma_temp) + ((sigma_0_phi)**-1)*phi_0 )* sigma_phi_temp\n",
    "\n",
    "        phi_temp = np.random.normal(miu_phi_temp, sigma_phi_temp)\n",
    "        phi.append(phi_temp)\n",
    "        \n",
    "        #update sigma_temp\n",
    "        sigma_temp = (v*lambda_ + np.sum(np.square(data_temp[1:]-phi_temp*data_temp[:-1])))/np.random.chisquare(v+len(data_temp)-1)\n",
    "\n",
    "        sigma.append(sigma_temp)\n",
    "        \n",
    "        #update xh temp and data\n",
    "        miu_xh_temp = (sigma_temp*miu_0+sigma_0_xh*phi_temp*(data_temp[missing_id-1]+data_temp[missing_id+1]))/(sigma_temp+sigma_0_xh*(1+phi_temp**2))\n",
    "        sigma_xh_temp = (sigma_temp*sigma_0_xh)/(sigma_temp+sigma_0_xh*(1+phi_temp**2))\n",
    "        \n",
    "        xh_temp = np.random.normal(miu_xh_temp, sigma_xh_temp)\n",
    "\n",
    "        data_temp[missing_id] = xh_temp\n",
    "        xh.append(xh_temp)\n",
    "        \n",
    "    return phi,sigma,xh"
   ]
  },
  {
   "cell_type": "code",
   "execution_count": null,
   "metadata": {
    "collapsed": true
   },
   "outputs": [],
   "source": []
  },
  {
   "cell_type": "code",
   "execution_count": 101,
   "metadata": {},
   "outputs": [
    {
     "name": "stdout",
     "output_type": "stream",
     "text": [
      "Printing Predicted vs Expected Values...\n",
      "\n",
      "\n",
      "predicted=  0.166683423094 expected=  0.1482\n",
      "predicted=  0.153900348716 expected=  0.185\n",
      "predicted=  0.151052454845 expected=  0.1621\n",
      "predicted=  0.148342632534 expected=  0.1196\n",
      "predicted=  0.111207059723 expected=  0.137\n",
      "predicted=  0.118619640207 expected=  0.1046\n",
      "predicted=  0.101438324664 expected=  0.1022\n",
      "predicted=  0.0942350198416 expected=  0.0999\n",
      "predicted=  0.0970538028537 expected=  0.0878\n",
      "predicted=  0.0900525852739 expected=  0.0958\n",
      "predicted=  0.0831483410459 expected=  0.0938\n",
      "predicted=  0.0910538412843 expected=  0.0719\n",
      "predicted=  0.0840032194234 expected=  0.0898\n",
      "predicted=  0.0868300600666 expected=  0.0975\n",
      "predicted=  0.074776083309 expected=  0.0852\n",
      "predicted=  0.0773543778784 expected=  0.0532\n",
      "predicted=  0.0651335906845 expected=  0.0707\n",
      "predicted=  0.0726227135317 expected=  0.0782\n",
      "predicted=  0.075139917733 expected=  0.0757\n",
      "predicted=  0.0677531189863 expected=  0.0733\n",
      "predicted=  0.0804072358433 expected=  0.0609\n",
      "predicted=  0.0682364613423 expected=  0.0888\n",
      "predicted=  0.0858441581729 expected=  0.0767\n",
      "predicted=  0.0688896754364 expected=  0.0843\n",
      "predicted=  0.0568280926889 expected=  0.0622\n",
      "predicted=  0.0498907361797 expected=  0.0303\n",
      "predicted=  0.0281886007517 expected=  0.0384\n",
      "predicted=  0.0361743028023 expected=  0.0266\n",
      "predicted=  0.0342935186285 expected=  0.0346\n",
      "predicted=  0.0419971579962 expected=  0.0425\n",
      "predicted=  0.0545311030283 expected=  0.0501\n",
      "predicted=  0.0669487918415 expected=  0.0675\n",
      "predicted=  0.0546017038119 expected=  0.0849\n",
      "predicted=  0.0621079165494 expected=  0.0426\n",
      "predicted=  0.0401721498632 expected=  0.0403\n",
      "predicted=  0.0430188389288 expected=  0.0384\n",
      "predicted=  0.0363088804034 expected=  0.0465\n",
      "predicted=  0.0345719231416 expected=  0.0348\n",
      "predicted=  0.0230892754232 expected=  0.0232\n",
      "predicted=  0.0216196179818 expected=  0.0118\n",
      "predicted=  0.0497072895697 expected=  0.0203\n",
      "predicted=  0.0725690979581 expected=  0.0884\n",
      "predicted=  0.1345037333 expected=  0.126\n",
      "predicted=  0.15159858508 expected=  0.1828\n",
      "predicted=  0.173184630825 expected=  0.1796\n",
      "predicted=  0.194636046979 expected=  0.1664\n",
      "predicted=  0.191153384391 expected=  0.2128\n",
      "predicted=  0.217264732765 expected=  0.219\n",
      "predicted=  0.21352213059 expected=  0.2252\n",
      "predicted=  0.229467772383 expected=  0.2115\n",
      "predicted=  0.220718920355 expected=  0.2375\n",
      "predicted=  0.212034392851 expected=  0.2335\n",
      "predicted=  0.20343289039 expected=  0.19\n",
      "predicted=  0.175214115729 expected=  0.1767\n",
      "predicted=  0.171855675025 expected=  0.1633\n",
      "predicted=  0.158495305347 expected=  0.1698\n",
      "predicted=  0.155053000818 expected=  0.1563\n",
      "predicted=  0.146563461357 expected=  0.1428\n",
      "predicted=  0.142991476581 expected=  0.1393\n",
      "predicted=  0.139419361346 expected=  0.1455\n",
      "predicted=  0.155786059126 expected=  0.1418\n",
      "predicted=  0.157301160939 expected=  0.1686\n",
      "predicted=  0.1641325401 expected=  0.1754\n",
      "predicted=  0.165920037318 expected=  0.1623\n",
      "predicted=  0.153227345476 expected=  0.1592\n",
      "predicted=  0.155451779568 expected=  0.1467\n",
      "predicted=  0.147904418117 expected=  0.1542\n",
      "predicted=  0.160108659913 expected=  0.1515\n",
      "predicted=  0.172176817942 expected=  0.1687\n",
      "predicted=  0.174289503581 expected=  0.1956\n",
      "predicted=  0.176374811563 expected=  0.1827\n",
      "predicted=  0.163828116671 expected=  0.16\n",
      "predicted=  0.146424704607 expected=  0.1476\n",
      "predicted=  0.139238652772 expected=  0.1353\n",
      "predicted=  0.136831993917 expected=  0.1331\n",
      "predicted=  0.124668086637 expected=  0.1406\n",
      "predicted=  0.127244236567 expected=  0.1182\n",
      "predicted=  0.110267003789 expected=  0.116\n",
      "predicted=  0.0983065793957 expected=  0.1041\n",
      "predicted=  0.111206913642 expected=  0.0822\n",
      "predicted=  0.128848855533 expected=  0.1201\n",
      "predicted=  0.13661793283 expected=  0.1775\n",
      "predicted=  0.159009159841 expected=  0.1553\n",
      "predicted=  0.151874380863 expected=  0.1431\n",
      "predicted=  0.154488339254 expected=  0.1509\n",
      "predicted=  0.152464199228 expected=  0.1685\n",
      "predicted=  0.17024267104 expected=  0.1565\n",
      "predicted=  0.168287417931 expected=  0.1747\n",
      "predicted=  0.171335869763 expected=  0.1827\n",
      "predicted=  0.184136265018 expected=  0.1708\n",
      "predicted=  0.186969968263 expected=  0.1886\n",
      "predicted=  0.189597828383 expected=  0.2062\n",
      "predicted=  0.197044992945 expected=  0.1937\n",
      "predicted=  0.179721934846 expected=  0.1911\n",
      "predicted=  0.177270909834 expected=  0.1687\n",
      "predicted=  0.165036231219 expected=  0.1663\n",
      "predicted=  0.14807919353 expected=  0.1641\n",
      "predicted=  0.150739503368 expected=  0.1323\n",
      "predicted=  0.13874618574 expected=  0.1399\n",
      "predicted=  0.151077844367 expected=  0.1474\n",
      "predicted=  0.163466023378 expected=  0.1647\n",
      "predicted=  0.190348661019 expected=  0.1822\n",
      "predicted=  0.187471477436 expected=  0.2191\n",
      "predicted=  0.209147805548 expected=  0.1958\n",
      "predicted=  0.195886480924 expected=  0.2026\n",
      "predicted=  0.192599208974 expected=  0.1991\n",
      "predicted=  0.194064130545 expected=  0.1857\n",
      "predicted=  0.180741345879 expected=  0.1922\n",
      "predicted=  0.182262714746 expected=  0.1787\n",
      "predicted=  0.173860103365 expected=  0.1753\n",
      "predicted=  0.170411058969 expected=  0.1719\n"
     ]
    },
    {
     "name": "stderr",
     "output_type": "stream",
     "text": [
      "D:\\anaconda_py3\\python3\\envs\\tensorflow2\\lib\\site-packages\\statsmodels\\base\\model.py:496: ConvergenceWarning: Maximum Likelihood optimization failed to converge. Check mle_retvals\n",
      "  \"Check mle_retvals\", ConvergenceWarning)\n"
     ]
    },
    {
     "name": "stdout",
     "output_type": "stream",
     "text": [
      "predicted=  0.17194705277 expected=  0.1683\n",
      "predicted=  0.178285991454 expected=  0.1748\n",
      "predicted=  0.184569530409 expected=  0.1912\n",
      "predicted=  0.185784852369 expected=  0.1974\n",
      "predicted=  0.201708280598 expected=  0.1834\n",
      "predicted=  0.182957414332 expected=  0.2093\n",
      "predicted=  0.198837741149 expected=  0.1855\n",
      "predicted=  0.185083682397 expected=  0.1916\n",
      "predicted=  0.191027636507 expected=  0.1877\n",
      "predicted=  0.187241817268 expected=  0.1936\n",
      "predicted=  0.188214185742 expected=  0.1898\n",
      "predicted=  0.184451595582 expected=  0.1859\n",
      "predicted=  0.175645525489 expected=  0.1821\n",
      "predicted=  0.166715782395 expected=  0.1682\n",
      "predicted=  0.167687840395 expected=  0.1541\n",
      "predicted=  0.153624827103 expected=  0.1699\n",
      "predicted=  0.169262015172 expected=  0.1557\n",
      "predicted=  0.165037754004 expected=  0.1714\n",
      "predicted=  0.170732973504 expected=  0.1771\n",
      "predicted=  0.171622585756 expected=  0.1729\n",
      "predicted=  0.167662286646 expected=  0.1689\n",
      "predicted=  0.158628506759 expected=  0.1651\n",
      "predicted=  0.149870141589 expected=  0.151\n",
      "predicted=  0.145744448251 expected=  0.137\n",
      "predicted=  0.122095830316 expected=  0.1429\n",
      "predicted=  0.128061208639 expected=  0.1092\n",
      "predicted=  0.119133122753 expected=  0.1153\n",
      "predicted=  0.11518106804 expected=  0.1311\n",
      "predicted=  0.120943953424 expected=  0.1169\n",
      "predicted=  0.097506018072 expected=  0.1128\n"
     ]
    },
    {
     "name": "stderr",
     "output_type": "stream",
     "text": [
      "D:\\anaconda_py3\\python3\\envs\\tensorflow2\\lib\\site-packages\\statsmodels\\base\\model.py:496: ConvergenceWarning: Maximum Likelihood optimization failed to converge. Check mle_retvals\n",
      "  \"Check mle_retvals\", ConvergenceWarning)\n"
     ]
    },
    {
     "name": "stdout",
     "output_type": "stream",
     "text": [
      "predicted=  0.11376465494 expected=  0.0797\n",
      "predicted=  0.0912314005816 expected=  0.1166\n",
      "predicted=  0.108330162417 expected=  0.1042\n",
      "predicted=  0.105821707995 expected=  0.1018\n",
      "predicted=  0.108489549957 expected=  0.1092\n",
      "predicted=  0.106228697042 expected=  0.117\n",
      "predicted=  0.104282298863 expected=  0.105\n",
      "predicted=  0.0973385824719 expected=  0.0932\n",
      "predicted=  0.0956108295551 expected=  0.0913\n",
      "predicted=  0.0889376631818 expected=  0.0996\n",
      "predicted=  0.101894639142 expected=  0.088\n",
      "predicted=  0.0851468397868 expected=  0.1058\n",
      "predicted=  0.0978038780636 expected=  0.0837\n",
      "predicted=  0.0808273046766 expected=  0.0914\n",
      "predicted=  0.0933960982393 expected=  0.0793\n",
      "predicted=  0.0713939367248 expected=  0.0969\n",
      "predicted=  0.0839613915429 expected=  0.0647\n",
      "predicted=  0.0619990375312 expected=  0.0724\n",
      "predicted=  0.074630272309 expected=  0.0603\n",
      "predicted=  0.0675655584359 expected=  0.078\n",
      "predicted=  0.0803514651046 expected=  0.076\n",
      "predicted=  0.0783145577513 expected=  0.084\n",
      "predicted=  0.0812129681359 expected=  0.0819\n",
      "predicted=  0.0742059404398 expected=  0.0798\n",
      "predicted=  0.0770619038315 expected=  0.0677\n",
      "predicted=  0.0602144771937 expected=  0.0756\n",
      "predicted=  0.0681909139617 expected=  0.0537\n",
      "predicted=  0.0566063671637 expected=  0.0619\n",
      "predicted=  0.064760722266 expected=  0.0604\n",
      "predicted=  0.0581956998067 expected=  0.0687\n",
      "predicted=  0.0613396812966 expected=  0.0569\n",
      "predicted=  0.0545178567989 expected=  0.055\n",
      "predicted=  0.057432158851 expected=  0.053\n",
      "predicted=  0.0555036112582 expected=  0.0609\n",
      "predicted=  0.0533890812347 expected=  0.0589\n",
      "predicted=  0.0562770560876 expected=  0.0468\n",
      "predicted=  0.0344453554087 expected=  0.0546\n",
      "predicted=  0.042127480358 expected=  0.0226\n",
      "predicted=  0.0350963746599 expected=  0.0303\n",
      "predicted=  0.0529170074682 expected=  0.0482\n",
      "predicted=  0.0608078453115 expected=  0.0764\n",
      "predicted=  0.0786628232767 expected=  0.0744\n"
     ]
    },
    {
     "name": "stderr",
     "output_type": "stream",
     "text": [
      "D:\\anaconda_py3\\python3\\envs\\tensorflow2\\lib\\site-packages\\statsmodels\\base\\model.py:496: ConvergenceWarning: Maximum Likelihood optimization failed to converge. Check mle_retvals\n",
      "  \"Check mle_retvals\", ConvergenceWarning)\n"
     ]
    },
    {
     "name": "stdout",
     "output_type": "stream",
     "text": [
      "predicted=  0.0864347589323 expected=  0.0822\n",
      "predicted=  0.0892699322787 expected=  0.0999\n",
      "predicted=  0.101888924689 expected=  0.0978\n",
      "predicted=  0.104682274074 expected=  0.1055\n",
      "predicted=  0.102570150708 expected=  0.1133\n",
      "predicted=  0.100477331451 expected=  0.1013\n",
      "predicted=  0.0936567750206 expected=  0.0893\n",
      "predicted=  0.091804885887 expected=  0.0875\n",
      "predicted=  0.0998490151168 expected=  0.0958\n",
      "predicted=  0.0930947197975 expected=  0.1138\n",
      "predicted=  0.10110039651 expected=  0.092\n",
      "predicted=  0.0893186867375 expected=  0.09\n",
      "predicted=  0.0921939519042 expected=  0.088\n",
      "predicted=  0.0949471919648 expected=  0.0959\n",
      "predicted=  0.107490586696 expected=  0.1034\n",
      "\n",
      "\n",
      "Printing Mean Squared Error of Predictions...\n",
      "Test MSE:  0.000162449026825\n"
     ]
    }
   ],
   "source": [
    "\n",
    "predictions = []\n",
    "phis = []\n",
    "sigmas = []\n",
    "train_temp = list(train_one_year)+list(test_one_year)\n",
    "print('Printing Predicted vs Expected Values...')\n",
    "print('\\n')\n",
    "for t in range(len(test_one_year)-1):\n",
    "    phi,sigma,prediction = gibbs_sampling(2100,train_temp,len(train_one_year)+t,1)\n",
    "    yhat = np.mean(np.array(prediction)[100:]) #discard first 100 iterations\n",
    "    phi = np.mean(np.array(phi)[100:])\n",
    "    sigma = np.mean(np.array(sigma)[100:])\n",
    "    \n",
    "    predictions.append(yhat)\n",
    "    phis.append(phi)\n",
    "    sigmas.append(sigma)\n",
    "    print('predicted= ',yhat, 'expected= ',train_temp[len(train_one_year)+t])\n",
    "\n",
    "error = mean_squared_error(list(test_one_year)[:-1], predictions)\n",
    "\n",
    "print('\\n')\n",
    "print('Printing Mean Squared Error of Predictions...')\n",
    "print('Test MSE: ' , error)\n",
    "\n",
    "#predictions_series = pd.Series(predictions, index = test.index)"
   ]
  },
  {
   "cell_type": "code",
   "execution_count": 102,
   "metadata": {},
   "outputs": [
    {
     "name": "stdout",
     "output_type": "stream",
     "text": [
      "RMSE:  0.0127455492948\n",
      "R sq:  0.993953804648\n"
     ]
    },
    {
     "name": "stderr",
     "output_type": "stream",
     "text": [
      "D:\\anaconda_py3\\python3\\envs\\tensorflow2\\lib\\site-packages\\ipykernel_launcher.py:3: FutureWarning: pd.rolling_mean is deprecated for DataFrame and will be removed in a future version, replace with \n",
      "\tDataFrame.rolling(center=False,window=100).mean()\n",
      "  This is separate from the ipykernel package so we can avoid doing imports until\n"
     ]
    }
   ],
   "source": [
    "#Add back previous 100 days rolling means to get actual value of predictions. Then compute RMSE\n",
    "\n",
    "pred_actual = predictions+pd.rolling_mean((data_after_2000),100).loc[test_one_year.index[0]:test_one_year.index[-2]]['RIFLGFCY01_N.B']\n",
    "#test_one_year[:-1]+pd.rolling_mean((data_after_2000),100).loc[test_one_year.index[0]:test_one_year.index[-2]]['RIFLGFCY01_N.B']\n",
    "test_one_year_actual = data_after_2000.loc[test_one_year.index[0]:test_one_year.index[-2]]['RIFLGFCY01_N.B']\n",
    "print('RMSE: ', np.sqrt(mean_squared_error(test_one_year_actual, pred_actual)))\n",
    "print('R sq: ',r2_score(test_one_year_actual,pred_actual))"
   ]
  },
  {
   "cell_type": "code",
   "execution_count": 154,
   "metadata": {},
   "outputs": [
    {
     "name": "stdout",
     "output_type": "stream",
     "text": [
      "RMSE:  0.0127455492948\n",
      "R sq:  0.993953804648\n"
     ]
    },
    {
     "data": {
      "image/png": "[encoded data removed]",
      "text/plain": [
       "<matplotlib.figure.Figure at 0x2307f546c88>"
      ]
     },
     "metadata": {},
     "output_type": "display_data"
    }
   ],
   "source": [
    "orig = plt.plot(test_one_year_actual,label='Original')\n",
    "pred = plt.plot(pred_actual,label='Prediction')\n",
    "plt.xticks(rotation=70)\n",
    "plt.legend(loc='best')\n",
    "plt.title('Prediction from MCMC vs Original')\n",
    "print('RMSE: ', np.sqrt(mean_squared_error(test_one_year_actual, pred_actual)))\n",
    "print('R sq: ',r2_score(test_one_year_actual,pred_actual))\n",
    "plt.show()\n",
    "plt.rcParams[\"figure.figsize\"] = (20,6)"
   ]
  },
  {
   "cell_type": "code",
   "execution_count": null,
   "metadata": {},
   "outputs": [],
   "source": []
  },
  {
   "cell_type": "markdown",
   "metadata": {},
   "source": [
    "\n",
    "phi_gibbs = plt.plot(np.array(phis))\n",
    "phi_mle = plt.plot(0.99246338*np.ones(len(phis)))\n",
    "plt.ylim(ymin = 0.992,ymax=0.994)\n",
    "plt.show()"
   ]
  },
  {
   "cell_type": "code",
   "execution_count": null,
   "metadata": {},
   "outputs": [],
   "source": []
  },
  {
   "cell_type": "code",
   "execution_count": 127,
   "metadata": {},
   "outputs": [
    {
     "name": "stdout",
     "output_type": "stream",
     "text": [
      "Maximum Likelihood Estimate of φ:  0.992463381725\n"
     ]
    }
   ],
   "source": [
    "model = ARIMA(train_temp, order=(1,0,0))\n",
    "model_fit = model.fit(trend='nc')\n",
    "print('Maximum Likelihood Estimate of φ: ',model_fit.arparams[0])"
   ]
  },
  {
   "cell_type": "code",
   "execution_count": 128,
   "metadata": {},
   "outputs": [
    {
     "name": "stdout",
     "output_type": "stream",
     "text": [
      "Gibbs Sampling Estimate of φ：  0.992648548843\n"
     ]
    }
   ],
   "source": [
    "print('Gibbs Sampling Estimate of φ： ', np.array(phis).mean())"
   ]
  },
  {
   "cell_type": "code",
   "execution_count": 130,
   "metadata": {},
   "outputs": [
    {
     "name": "stdout",
     "output_type": "stream",
     "text": [
      "Maximum Likelihood Estimate of σ^2:  0.00152891783311\n"
     ]
    }
   ],
   "source": [
    "print('Maximum Likelihood Estimate of σ^2: ',model_fit.sigma2)"
   ]
  },
  {
   "cell_type": "code",
   "execution_count": 131,
   "metadata": {},
   "outputs": [
    {
     "name": "stdout",
     "output_type": "stream",
     "text": [
      "Gibbs Sampling Estimate of σ^2：  0.00163664750535\n"
     ]
    }
   ],
   "source": [
    "print('Gibbs Sampling Estimate of σ^2： ', np.array(sigmas).mean())"
   ]
  },
  {
   "cell_type": "code",
   "execution_count": null,
   "metadata": {
    "collapsed": true
   },
   "outputs": [],
   "source": []
  },
  {
   "cell_type": "code",
   "execution_count": null,
   "metadata": {
    "collapsed": true
   },
   "outputs": [],
   "source": []
  },
  {
   "cell_type": "code",
   "execution_count": null,
   "metadata": {},
   "outputs": [],
   "source": []
  },
  {
   "cell_type": "code",
   "execution_count": null,
   "metadata": {},
   "outputs": [],
   "source": []
  },
  {
   "cell_type": "code",
   "execution_count": null,
   "metadata": {},
   "outputs": [],
   "source": []
  },
  {
   "cell_type": "code",
   "execution_count": null,
   "metadata": {
    "collapsed": true
   },
   "outputs": [],
   "source": []
  },
  {
   "cell_type": "code",
   "execution_count": null,
   "metadata": {
    "collapsed": true
   },
   "outputs": [],
   "source": []
  }
 ],
 "metadata": {
  "kernelspec": {
   "display_name": "Python 3",
   "language": "python",
   "name": "python3"
  },
  "language_info": {
   "codemirror_mode": {
    "name": "ipython",
    "version": 3
   },
   "file_extension": ".py",
   "mimetype": "text/x-python",
   "name": "python",
   "nbconvert_exporter": "python",
   "pygments_lexer": "ipython3",
   "version": "3.5.3"
  }
 },
 "nbformat": 4,
 "nbformat_minor": 2
}
