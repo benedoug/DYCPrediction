{
 "cells": [
  {
   "cell_type": "code",
   "execution_count": 1,
   "metadata": {
    "collapsed": false
   },
   "outputs": [],
   "source": [
    "import numpy as np\n",
    "import pandas as pd\n",
    "from scipy.stats import linregress\n",
    "from scipy.signal import savgol_filter\n",
    "import matplotlib.pyplot as plt\n",
    "from sklearn.ensemble import RandomForestRegressor\n",
    "from sklearn.model_selection import train_test_split\n",
    "from sklearn.metrics import r2_score,mean_squared_error\n",
    "from datetime import datetime\n",
    "%matplotlib inline\n"
   ]
  },
  {
   "cell_type": "code",
   "execution_count": 2,
   "metadata": {
    "collapsed": false
   },
   "outputs": [],
   "source": [
    "yield_data = pd.read_csv('FRB_H15.csv').replace('ND',np.nan).dropna(axis=0,how='any')\n",
    "yield_data['Time Period'] = pd.to_datetime(yield_data['Time Period'])\n",
    "yield_data['Day of week'] = yield_data['Time Period'].dt.dayofweek\n",
    "#derive is weekend\n",
    "yield_data['IS_WEEKEND'] = 1\n",
    "weekend = yield_data['IS_WEEKEND'].copy()\n",
    "weekend[(yield_data['Day of week'] != 5) & (yield_data['Day of week'] != 6)] = 0\n",
    "yield_data['IS_WEEKEND'] = weekend\n",
    "yield_data.set_index('Time Period',inplace=True)\n",
    "yield_data.index.name = None\n",
    "#kickout weekend data\n",
    "yield_data=yield_data.query('IS_WEEKEND==0')\n",
    "#cut off data 2010 onwards,but for rolling window of 30 we need '09 dec data\n",
    "yield_data = yield_data[yield_data.index >'2009-11-30']\n"
   ]
  },
  {
   "cell_type": "markdown",
   "metadata": {},
   "source": [
    "** Use [Savitzky–Golay filter](https://en.wikipedia.org/wiki/Savitzky%E2%80%93Golay_filter) to smooth the series(get rid of peaks in Monday and Friday). I use rolling window of 15 and power of 3 **"
   ]
  },
  {
   "cell_type": "code",
   "execution_count": 3,
   "metadata": {
    "collapsed": false
   },
   "outputs": [
    {
     "data": {
      "text/html": [
       "<div>\n",
       "<style scoped>\n",
       "    .dataframe tbody tr th:only-of-type {\n",
       "        vertical-align: middle;\n",
       "    }\n",
       "\n",
       "    .dataframe tbody tr th {\n",
       "        vertical-align: top;\n",
       "    }\n",
       "\n",
       "    .dataframe thead th {\n",
       "        text-align: right;\n",
       "    }\n",
       "</style>\n",
       "<table border=\"1\" class=\"dataframe\">\n",
       "  <thead>\n",
       "    <tr style=\"text-align: right;\">\n",
       "      <th></th>\n",
       "      <th>1-month</th>\n",
       "      <th>3-month</th>\n",
       "      <th>6-month</th>\n",
       "      <th>1-year</th>\n",
       "      <th>2-year</th>\n",
       "      <th>3-year</th>\n",
       "      <th>5-year</th>\n",
       "      <th>7-year</th>\n",
       "      <th>10-year</th>\n",
       "      <th>20-year</th>\n",
       "      <th>30-year</th>\n",
       "    </tr>\n",
       "  </thead>\n",
       "  <tbody>\n",
       "    <tr>\n",
       "      <th>2009-12-01</th>\n",
       "      <td>0.100098</td>\n",
       "      <td>0.061363</td>\n",
       "      <td>0.153196</td>\n",
       "      <td>0.271778</td>\n",
       "      <td>0.687016</td>\n",
       "      <td>1.160258</td>\n",
       "      <td>2.054386</td>\n",
       "      <td>2.757788</td>\n",
       "      <td>3.284833</td>\n",
       "      <td>4.120350</td>\n",
       "      <td>4.238709</td>\n",
       "    </tr>\n",
       "    <tr>\n",
       "      <th>2009-12-02</th>\n",
       "      <td>0.086674</td>\n",
       "      <td>0.056951</td>\n",
       "      <td>0.154331</td>\n",
       "      <td>0.284103</td>\n",
       "      <td>0.716897</td>\n",
       "      <td>1.195020</td>\n",
       "      <td>2.092698</td>\n",
       "      <td>2.809209</td>\n",
       "      <td>3.335632</td>\n",
       "      <td>4.177983</td>\n",
       "      <td>4.290404</td>\n",
       "    </tr>\n",
       "    <tr>\n",
       "      <th>2009-12-03</th>\n",
       "      <td>0.073826</td>\n",
       "      <td>0.052056</td>\n",
       "      <td>0.155113</td>\n",
       "      <td>0.295601</td>\n",
       "      <td>0.741628</td>\n",
       "      <td>1.222619</td>\n",
       "      <td>2.124901</td>\n",
       "      <td>2.851474</td>\n",
       "      <td>3.378137</td>\n",
       "      <td>4.225860</td>\n",
       "      <td>4.334141</td>\n",
       "    </tr>\n",
       "    <tr>\n",
       "      <th>2009-12-04</th>\n",
       "      <td>0.061699</td>\n",
       "      <td>0.047002</td>\n",
       "      <td>0.155626</td>\n",
       "      <td>0.306321</td>\n",
       "      <td>0.761818</td>\n",
       "      <td>1.244129</td>\n",
       "      <td>2.151963</td>\n",
       "      <td>2.885915</td>\n",
       "      <td>3.413430</td>\n",
       "      <td>4.265017</td>\n",
       "      <td>4.370661</td>\n",
       "    </tr>\n",
       "    <tr>\n",
       "      <th>2009-12-07</th>\n",
       "      <td>0.050435</td>\n",
       "      <td>0.042114</td>\n",
       "      <td>0.155952</td>\n",
       "      <td>0.316311</td>\n",
       "      <td>0.778075</td>\n",
       "      <td>1.260623</td>\n",
       "      <td>2.174851</td>\n",
       "      <td>2.913866</td>\n",
       "      <td>3.442595</td>\n",
       "      <td>4.296487</td>\n",
       "      <td>4.400707</td>\n",
       "    </tr>\n",
       "  </tbody>\n",
       "</table>\n",
       "</div>"
      ],
      "text/plain": [
       "             1-month   3-month   6-month    1-year    2-year    3-year  \\\n",
       "2009-12-01  0.100098  0.061363  0.153196  0.271778  0.687016  1.160258   \n",
       "2009-12-02  0.086674  0.056951  0.154331  0.284103  0.716897  1.195020   \n",
       "2009-12-03  0.073826  0.052056  0.155113  0.295601  0.741628  1.222619   \n",
       "2009-12-04  0.061699  0.047002  0.155626  0.306321  0.761818  1.244129   \n",
       "2009-12-07  0.050435  0.042114  0.155952  0.316311  0.778075  1.260623   \n",
       "\n",
       "              5-year    7-year   10-year   20-year   30-year  \n",
       "2009-12-01  2.054386  2.757788  3.284833  4.120350  4.238709  \n",
       "2009-12-02  2.092698  2.809209  3.335632  4.177983  4.290404  \n",
       "2009-12-03  2.124901  2.851474  3.378137  4.225860  4.334141  \n",
       "2009-12-04  2.151963  2.885915  3.413430  4.265017  4.370661  \n",
       "2009-12-07  2.174851  2.913866  3.442595  4.296487  4.400707  "
      ]
     },
     "execution_count": 3,
     "metadata": {},
     "output_type": "execute_result"
    }
   ],
   "source": [
    "##savgol_filter polynomial filter\n",
    "yield_data_filtered = pd.DataFrame(savgol_filter(np.array(yield_data.iloc[:,:11]).transpose(),15,3).transpose())\n",
    "yield_data_filtered.columns = yield_data.iloc[:,:11].columns\n",
    "yield_data_filtered.index = yield_data.index\n",
    "yield_data_filtered.head()\n"
   ]
  },
  {
   "cell_type": "markdown",
   "metadata": {},
   "source": [
    "FIRST ORDER DIFFERENCING"
   ]
  },
  {
   "cell_type": "code",
   "execution_count": 4,
   "metadata": {
    "collapsed": false
   },
   "outputs": [],
   "source": [
    "#yield_data_filtered = yield_data_filtered.diff()[1:]"
   ]
  },
  {
   "cell_type": "markdown",
   "metadata": {},
   "source": [
    "**Define a rolling window function that calculate following statistic for one column:**  \n",
    "1.Mean  \n",
    "2.Standard Deviation  \n",
    "3.Median  \n",
    "4.Min  \n",
    "5.Max  \n",
    "6.Rooted Mean Square  \n",
    "7.[Crest Factor](https://en.wikipedia.org/wiki/Crest_factor)  \n",
    "8.[Zero-crossing Rate](https://en.wikipedia.org/wiki/Zero-crossing_rate)(here is Mean-crossing Rate)  \n",
    "9.Trend(Slope of linear regression)"
   ]
  },
  {
   "cell_type": "code",
   "execution_count": 5,
   "metadata": {
    "collapsed": true
   },
   "outputs": [],
   "source": [
    "def rolling_method(df,col,window):\n",
    "    method = ['mean','std','median','min','max']\n",
    "    a = df[col].rolling(window=window)\n",
    "    b = pd.concat([getattr(a,k)() for k in method],axis=1)\n",
    "    b.columns  = method\n",
    "    #b['RMS'] = a.apply(lambda y: np.sqrt(np.mean(y**2)))\n",
    "    #b['crest'] = 0.5*(b['max']-b['min'])/b['RMS']\n",
    "    #b['crossing'] = a.apply(lambda y: len(np.where(np.diff(y - np.mean(y)))[0]))/window\n",
    "    #b['slope'] = a.apply(lambda y: linregress(range(window),y)[0])\n",
    "    b.columns = [col + '_'+ k +'_'+str(window)+'day' \n",
    "                 for k in ['mean','std','median','min','max'#,'RMS','crest','crossing','slope'\n",
    "                          ]]\n",
    "    return b"
   ]
  },
  {
   "cell_type": "code",
   "execution_count": 6,
   "metadata": {
    "collapsed": false
   },
   "outputs": [
    {
     "data": {
      "text/html": [
       "<div>\n",
       "<style scoped>\n",
       "    .dataframe tbody tr th:only-of-type {\n",
       "        vertical-align: middle;\n",
       "    }\n",
       "\n",
       "    .dataframe tbody tr th {\n",
       "        vertical-align: top;\n",
       "    }\n",
       "\n",
       "    .dataframe thead th {\n",
       "        text-align: right;\n",
       "    }\n",
       "</style>\n",
       "<table border=\"1\" class=\"dataframe\">\n",
       "  <thead>\n",
       "    <tr style=\"text-align: right;\">\n",
       "      <th></th>\n",
       "      <th>1-month_mean_3day</th>\n",
       "      <th>1-month_std_3day</th>\n",
       "      <th>1-month_median_3day</th>\n",
       "      <th>1-month_min_3day</th>\n",
       "      <th>1-month_max_3day</th>\n",
       "      <th>1-month_mean_7day</th>\n",
       "      <th>1-month_std_7day</th>\n",
       "      <th>1-month_median_7day</th>\n",
       "      <th>1-month_min_7day</th>\n",
       "      <th>1-month_max_7day</th>\n",
       "      <th>...</th>\n",
       "      <th>30-year_mean_15day</th>\n",
       "      <th>30-year_std_15day</th>\n",
       "      <th>30-year_median_15day</th>\n",
       "      <th>30-year_min_15day</th>\n",
       "      <th>30-year_max_15day</th>\n",
       "      <th>30-year_mean_20day</th>\n",
       "      <th>30-year_std_20day</th>\n",
       "      <th>30-year_median_20day</th>\n",
       "      <th>30-year_min_20day</th>\n",
       "      <th>30-year_max_20day</th>\n",
       "    </tr>\n",
       "  </thead>\n",
       "  <tbody>\n",
       "    <tr>\n",
       "      <th>2009-12-01</th>\n",
       "      <td>NaN</td>\n",
       "      <td>NaN</td>\n",
       "      <td>NaN</td>\n",
       "      <td>NaN</td>\n",
       "      <td>NaN</td>\n",
       "      <td>NaN</td>\n",
       "      <td>NaN</td>\n",
       "      <td>NaN</td>\n",
       "      <td>NaN</td>\n",
       "      <td>NaN</td>\n",
       "      <td>...</td>\n",
       "      <td>NaN</td>\n",
       "      <td>NaN</td>\n",
       "      <td>NaN</td>\n",
       "      <td>NaN</td>\n",
       "      <td>NaN</td>\n",
       "      <td>NaN</td>\n",
       "      <td>NaN</td>\n",
       "      <td>NaN</td>\n",
       "      <td>NaN</td>\n",
       "      <td>NaN</td>\n",
       "    </tr>\n",
       "    <tr>\n",
       "      <th>2009-12-02</th>\n",
       "      <td>NaN</td>\n",
       "      <td>NaN</td>\n",
       "      <td>NaN</td>\n",
       "      <td>NaN</td>\n",
       "      <td>NaN</td>\n",
       "      <td>NaN</td>\n",
       "      <td>NaN</td>\n",
       "      <td>NaN</td>\n",
       "      <td>NaN</td>\n",
       "      <td>NaN</td>\n",
       "      <td>...</td>\n",
       "      <td>NaN</td>\n",
       "      <td>NaN</td>\n",
       "      <td>NaN</td>\n",
       "      <td>NaN</td>\n",
       "      <td>NaN</td>\n",
       "      <td>NaN</td>\n",
       "      <td>NaN</td>\n",
       "      <td>NaN</td>\n",
       "      <td>NaN</td>\n",
       "      <td>NaN</td>\n",
       "    </tr>\n",
       "    <tr>\n",
       "      <th>2009-12-03</th>\n",
       "      <td>NaN</td>\n",
       "      <td>NaN</td>\n",
       "      <td>NaN</td>\n",
       "      <td>NaN</td>\n",
       "      <td>NaN</td>\n",
       "      <td>NaN</td>\n",
       "      <td>NaN</td>\n",
       "      <td>NaN</td>\n",
       "      <td>NaN</td>\n",
       "      <td>NaN</td>\n",
       "      <td>...</td>\n",
       "      <td>NaN</td>\n",
       "      <td>NaN</td>\n",
       "      <td>NaN</td>\n",
       "      <td>NaN</td>\n",
       "      <td>NaN</td>\n",
       "      <td>NaN</td>\n",
       "      <td>NaN</td>\n",
       "      <td>NaN</td>\n",
       "      <td>NaN</td>\n",
       "      <td>NaN</td>\n",
       "    </tr>\n",
       "    <tr>\n",
       "      <th>2009-12-04</th>\n",
       "      <td>NaN</td>\n",
       "      <td>NaN</td>\n",
       "      <td>NaN</td>\n",
       "      <td>NaN</td>\n",
       "      <td>NaN</td>\n",
       "      <td>NaN</td>\n",
       "      <td>NaN</td>\n",
       "      <td>NaN</td>\n",
       "      <td>NaN</td>\n",
       "      <td>NaN</td>\n",
       "      <td>...</td>\n",
       "      <td>NaN</td>\n",
       "      <td>NaN</td>\n",
       "      <td>NaN</td>\n",
       "      <td>NaN</td>\n",
       "      <td>NaN</td>\n",
       "      <td>NaN</td>\n",
       "      <td>NaN</td>\n",
       "      <td>NaN</td>\n",
       "      <td>NaN</td>\n",
       "      <td>NaN</td>\n",
       "    </tr>\n",
       "    <tr>\n",
       "      <th>2009-12-07</th>\n",
       "      <td>NaN</td>\n",
       "      <td>NaN</td>\n",
       "      <td>NaN</td>\n",
       "      <td>NaN</td>\n",
       "      <td>NaN</td>\n",
       "      <td>NaN</td>\n",
       "      <td>NaN</td>\n",
       "      <td>NaN</td>\n",
       "      <td>NaN</td>\n",
       "      <td>NaN</td>\n",
       "      <td>...</td>\n",
       "      <td>NaN</td>\n",
       "      <td>NaN</td>\n",
       "      <td>NaN</td>\n",
       "      <td>NaN</td>\n",
       "      <td>NaN</td>\n",
       "      <td>NaN</td>\n",
       "      <td>NaN</td>\n",
       "      <td>NaN</td>\n",
       "      <td>NaN</td>\n",
       "      <td>NaN</td>\n",
       "    </tr>\n",
       "    <tr>\n",
       "      <th>2009-12-08</th>\n",
       "      <td>NaN</td>\n",
       "      <td>NaN</td>\n",
       "      <td>NaN</td>\n",
       "      <td>NaN</td>\n",
       "      <td>NaN</td>\n",
       "      <td>NaN</td>\n",
       "      <td>NaN</td>\n",
       "      <td>NaN</td>\n",
       "      <td>NaN</td>\n",
       "      <td>NaN</td>\n",
       "      <td>...</td>\n",
       "      <td>NaN</td>\n",
       "      <td>NaN</td>\n",
       "      <td>NaN</td>\n",
       "      <td>NaN</td>\n",
       "      <td>NaN</td>\n",
       "      <td>NaN</td>\n",
       "      <td>NaN</td>\n",
       "      <td>NaN</td>\n",
       "      <td>NaN</td>\n",
       "      <td>NaN</td>\n",
       "    </tr>\n",
       "    <tr>\n",
       "      <th>2009-12-09</th>\n",
       "      <td>NaN</td>\n",
       "      <td>NaN</td>\n",
       "      <td>NaN</td>\n",
       "      <td>NaN</td>\n",
       "      <td>NaN</td>\n",
       "      <td>NaN</td>\n",
       "      <td>NaN</td>\n",
       "      <td>NaN</td>\n",
       "      <td>NaN</td>\n",
       "      <td>NaN</td>\n",
       "      <td>...</td>\n",
       "      <td>NaN</td>\n",
       "      <td>NaN</td>\n",
       "      <td>NaN</td>\n",
       "      <td>NaN</td>\n",
       "      <td>NaN</td>\n",
       "      <td>NaN</td>\n",
       "      <td>NaN</td>\n",
       "      <td>NaN</td>\n",
       "      <td>NaN</td>\n",
       "      <td>NaN</td>\n",
       "    </tr>\n",
       "    <tr>\n",
       "      <th>2009-12-10</th>\n",
       "      <td>NaN</td>\n",
       "      <td>NaN</td>\n",
       "      <td>NaN</td>\n",
       "      <td>NaN</td>\n",
       "      <td>NaN</td>\n",
       "      <td>NaN</td>\n",
       "      <td>NaN</td>\n",
       "      <td>NaN</td>\n",
       "      <td>NaN</td>\n",
       "      <td>NaN</td>\n",
       "      <td>...</td>\n",
       "      <td>NaN</td>\n",
       "      <td>NaN</td>\n",
       "      <td>NaN</td>\n",
       "      <td>NaN</td>\n",
       "      <td>NaN</td>\n",
       "      <td>NaN</td>\n",
       "      <td>NaN</td>\n",
       "      <td>NaN</td>\n",
       "      <td>NaN</td>\n",
       "      <td>NaN</td>\n",
       "    </tr>\n",
       "    <tr>\n",
       "      <th>2009-12-11</th>\n",
       "      <td>NaN</td>\n",
       "      <td>NaN</td>\n",
       "      <td>NaN</td>\n",
       "      <td>NaN</td>\n",
       "      <td>NaN</td>\n",
       "      <td>NaN</td>\n",
       "      <td>NaN</td>\n",
       "      <td>NaN</td>\n",
       "      <td>NaN</td>\n",
       "      <td>NaN</td>\n",
       "      <td>...</td>\n",
       "      <td>NaN</td>\n",
       "      <td>NaN</td>\n",
       "      <td>NaN</td>\n",
       "      <td>NaN</td>\n",
       "      <td>NaN</td>\n",
       "      <td>NaN</td>\n",
       "      <td>NaN</td>\n",
       "      <td>NaN</td>\n",
       "      <td>NaN</td>\n",
       "      <td>NaN</td>\n",
       "    </tr>\n",
       "    <tr>\n",
       "      <th>2009-12-14</th>\n",
       "      <td>NaN</td>\n",
       "      <td>NaN</td>\n",
       "      <td>NaN</td>\n",
       "      <td>NaN</td>\n",
       "      <td>NaN</td>\n",
       "      <td>NaN</td>\n",
       "      <td>NaN</td>\n",
       "      <td>NaN</td>\n",
       "      <td>NaN</td>\n",
       "      <td>NaN</td>\n",
       "      <td>...</td>\n",
       "      <td>NaN</td>\n",
       "      <td>NaN</td>\n",
       "      <td>NaN</td>\n",
       "      <td>NaN</td>\n",
       "      <td>NaN</td>\n",
       "      <td>NaN</td>\n",
       "      <td>NaN</td>\n",
       "      <td>NaN</td>\n",
       "      <td>NaN</td>\n",
       "      <td>NaN</td>\n",
       "    </tr>\n",
       "  </tbody>\n",
       "</table>\n",
       "<p>10 rows × 220 columns</p>\n",
       "</div>"
      ],
      "text/plain": [
       "            1-month_mean_3day  1-month_std_3day  1-month_median_3day  \\\n",
       "2009-12-01                NaN               NaN                  NaN   \n",
       "2009-12-02                NaN               NaN                  NaN   \n",
       "2009-12-03                NaN               NaN                  NaN   \n",
       "2009-12-04                NaN               NaN                  NaN   \n",
       "2009-12-07                NaN               NaN                  NaN   \n",
       "2009-12-08                NaN               NaN                  NaN   \n",
       "2009-12-09                NaN               NaN                  NaN   \n",
       "2009-12-10                NaN               NaN                  NaN   \n",
       "2009-12-11                NaN               NaN                  NaN   \n",
       "2009-12-14                NaN               NaN                  NaN   \n",
       "\n",
       "            1-month_min_3day  1-month_max_3day  1-month_mean_7day  \\\n",
       "2009-12-01               NaN               NaN                NaN   \n",
       "2009-12-02               NaN               NaN                NaN   \n",
       "2009-12-03               NaN               NaN                NaN   \n",
       "2009-12-04               NaN               NaN                NaN   \n",
       "2009-12-07               NaN               NaN                NaN   \n",
       "2009-12-08               NaN               NaN                NaN   \n",
       "2009-12-09               NaN               NaN                NaN   \n",
       "2009-12-10               NaN               NaN                NaN   \n",
       "2009-12-11               NaN               NaN                NaN   \n",
       "2009-12-14               NaN               NaN                NaN   \n",
       "\n",
       "            1-month_std_7day  1-month_median_7day  1-month_min_7day  \\\n",
       "2009-12-01               NaN                  NaN               NaN   \n",
       "2009-12-02               NaN                  NaN               NaN   \n",
       "2009-12-03               NaN                  NaN               NaN   \n",
       "2009-12-04               NaN                  NaN               NaN   \n",
       "2009-12-07               NaN                  NaN               NaN   \n",
       "2009-12-08               NaN                  NaN               NaN   \n",
       "2009-12-09               NaN                  NaN               NaN   \n",
       "2009-12-10               NaN                  NaN               NaN   \n",
       "2009-12-11               NaN                  NaN               NaN   \n",
       "2009-12-14               NaN                  NaN               NaN   \n",
       "\n",
       "            1-month_max_7day        ...          30-year_mean_15day  \\\n",
       "2009-12-01               NaN        ...                         NaN   \n",
       "2009-12-02               NaN        ...                         NaN   \n",
       "2009-12-03               NaN        ...                         NaN   \n",
       "2009-12-04               NaN        ...                         NaN   \n",
       "2009-12-07               NaN        ...                         NaN   \n",
       "2009-12-08               NaN        ...                         NaN   \n",
       "2009-12-09               NaN        ...                         NaN   \n",
       "2009-12-10               NaN        ...                         NaN   \n",
       "2009-12-11               NaN        ...                         NaN   \n",
       "2009-12-14               NaN        ...                         NaN   \n",
       "\n",
       "            30-year_std_15day  30-year_median_15day  30-year_min_15day  \\\n",
       "2009-12-01                NaN                   NaN                NaN   \n",
       "2009-12-02                NaN                   NaN                NaN   \n",
       "2009-12-03                NaN                   NaN                NaN   \n",
       "2009-12-04                NaN                   NaN                NaN   \n",
       "2009-12-07                NaN                   NaN                NaN   \n",
       "2009-12-08                NaN                   NaN                NaN   \n",
       "2009-12-09                NaN                   NaN                NaN   \n",
       "2009-12-10                NaN                   NaN                NaN   \n",
       "2009-12-11                NaN                   NaN                NaN   \n",
       "2009-12-14                NaN                   NaN                NaN   \n",
       "\n",
       "            30-year_max_15day  30-year_mean_20day  30-year_std_20day  \\\n",
       "2009-12-01                NaN                 NaN                NaN   \n",
       "2009-12-02                NaN                 NaN                NaN   \n",
       "2009-12-03                NaN                 NaN                NaN   \n",
       "2009-12-04                NaN                 NaN                NaN   \n",
       "2009-12-07                NaN                 NaN                NaN   \n",
       "2009-12-08                NaN                 NaN                NaN   \n",
       "2009-12-09                NaN                 NaN                NaN   \n",
       "2009-12-10                NaN                 NaN                NaN   \n",
       "2009-12-11                NaN                 NaN                NaN   \n",
       "2009-12-14                NaN                 NaN                NaN   \n",
       "\n",
       "            30-year_median_20day  30-year_min_20day  30-year_max_20day  \n",
       "2009-12-01                   NaN                NaN                NaN  \n",
       "2009-12-02                   NaN                NaN                NaN  \n",
       "2009-12-03                   NaN                NaN                NaN  \n",
       "2009-12-04                   NaN                NaN                NaN  \n",
       "2009-12-07                   NaN                NaN                NaN  \n",
       "2009-12-08                   NaN                NaN                NaN  \n",
       "2009-12-09                   NaN                NaN                NaN  \n",
       "2009-12-10                   NaN                NaN                NaN  \n",
       "2009-12-11                   NaN                NaN                NaN  \n",
       "2009-12-14                   NaN                NaN                NaN  \n",
       "\n",
       "[10 rows x 220 columns]"
      ]
     },
     "execution_count": 6,
     "metadata": {},
     "output_type": "execute_result"
    }
   ],
   "source": [
    "yield_data_features=pd.concat([rolling_method(yield_data_filtered,i,j) \\\n",
    "                               for i in yield_data_filtered.columns[:11] \\\n",
    "                               for j in [3,7,15,20]],axis=1).shift(11) \n",
    "# 11 beacuse first shift 1 and then shift 10 as rolling window of 20 from 10th to 30th day\n",
    "yield_data_features.head(10)\n"
   ]
  },
  {
   "cell_type": "markdown",
   "metadata": {},
   "source": [
    "** Append the actual yield values and apply lag **"
   ]
  },
  {
   "cell_type": "code",
   "execution_count": 7,
   "metadata": {
    "collapsed": false
   },
   "outputs": [
    {
     "data": {
      "text/html": [
       "<div>\n",
       "<style scoped>\n",
       "    .dataframe tbody tr th:only-of-type {\n",
       "        vertical-align: middle;\n",
       "    }\n",
       "\n",
       "    .dataframe tbody tr th {\n",
       "        vertical-align: top;\n",
       "    }\n",
       "\n",
       "    .dataframe thead th {\n",
       "        text-align: right;\n",
       "    }\n",
       "</style>\n",
       "<table border=\"1\" class=\"dataframe\">\n",
       "  <thead>\n",
       "    <tr style=\"text-align: right;\">\n",
       "      <th></th>\n",
       "      <th>1-month_mean_3day</th>\n",
       "      <th>1-month_std_3day</th>\n",
       "      <th>1-month_median_3day</th>\n",
       "      <th>1-month_min_3day</th>\n",
       "      <th>1-month_max_3day</th>\n",
       "      <th>1-month_mean_7day</th>\n",
       "      <th>1-month_std_7day</th>\n",
       "      <th>1-month_median_7day</th>\n",
       "      <th>1-month_min_7day</th>\n",
       "      <th>1-month_max_7day</th>\n",
       "      <th>...</th>\n",
       "      <th>3-month_10</th>\n",
       "      <th>6-month_10</th>\n",
       "      <th>1-year_10</th>\n",
       "      <th>2-year_10</th>\n",
       "      <th>3-year_10</th>\n",
       "      <th>5-year_10</th>\n",
       "      <th>7-year_10</th>\n",
       "      <th>10-year_10</th>\n",
       "      <th>20-year_10</th>\n",
       "      <th>30-year_10</th>\n",
       "    </tr>\n",
       "  </thead>\n",
       "  <tbody>\n",
       "    <tr>\n",
       "      <th>2010-01-14</th>\n",
       "      <td>0.022769</td>\n",
       "      <td>0.004435</td>\n",
       "      <td>0.022860</td>\n",
       "      <td>0.018290</td>\n",
       "      <td>0.027158</td>\n",
       "      <td>0.017537</td>\n",
       "      <td>0.005568</td>\n",
       "      <td>0.014833</td>\n",
       "      <td>0.012579</td>\n",
       "      <td>0.027158</td>\n",
       "      <td>...</td>\n",
       "      <td>0.05</td>\n",
       "      <td>0.19</td>\n",
       "      <td>0.45</td>\n",
       "      <td>1.08</td>\n",
       "      <td>1.65</td>\n",
       "      <td>2.61</td>\n",
       "      <td>3.34</td>\n",
       "      <td>3.8</td>\n",
       "      <td>4.54</td>\n",
       "      <td>4.61</td>\n",
       "    </tr>\n",
       "    <tr>\n",
       "      <th>2010-01-15</th>\n",
       "      <td>0.026842</td>\n",
       "      <td>0.003833</td>\n",
       "      <td>0.027158</td>\n",
       "      <td>0.022860</td>\n",
       "      <td>0.030507</td>\n",
       "      <td>0.019903</td>\n",
       "      <td>0.007096</td>\n",
       "      <td>0.018290</td>\n",
       "      <td>0.012579</td>\n",
       "      <td>0.030507</td>\n",
       "      <td>...</td>\n",
       "      <td>0.06</td>\n",
       "      <td>0.2</td>\n",
       "      <td>0.47</td>\n",
       "      <td>1.14</td>\n",
       "      <td>1.7</td>\n",
       "      <td>2.69</td>\n",
       "      <td>3.39</td>\n",
       "      <td>3.85</td>\n",
       "      <td>4.58</td>\n",
       "      <td>4.63</td>\n",
       "    </tr>\n",
       "    <tr>\n",
       "      <th>2010-01-19</th>\n",
       "      <td>0.029729</td>\n",
       "      <td>0.002283</td>\n",
       "      <td>0.030507</td>\n",
       "      <td>0.027158</td>\n",
       "      <td>0.031520</td>\n",
       "      <td>0.022535</td>\n",
       "      <td>0.007552</td>\n",
       "      <td>0.022860</td>\n",
       "      <td>0.012579</td>\n",
       "      <td>0.031520</td>\n",
       "      <td>...</td>\n",
       "      <td>0.08</td>\n",
       "      <td>0.18</td>\n",
       "      <td>0.45</td>\n",
       "      <td>1.09</td>\n",
       "      <td>1.66</td>\n",
       "      <td>2.65</td>\n",
       "      <td>3.36</td>\n",
       "      <td>3.85</td>\n",
       "      <td>4.6</td>\n",
       "      <td>4.65</td>\n",
       "    </tr>\n",
       "    <tr>\n",
       "      <th>2010-01-20</th>\n",
       "      <td>0.031173</td>\n",
       "      <td>0.000578</td>\n",
       "      <td>0.031493</td>\n",
       "      <td>0.030507</td>\n",
       "      <td>0.031520</td>\n",
       "      <td>0.025237</td>\n",
       "      <td>0.006736</td>\n",
       "      <td>0.027158</td>\n",
       "      <td>0.014833</td>\n",
       "      <td>0.031520</td>\n",
       "      <td>...</td>\n",
       "      <td>0.07</td>\n",
       "      <td>0.17</td>\n",
       "      <td>0.41</td>\n",
       "      <td>1.01</td>\n",
       "      <td>1.57</td>\n",
       "      <td>2.56</td>\n",
       "      <td>3.28</td>\n",
       "      <td>3.77</td>\n",
       "      <td>4.54</td>\n",
       "      <td>4.59</td>\n",
       "    </tr>\n",
       "    <tr>\n",
       "      <th>2010-01-21</th>\n",
       "      <td>0.031116</td>\n",
       "      <td>0.000677</td>\n",
       "      <td>0.031493</td>\n",
       "      <td>0.030335</td>\n",
       "      <td>0.031520</td>\n",
       "      <td>0.027452</td>\n",
       "      <td>0.005093</td>\n",
       "      <td>0.030335</td>\n",
       "      <td>0.018290</td>\n",
       "      <td>0.031520</td>\n",
       "      <td>...</td>\n",
       "      <td>0.06</td>\n",
       "      <td>0.15</td>\n",
       "      <td>0.4</td>\n",
       "      <td>1.01</td>\n",
       "      <td>1.6</td>\n",
       "      <td>2.6</td>\n",
       "      <td>3.33</td>\n",
       "      <td>3.85</td>\n",
       "      <td>4.63</td>\n",
       "      <td>4.7</td>\n",
       "    </tr>\n",
       "  </tbody>\n",
       "</table>\n",
       "<p>5 rows × 343 columns</p>\n",
       "</div>"
      ],
      "text/plain": [
       "            1-month_mean_3day  1-month_std_3day  1-month_median_3day  \\\n",
       "2010-01-14           0.022769          0.004435             0.022860   \n",
       "2010-01-15           0.026842          0.003833             0.027158   \n",
       "2010-01-19           0.029729          0.002283             0.030507   \n",
       "2010-01-20           0.031173          0.000578             0.031493   \n",
       "2010-01-21           0.031116          0.000677             0.031493   \n",
       "\n",
       "            1-month_min_3day  1-month_max_3day  1-month_mean_7day  \\\n",
       "2010-01-14          0.018290          0.027158           0.017537   \n",
       "2010-01-15          0.022860          0.030507           0.019903   \n",
       "2010-01-19          0.027158          0.031520           0.022535   \n",
       "2010-01-20          0.030507          0.031520           0.025237   \n",
       "2010-01-21          0.030335          0.031520           0.027452   \n",
       "\n",
       "            1-month_std_7day  1-month_median_7day  1-month_min_7day  \\\n",
       "2010-01-14          0.005568             0.014833          0.012579   \n",
       "2010-01-15          0.007096             0.018290          0.012579   \n",
       "2010-01-19          0.007552             0.022860          0.012579   \n",
       "2010-01-20          0.006736             0.027158          0.014833   \n",
       "2010-01-21          0.005093             0.030335          0.018290   \n",
       "\n",
       "            1-month_max_7day     ...      3-month_10  6-month_10  1-year_10  \\\n",
       "2010-01-14          0.027158     ...            0.05        0.19       0.45   \n",
       "2010-01-15          0.030507     ...            0.06         0.2       0.47   \n",
       "2010-01-19          0.031520     ...            0.08        0.18       0.45   \n",
       "2010-01-20          0.031520     ...            0.07        0.17       0.41   \n",
       "2010-01-21          0.031520     ...            0.06        0.15        0.4   \n",
       "\n",
       "            2-year_10  3-year_10  5-year_10  7-year_10  10-year_10  \\\n",
       "2010-01-14       1.08       1.65       2.61       3.34         3.8   \n",
       "2010-01-15       1.14        1.7       2.69       3.39        3.85   \n",
       "2010-01-19       1.09       1.66       2.65       3.36        3.85   \n",
       "2010-01-20       1.01       1.57       2.56       3.28        3.77   \n",
       "2010-01-21       1.01        1.6        2.6       3.33        3.85   \n",
       "\n",
       "            20-year_10  30-year_10  \n",
       "2010-01-14        4.54        4.61  \n",
       "2010-01-15        4.58        4.63  \n",
       "2010-01-19         4.6        4.65  \n",
       "2010-01-20        4.54        4.59  \n",
       "2010-01-21        4.63         4.7  \n",
       "\n",
       "[5 rows x 343 columns]"
      ]
     },
     "execution_count": 7,
     "metadata": {},
     "output_type": "execute_result"
    }
   ],
   "source": [
    "yield_data_features=pd.concat([yield_data_features,yield_data],axis=1)\n",
    "#yield_data_features.dropna(axis=0,how='any',inplace=True)\n",
    "yield_data_features.head()\n",
    "for i in range(1,11):\n",
    "    temp=yield_data_features[[col for col in yield_data_filtered.columns]].shift(i)\n",
    "    temp.columns=[j+'_'+str(i) for j in list(temp.columns)]\n",
    "    yield_data_features=pd.concat([yield_data_features,temp],axis=1)\n",
    "yield_data_features.dropna(axis=0,how='any',inplace=True)\n",
    "yield_data_features.head()"
   ]
  },
  {
   "cell_type": "code",
   "execution_count": 8,
   "metadata": {
    "collapsed": false
   },
   "outputs": [],
   "source": [
    "from sklearn.linear_model import LinearRegression,Ridge"
   ]
  },
  {
   "cell_type": "code",
   "execution_count": 9,
   "metadata": {
    "collapsed": false
   },
   "outputs": [],
   "source": [
    "def predictTargetNew(target):\n",
    "    Y=yield_data_features[[target]]\n",
    "    Y.shape\n",
    "    X=yield_data_features.drop(target,axis=1)\n",
    "    X.shape\n",
    "    X_train=X[X.index < '2017-09-01']\n",
    "    X_test=X[X.index >= '2017-09-01']\n",
    "    y_train=Y[Y.index < '2017-09-01']\n",
    "    y_test=Y[Y.index  >= '2017-09-01']\n",
    "    lr = Ridge(0.25)\n",
    "    #lr = LinearRegression()\n",
    "    lr.fit(X_train, y_train)\n",
    "    # Predict on new data\n",
    "    y_lr = pd.DataFrame(lr.predict(X_test))\n",
    "    y_lr.index=y_test.index\n",
    "    y_lr.columns=y_test.columns\n",
    "    #score\n",
    "    print(target,\" R sq:\",r2_score(y_test,y_lr))\n",
    "    print(target,\" RMSE:\",np.sqrt(mean_squared_error(y_test,y_lr)))\n",
    "    final=pd.DataFrame()\n",
    "    final['Time']=y_test.index\n",
    "    final.index=y_test.index\n",
    "    final['true']=y_test[target]\n",
    "    final['pred']=y_lr[target]\n",
    "    \n",
    "    \n",
    "    plt.figure(figsize=(8, 6))\n",
    "    s = 25\n",
    "    a = 0.4\n",
    "    plt.figure(figsize=(8,3))\n",
    "    x_axis=range(len(final))\n",
    "    plt.scatter(x_axis, final['true'], edgecolor='k',\n",
    "                c=\"navy\", s=s, alpha=a, label=\"Data\")\n",
    "    plt.scatter(x_axis, final['pred'], edgecolor='k',\n",
    "                c=\"c\", s=s, alpha=a,\n",
    "                label=\"LR (R2score=%.2f)\" % lr.score(X_test, y_test))\n",
    "    plt.xticks(x_axis, final['Time'].dt.date, rotation='vertical')\n",
    "    plt.xlabel(\"date\")\n",
    "    plt.ylabel(target+\" yield\")\n",
    "    plt.gca().margins(x=0)\n",
    "    plt.grid()\n",
    "    plt.legend(loc='center left', bbox_to_anchor=(1, 0.5))\n",
    "    plt.tight_layout()\n",
    "    plt.show()"
   ]
  },
  {
   "cell_type": "code",
   "execution_count": 10,
   "metadata": {
    "collapsed": false,
    "scrolled": false
   },
   "outputs": [
    {
     "name": "stdout",
     "output_type": "stream",
     "text": [
      "1-month  R sq: -0.33067110756\n",
      "1-month  RMSE: 0.08983645882\n"
     ]
    },
    {
     "data": {
      "text/plain": [
       "<matplotlib.figure.Figure at 0x20021e4ef98>"
      ]
     },
     "metadata": {},
     "output_type": "display_data"
    },
    {
     "data": {
      "image/png": "[encoded data removed]",
      "text/plain": [
       "<matplotlib.figure.Figure at 0x20021d0a5c0>"
      ]
     },
     "metadata": {},
     "output_type": "display_data"
    },
    {
     "name": "stdout",
     "output_type": "stream",
     "text": [
      "3-month  R sq: -1.05657046981\n",
      "3-month  RMSE: 0.0169975330059\n"
     ]
    },
    {
     "data": {
      "text/plain": [
       "<matplotlib.figure.Figure at 0x20021d0a550>"
      ]
     },
     "metadata": {},
     "output_type": "display_data"
    },
    {
     "data": {
      "image/png": "[encoded data removed]",
      "text/plain": [
       "<matplotlib.figure.Figure at 0x20027750470>"
      ]
     },
     "metadata": {},
     "output_type": "display_data"
    },
    {
     "name": "stdout",
     "output_type": "stream",
     "text": [
      "6-month  R sq: 0.617726163946\n",
      "6-month  RMSE: 0.0156938032724\n"
     ]
    },
    {
     "data": {
      "text/plain": [
       "<matplotlib.figure.Figure at 0x2002205a9e8>"
      ]
     },
     "metadata": {},
     "output_type": "display_data"
    },
    {
     "data": {
      "image/png": "[encoded data removed]",
      "text/plain": [
       "<matplotlib.figure.Figure at 0x200220f38d0>"
      ]
     },
     "metadata": {},
     "output_type": "display_data"
    },
    {
     "name": "stdout",
     "output_type": "stream",
     "text": [
      "1-year  R sq: 0.837770085168\n",
      "1-year  RMSE: 0.0142196335007\n"
     ]
    },
    {
     "data": {
      "text/plain": [
       "<matplotlib.figure.Figure at 0x2002572e198>"
      ]
     },
     "metadata": {},
     "output_type": "display_data"
    },
    {
     "data": {
      "image/png": "[encoded data removed]",
      "text/plain": [
       "<matplotlib.figure.Figure at 0x2002577c8d0>"
      ]
     },
     "metadata": {},
     "output_type": "display_data"
    },
    {
     "name": "stdout",
     "output_type": "stream",
     "text": [
      "2-year  R sq: 0.955254608042\n",
      "2-year  RMSE: 0.0134855988026\n"
     ]
    },
    {
     "data": {
      "text/plain": [
       "<matplotlib.figure.Figure at 0x200257a88d0>"
      ]
     },
     "metadata": {},
     "output_type": "display_data"
    },
    {
     "data": {
      "image/png": "[encoded data removed]",
      "text/plain": [
       "<matplotlib.figure.Figure at 0x20025792828>"
      ]
     },
     "metadata": {},
     "output_type": "display_data"
    },
    {
     "name": "stdout",
     "output_type": "stream",
     "text": [
      "3-year  R sq: 0.982978283386\n",
      "3-year  RMSE: 0.0093843111882\n"
     ]
    },
    {
     "data": {
      "text/plain": [
       "<matplotlib.figure.Figure at 0x20025821470>"
      ]
     },
     "metadata": {},
     "output_type": "display_data"
    },
    {
     "data": {
      "image/png": "[encoded data removed]",
      "text/plain": [
       "<matplotlib.figure.Figure at 0x2002576fba8>"
      ]
     },
     "metadata": {},
     "output_type": "display_data"
    },
    {
     "name": "stdout",
     "output_type": "stream",
     "text": [
      "5-year  R sq: 0.989008807455\n",
      "5-year  RMSE: 0.00915544128272\n"
     ]
    },
    {
     "data": {
      "text/plain": [
       "<matplotlib.figure.Figure at 0x20025865518>"
      ]
     },
     "metadata": {},
     "output_type": "display_data"
    },
    {
     "data": {
      "image/png": "[encoded data removed]",
      "text/plain": [
       "<matplotlib.figure.Figure at 0x20025843e80>"
      ]
     },
     "metadata": {},
     "output_type": "display_data"
    },
    {
     "name": "stdout",
     "output_type": "stream",
     "text": [
      "7-year  R sq: 0.981151252619\n",
      "7-year  RMSE: 0.0104613637664\n"
     ]
    },
    {
     "data": {
      "text/plain": [
       "<matplotlib.figure.Figure at 0x200220c4e80>"
      ]
     },
     "metadata": {},
     "output_type": "display_data"
    },
    {
     "data": {
      "image/png": "[encoded data removed]",
      "text/plain": [
       "<matplotlib.figure.Figure at 0x20027765b38>"
      ]
     },
     "metadata": {},
     "output_type": "display_data"
    },
    {
     "name": "stdout",
     "output_type": "stream",
     "text": [
      "10-year  R sq: 0.986016634522\n",
      "10-year  RMSE: 0.00854875599881\n"
     ]
    },
    {
     "data": {
      "text/plain": [
       "<matplotlib.figure.Figure at 0x20021da8f60>"
      ]
     },
     "metadata": {},
     "output_type": "display_data"
    },
    {
     "data": {
      "image/png": "[encoded data removed]",
      "text/plain": [
       "<matplotlib.figure.Figure at 0x20021dcd470>"
      ]
     },
     "metadata": {},
     "output_type": "display_data"
    },
    {
     "name": "stdout",
     "output_type": "stream",
     "text": [
      "20-year  R sq: 0.992242507436\n",
      "20-year  RMSE: 0.00491565355254\n"
     ]
    },
    {
     "data": {
      "text/plain": [
       "<matplotlib.figure.Figure at 0x20021de25c0>"
      ]
     },
     "metadata": {},
     "output_type": "display_data"
    },
    {
     "data": {
      "image/png": "[encoded data removed]",
      "text/plain": [
       "<matplotlib.figure.Figure at 0x20025785400>"
      ]
     },
     "metadata": {},
     "output_type": "display_data"
    },
    {
     "name": "stdout",
     "output_type": "stream",
     "text": [
      "30-year  R sq: 0.982368316527\n",
      "30-year  RMSE: 0.00624281438903\n"
     ]
    },
    {
     "data": {
      "text/plain": [
       "<matplotlib.figure.Figure at 0x200257864e0>"
      ]
     },
     "metadata": {},
     "output_type": "display_data"
    },
    {
     "data": {
      "image/png": "[encoded data removed]",
      "text/plain": [
       "<matplotlib.figure.Figure at 0x20022a65a90>"
      ]
     },
     "metadata": {},
     "output_type": "display_data"
    }
   ],
   "source": [
    "for target in ['1-month', '3-month', '6-month', '1-year', '2-year', '3-year', '5-year','7-year', '10-year', '20-year', '30-year']:\n",
    "    predictTargetNew(target)"
   ]
  },
  {
   "cell_type": "code",
   "execution_count": null,
   "metadata": {
    "collapsed": true
   },
   "outputs": [],
   "source": []
  }
 ],
 "metadata": {
  "anaconda-cloud": {},
  "kernelspec": {
   "display_name": "Python [py35]",
   "language": "python",
   "name": "Python [py35]"
  },
  "language_info": {
   "codemirror_mode": {
    "name": "ipython",
    "version": 3
   },
   "file_extension": ".py",
   "mimetype": "text/x-python",
   "name": "python",
   "nbconvert_exporter": "python",
   "pygments_lexer": "ipython3",
   "version": "3.5.2"
  }
 },
 "nbformat": 4,
 "nbformat_minor": 2
}
