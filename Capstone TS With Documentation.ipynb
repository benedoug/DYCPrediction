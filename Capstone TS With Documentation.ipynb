{
 "cells": [
  {
   "cell_type": "code",
   "execution_count": 74,
   "metadata": {
    "collapsed": true
   },
   "outputs": [],
   "source": [
    "import numpy as np\n",
    "import pandas as pd\n",
    "import matplotlib.pyplot as plt"
   ]
  },
  {
   "cell_type": "markdown",
   "metadata": {},
   "source": [
    "Read in the data"
   ]
  },
  {
   "cell_type": "code",
   "execution_count": 125,
   "metadata": {
    "collapsed": false
   },
   "outputs": [],
   "source": [
    "data = pd.read_csv(\"FRB_H15.csv\",header = 0,skiprows = 5).replace('ND',np.nan)\n",
    "data.drop(['RIFLGFCM01_N.B','RIFLGFCM03_N.B','RIFLGFCM06_N.B','RIFLGFCY02_N.B','RIFLGFCY07_N.B','RIFLGFCY20_N.B','RIFLGFCY30_N.B'],axis = 1,inplace = True)\n",
    "data['Time Period'] = pd.to_datetime(data['Time Period'])"
   ]
  },
  {
   "cell_type": "markdown",
   "metadata": {},
   "source": [
    "Generate dates, as there are missing dates in data"
   ]
  },
  {
   "cell_type": "code",
   "execution_count": 126,
   "metadata": {
    "collapsed": false
   },
   "outputs": [],
   "source": [
    "dates = pd.DataFrame(pd.date_range(start = '1962-01-02',end = '2017-10-5'))\n",
    "dates.columns = ['Time Period']"
   ]
  },
  {
   "cell_type": "markdown",
   "metadata": {},
   "source": [
    "Left join the generated dates, and the dates from the data. The dates which are missing in the data will have NA values this way."
   ]
  },
  {
   "cell_type": "code",
   "execution_count": 127,
   "metadata": {
    "collapsed": false
   },
   "outputs": [],
   "source": [
    "data = dates.merge(data,how = 'left',on = 'Time Period')"
   ]
  },
  {
   "cell_type": "markdown",
   "metadata": {},
   "source": [
    "Create weekend and day of week features"
   ]
  },
  {
   "cell_type": "code",
   "execution_count": 128,
   "metadata": {
    "collapsed": true
   },
   "outputs": [],
   "source": [
    "data['IS_WEEKEND'] = 1\n",
    "data['Day of week'] = data['Time Period'].dt.dayofweek\n",
    "weekend = data['IS_WEEKEND'].copy()\n",
    "weekend[(data['Day of week'] != 5) & (data['Day of week'] != 6)] = 0\n",
    "data['IS_WEEKEND'] = weekend"
   ]
  },
  {
   "cell_type": "markdown",
   "metadata": {},
   "source": [
    "Impute missing values in the table. Use most recent existing values for imputation."
   ]
  },
  {
   "cell_type": "code",
   "execution_count": 129,
   "metadata": {
    "collapsed": false
   },
   "outputs": [],
   "source": [
    "f1 = data['RIFLGFCY01_N.B'].copy()\n",
    "f2 = data['RIFLGFCY03_N.B'].copy()\n",
    "f3 = data['RIFLGFCY05_N.B'].copy()\n",
    "f4 = data['RIFLGFCY10_N.B'].copy()\n",
    "for i in range(len(data)):\n",
    "    if data['IS_WEEKEND'].iloc[i] == 1:\n",
    "        f1[i] = f1[i-1]\n",
    "        f2[i] = f2[i-1]\n",
    "        f3[i] = f3[i-1]\n",
    "        f4[i] = f4[i-1]\n",
    "        \n",
    "for i in range(len(f1)):\n",
    "    if pd.isnull(f1[i]):\n",
    "        j = i - 1\n",
    "        while pd.isnull(f1[j]):\n",
    "            j = j - 1\n",
    "        f1[i] = f1[j]\n",
    "\n",
    "for i in range(len(f2)):\n",
    "    if pd.isnull(f2[i]):\n",
    "        j = i - 1\n",
    "        while pd.isnull(f2[j]):\n",
    "            j = j - 1\n",
    "        f2[i] = f2[j]\n",
    "\n",
    "for i in range(len(f3)):\n",
    "    if pd.isnull(f3[i]):\n",
    "        j = i - 1\n",
    "        while pd.isnull(f3[j]):\n",
    "            j = j - 1\n",
    "        f3[i] = f3[j]\n",
    "\n",
    "for i in range(len(f4)):\n",
    "    if pd.isnull(f4[i]):\n",
    "        j = i - 1\n",
    "        while pd.isnull(f4[j]):\n",
    "            j = j - 1\n",
    "        f4[i] = f4[j]\n",
    "        \n",
    "data['RIFLGFCY01_N.B'] = f1\n",
    "data['RIFLGFCY03_N.B'] = f2\n",
    "data['RIFLGFCY05_N.B'] = f3\n",
    "data['RIFLGFCY10_N.B'] = f4"
   ]
  },
  {
   "cell_type": "code",
   "execution_count": 101,
   "metadata": {
    "collapsed": true
   },
   "outputs": [],
   "source": [
    "data.to_csv(\"Weekend Imputed.csv\",index = False)"
   ]
  },
  {
   "cell_type": "code",
   "execution_count": 135,
   "metadata": {
    "collapsed": false
   },
   "outputs": [],
   "source": [
    "from statsmodels.tsa.arima_model import ARIMA\n",
    "from pandas.tools.plotting import autocorrelation_plot"
   ]
  },
  {
   "cell_type": "code",
   "execution_count": 138,
   "metadata": {
    "collapsed": false
   },
   "outputs": [],
   "source": [
    "data['RIFLGFCY01_N.B'] = data['RIFLGFCY01_N.B'].astype(float)\n",
    "data['RIFLGFCY03_N.B'] = data['RIFLGFCY03_N.B'].astype(float)\n",
    "data['RIFLGFCY05_N.B'] = data['RIFLGFCY05_N.B'].astype(float)\n",
    "data['RIFLGFCY10_N.B'] = data['RIFLGFCY10_N.B'].astype(float)"
   ]
  },
  {
   "cell_type": "markdown",
   "metadata": {},
   "source": [
    "Generate autocorrelation plot for 2010-2017 data"
   ]
  },
  {
   "cell_type": "code",
   "execution_count": 144,
   "metadata": {
    "collapsed": false
   },
   "outputs": [],
   "source": [
    "autocorrelation_plot(data['RIFLGFCY01_N.B'][17531:])\n",
    "plt.show()"
   ]
  },
  {
   "cell_type": "code",
   "execution_count": 146,
   "metadata": {
    "collapsed": false
   },
   "outputs": [],
   "source": [
    "autocorrlist = []\n",
    "for i in range(100):\n",
    "    autocorrlist.append(data['RIFLGFCY01_N.B'][17531:].autocorr(lag = i))"
   ]
  },
  {
   "cell_type": "code",
   "execution_count": 164,
   "metadata": {
    "collapsed": false
   },
   "outputs": [],
   "source": [
    "plt.plot((data['RIFLGFCY01_N.B'][17531:]))\n",
    "plt.show()"
   ]
  },
  {
   "cell_type": "code",
   "execution_count": 154,
   "metadata": {
    "collapsed": false
   },
   "outputs": [],
   "source": [
    "data.to_csv(\"Imputed Data.csv\",index = False)"
   ]
  },
  {
   "cell_type": "markdown",
   "metadata": {},
   "source": [
    "Compute rolling mean for a window of 100 days"
   ]
  },
  {
   "cell_type": "code",
   "execution_count": 184,
   "metadata": {
    "collapsed": false
   },
   "outputs": [
    {
     "name": "stderr",
     "output_type": "stream",
     "text": [
      "C:\\Users\\vijay\\Anaconda2\\lib\\site-packages\\ipykernel\\__main__.py:2: FutureWarning: pd.rolling_mean is deprecated for Series and will be removed in a future version, replace with \n",
      "\tSeries.rolling(window=300,center=False).mean()\n",
      "  from ipykernel import kernelapp as app\n"
     ]
    }
   ],
   "source": [
    "plt.plot(data['RIFLGFCY01_N.B'][17531:],color = 'red')\n",
    "plt.plot(pd.rolling_mean((data['RIFLGFCY01_N.B'][17531:]),100),color = 'blue')\n",
    "plt.show()"
   ]
  },
  {
   "cell_type": "markdown",
   "metadata": {},
   "source": [
    "Difference the data from the rolling mean to detrend it"
   ]
  },
  {
   "cell_type": "code",
   "execution_count": 190,
   "metadata": {
    "collapsed": false,
    "scrolled": true
   },
   "outputs": [
    {
     "name": "stderr",
     "output_type": "stream",
     "text": [
      "C:\\Users\\vijay\\Anaconda2\\lib\\site-packages\\ipykernel\\__main__.py:1: FutureWarning: pd.rolling_mean is deprecated for Series and will be removed in a future version, replace with \n",
      "\tSeries.rolling(window=100,center=False).mean()\n",
      "  if __name__ == '__main__':\n"
     ]
    }
   ],
   "source": [
    "diff = (data['RIFLGFCY01_N.B'][17531:] - pd.rolling_mean((data['RIFLGFCY01_N.B'][17531:]),100))"
   ]
  },
  {
   "cell_type": "markdown",
   "metadata": {},
   "source": [
    "Check for stationarity using dickey fuller test"
   ]
  },
  {
   "cell_type": "code",
   "execution_count": 189,
   "metadata": {
    "collapsed": true
   },
   "outputs": [],
   "source": [
    "from statsmodels.tsa.stattools import adfuller\n",
    "def test_stationarity(timeseries):\n",
    "    \n",
    "    #Determing rolling statistics\n",
    "    rolmean = pd.rolling_mean(timeseries, window=12)\n",
    "    rolstd = pd.rolling_std(timeseries, window=12)\n",
    "\n",
    "    #Plot rolling statistics:\n",
    "    orig = plt.plot(timeseries, color='blue',label='Original')\n",
    "    mean = plt.plot(rolmean, color='red', label='Rolling Mean')\n",
    "    std = plt.plot(rolstd, color='black', label = 'Rolling Std')\n",
    "    plt.legend(loc='best')\n",
    "    plt.title('Rolling Mean & Standard Deviation')\n",
    "    plt.show(block=False)\n",
    "    \n",
    "    #Perform Dickey-Fuller test:\n",
    "    print 'Results of Dickey-Fuller Test:'\n",
    "    dftest = adfuller(timeseries, autolag='AIC')\n",
    "    dfoutput = pd.Series(dftest[0:4], index=['Test Statistic','p-value','#Lags Used','Number of Observations Used'])\n",
    "    for key,value in dftest[4].items():\n",
    "        dfoutput['Critical Value (%s)'%key] = value\n",
    "    print dfoutput"
   ]
  },
  {
   "cell_type": "code",
   "execution_count": 196,
   "metadata": {
    "collapsed": false
   },
   "outputs": [
    {
     "name": "stderr",
     "output_type": "stream",
     "text": [
      "C:\\Users\\vijay\\Anaconda2\\lib\\site-packages\\ipykernel\\__main__.py:5: FutureWarning: pd.rolling_mean is deprecated for Series and will be removed in a future version, replace with \n",
      "\tSeries.rolling(window=12,center=False).mean()\n",
      "C:\\Users\\vijay\\Anaconda2\\lib\\site-packages\\ipykernel\\__main__.py:6: FutureWarning: pd.rolling_std is deprecated for Series and will be removed in a future version, replace with \n",
      "\tSeries.rolling(window=12,center=False).std()\n"
     ]
    },
    {
     "name": "stdout",
     "output_type": "stream",
     "text": [
      "Results of Dickey-Fuller Test:\n",
      "Test Statistic                   -5.593215\n",
      "p-value                           0.000001\n",
      "#Lags Used                       28.000000\n",
      "Number of Observations Used    2707.000000\n",
      "Critical Value (5%)              -2.862608\n",
      "Critical Value (1%)              -3.432768\n",
      "Critical Value (10%)             -2.567339\n",
      "dtype: float64\n"
     ]
    }
   ],
   "source": [
    "test_stationarity(diff[99:])"
   ]
  },
  {
   "cell_type": "code",
   "execution_count": null,
   "metadata": {
    "collapsed": true
   },
   "outputs": [],
   "source": []
  }
 ],
 "metadata": {
  "anaconda-cloud": {},
  "kernelspec": {
   "display_name": "Python [Root]",
   "language": "python",
   "name": "Python [Root]"
  },
  "language_info": {
   "codemirror_mode": {
    "name": "ipython",
    "version": 2
   },
   "file_extension": ".py",
   "mimetype": "text/x-python",
   "name": "python",
   "nbconvert_exporter": "python",
   "pygments_lexer": "ipython2",
   "version": "2.7.12"
  }
 },
 "nbformat": 4,
 "nbformat_minor": 0
}
