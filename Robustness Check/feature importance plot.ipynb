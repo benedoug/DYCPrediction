{
 "cells": [
  {
   "cell_type": "code",
   "execution_count": 1,
   "metadata": {
    "ExecuteTime": {
     "end_time": "2017-12-11T15:50:29.920164Z",
     "start_time": "2017-12-11T15:50:28.923723Z"
    }
   },
   "outputs": [],
   "source": [
    "import numpy as np\n",
    "import pandas as pd\n",
    "from scipy.stats import linregress\n",
    "from scipy.signal import savgol_filter\n",
    "import matplotlib.pyplot as plt\n",
    "from sklearn.ensemble import RandomForestRegressor\n",
    "from sklearn.model_selection import train_test_split\n",
    "from sklearn.metrics import r2_score,mean_squared_error\n",
    "from datetime import datetime\n",
    "%matplotlib inline\n"
   ]
  },
  {
   "cell_type": "code",
   "execution_count": 2,
   "metadata": {
    "ExecuteTime": {
     "end_time": "2017-12-11T15:50:30.388474Z",
     "start_time": "2017-12-11T15:50:29.921670Z"
    }
   },
   "outputs": [],
   "source": [
    "yield_data = pd.read_csv('FRB_H15.csv').replace('ND',np.nan).dropna(axis=0,how='any')\n",
    "yield_data['Time Period'] = pd.to_datetime(yield_data['Time Period'])\n",
    "yield_data['Day of week'] = yield_data['Time Period'].dt.dayofweek\n",
    "#derive is weekend\n",
    "yield_data['IS_WEEKEND'] = 1\n",
    "weekend = yield_data['IS_WEEKEND'].copy()\n",
    "weekend[(yield_data['Day of week'] != 5) & (yield_data['Day of week'] != 6)] = 0\n",
    "yield_data['IS_WEEKEND'] = weekend\n",
    "yield_data.set_index('Time Period',inplace=True)\n",
    "yield_data.index.name = None\n",
    "#kickout weekend data\n",
    "yield_data=yield_data.query('IS_WEEKEND==0')\n",
    "#cut off data 2010 onwards,but for rolling window of 30 we need '09 dec data\n",
    "yield_data = yield_data[yield_data.index >'2001-07-31']\n"
   ]
  },
  {
   "cell_type": "markdown",
   "metadata": {},
   "source": [
    "** Use [Savitzky–Golay filter](https://en.wikipedia.org/wiki/Savitzky%E2%80%93Golay_filter) to smooth the series(get rid of peaks in Monday and Friday). I use rolling window of 15 and power of 3 **"
   ]
  },
  {
   "cell_type": "code",
   "execution_count": 3,
   "metadata": {
    "ExecuteTime": {
     "end_time": "2017-12-11T15:50:30.567994Z",
     "start_time": "2017-12-11T15:50:30.390435Z"
    }
   },
   "outputs": [
    {
     "data": {
      "text/plain": [
       "<matplotlib.axes._subplots.AxesSubplot at 0x25626263b00>"
      ]
     },
     "execution_count": 3,
     "metadata": {},
     "output_type": "execute_result"
    },
    {
     "data": {
      "image/png": "[encoded data removed]",
      "text/plain": [
       "<matplotlib.figure.Figure at 0x2562626fb00>"
      ]
     },
     "metadata": {},
     "output_type": "display_data"
    }
   ],
   "source": [
    "##savgol_filter polynomial filter\n",
    "yield_data_filtered = pd.DataFrame(savgol_filter(np.array(yield_data.iloc[:,:11]).transpose(),15,3).transpose())\n",
    "yield_data_filtered.columns = yield_data.iloc[:,:11].columns\n",
    "yield_data_filtered.index = yield_data.index\n",
    "yield_data_filtered.head()\n",
    "yield_data[yield_data.index >'2017-07-01']['1-month'].astype(np.float32).plot()\n",
    "yield_data_filtered[yield_data_filtered.index >'2017-07-01']['1-month'].astype(np.float32).plot()"
   ]
  },
  {
   "cell_type": "markdown",
   "metadata": {},
   "source": [
    "**Define a rolling window function that calculate following statistic for one column:**  \n",
    "1.Mean  \n",
    "2.Standard Deviation  \n",
    "3.Median  \n",
    "4.Min  \n",
    "5.Max  \n",
    "6.Rooted Mean Square  \n",
    "7.[Crest Factor](https://en.wikipedia.org/wiki/Crest_factor)  \n",
    "8.[Zero-crossing Rate](https://en.wikipedia.org/wiki/Zero-crossing_rate)(here is Mean-crossing Rate)  \n",
    "9.Trend(Slope of linear regression)"
   ]
  },
  {
   "cell_type": "code",
   "execution_count": 4,
   "metadata": {
    "ExecuteTime": {
     "end_time": "2017-12-11T15:50:30.580028Z",
     "start_time": "2017-12-11T15:50:30.570000Z"
    }
   },
   "outputs": [],
   "source": [
    "def rolling_method(df,col,window):\n",
    "    method = ['mean','std','median','min','max']\n",
    "    a = df[col].rolling(window=window)\n",
    "    b = pd.concat([getattr(a,k)() for k in method],axis=1)\n",
    "    b.columns  = method\n",
    "    #b['RMS'] = a.apply(lambda y: np.sqrt(np.mean(y**2)))\n",
    "    #b['crest'] = 0.5*(b['max']-b['min'])/b['RMS']\n",
    "    #b['crossing'] = a.apply(lambda y: len(np.where(np.diff(y - np.mean(y)))[0]))/window\n",
    "    #b['slope'] = a.apply(lambda y: linregress(range(window),y)[0])\n",
    "    b.columns = [col + '_'+ k +'_'+str(window)+'day' \n",
    "                 for k in ['mean','std','median','min','max'#,'RMS','crest','crossing','slope'\n",
    "                          ]]\n",
    "    return b"
   ]
  },
  {
   "cell_type": "code",
   "execution_count": 5,
   "metadata": {
    "ExecuteTime": {
     "end_time": "2017-12-11T15:50:30.794517Z",
     "start_time": "2017-12-11T15:50:30.582034Z"
    }
   },
   "outputs": [
    {
     "data": {
      "text/html": [
       "<div>\n",
       "<style scoped>\n",
       "    .dataframe tbody tr th:only-of-type {\n",
       "        vertical-align: middle;\n",
       "    }\n",
       "\n",
       "    .dataframe tbody tr th {\n",
       "        vertical-align: top;\n",
       "    }\n",
       "\n",
       "    .dataframe thead th {\n",
       "        text-align: right;\n",
       "    }\n",
       "</style>\n",
       "<table border=\"1\" class=\"dataframe\">\n",
       "  <thead>\n",
       "    <tr style=\"text-align: right;\">\n",
       "      <th></th>\n",
       "      <th>1-month_mean_3day</th>\n",
       "      <th>1-month_std_3day</th>\n",
       "      <th>1-month_median_3day</th>\n",
       "      <th>1-month_min_3day</th>\n",
       "      <th>1-month_max_3day</th>\n",
       "      <th>1-month_mean_7day</th>\n",
       "      <th>1-month_std_7day</th>\n",
       "      <th>1-month_median_7day</th>\n",
       "      <th>1-month_min_7day</th>\n",
       "      <th>1-month_max_7day</th>\n",
       "      <th>...</th>\n",
       "      <th>30-year_mean_15day</th>\n",
       "      <th>30-year_std_15day</th>\n",
       "      <th>30-year_median_15day</th>\n",
       "      <th>30-year_min_15day</th>\n",
       "      <th>30-year_max_15day</th>\n",
       "      <th>30-year_mean_20day</th>\n",
       "      <th>30-year_std_20day</th>\n",
       "      <th>30-year_median_20day</th>\n",
       "      <th>30-year_min_20day</th>\n",
       "      <th>30-year_max_20day</th>\n",
       "    </tr>\n",
       "  </thead>\n",
       "  <tbody>\n",
       "    <tr>\n",
       "      <th>2001-08-01</th>\n",
       "      <td>NaN</td>\n",
       "      <td>NaN</td>\n",
       "      <td>NaN</td>\n",
       "      <td>NaN</td>\n",
       "      <td>NaN</td>\n",
       "      <td>NaN</td>\n",
       "      <td>NaN</td>\n",
       "      <td>NaN</td>\n",
       "      <td>NaN</td>\n",
       "      <td>NaN</td>\n",
       "      <td>...</td>\n",
       "      <td>NaN</td>\n",
       "      <td>NaN</td>\n",
       "      <td>NaN</td>\n",
       "      <td>NaN</td>\n",
       "      <td>NaN</td>\n",
       "      <td>NaN</td>\n",
       "      <td>NaN</td>\n",
       "      <td>NaN</td>\n",
       "      <td>NaN</td>\n",
       "      <td>NaN</td>\n",
       "    </tr>\n",
       "    <tr>\n",
       "      <th>2001-08-02</th>\n",
       "      <td>NaN</td>\n",
       "      <td>NaN</td>\n",
       "      <td>NaN</td>\n",
       "      <td>NaN</td>\n",
       "      <td>NaN</td>\n",
       "      <td>NaN</td>\n",
       "      <td>NaN</td>\n",
       "      <td>NaN</td>\n",
       "      <td>NaN</td>\n",
       "      <td>NaN</td>\n",
       "      <td>...</td>\n",
       "      <td>NaN</td>\n",
       "      <td>NaN</td>\n",
       "      <td>NaN</td>\n",
       "      <td>NaN</td>\n",
       "      <td>NaN</td>\n",
       "      <td>NaN</td>\n",
       "      <td>NaN</td>\n",
       "      <td>NaN</td>\n",
       "      <td>NaN</td>\n",
       "      <td>NaN</td>\n",
       "    </tr>\n",
       "    <tr>\n",
       "      <th>2001-08-03</th>\n",
       "      <td>NaN</td>\n",
       "      <td>NaN</td>\n",
       "      <td>NaN</td>\n",
       "      <td>NaN</td>\n",
       "      <td>NaN</td>\n",
       "      <td>NaN</td>\n",
       "      <td>NaN</td>\n",
       "      <td>NaN</td>\n",
       "      <td>NaN</td>\n",
       "      <td>NaN</td>\n",
       "      <td>...</td>\n",
       "      <td>NaN</td>\n",
       "      <td>NaN</td>\n",
       "      <td>NaN</td>\n",
       "      <td>NaN</td>\n",
       "      <td>NaN</td>\n",
       "      <td>NaN</td>\n",
       "      <td>NaN</td>\n",
       "      <td>NaN</td>\n",
       "      <td>NaN</td>\n",
       "      <td>NaN</td>\n",
       "    </tr>\n",
       "    <tr>\n",
       "      <th>2001-08-06</th>\n",
       "      <td>NaN</td>\n",
       "      <td>NaN</td>\n",
       "      <td>NaN</td>\n",
       "      <td>NaN</td>\n",
       "      <td>NaN</td>\n",
       "      <td>NaN</td>\n",
       "      <td>NaN</td>\n",
       "      <td>NaN</td>\n",
       "      <td>NaN</td>\n",
       "      <td>NaN</td>\n",
       "      <td>...</td>\n",
       "      <td>NaN</td>\n",
       "      <td>NaN</td>\n",
       "      <td>NaN</td>\n",
       "      <td>NaN</td>\n",
       "      <td>NaN</td>\n",
       "      <td>NaN</td>\n",
       "      <td>NaN</td>\n",
       "      <td>NaN</td>\n",
       "      <td>NaN</td>\n",
       "      <td>NaN</td>\n",
       "    </tr>\n",
       "    <tr>\n",
       "      <th>2001-08-07</th>\n",
       "      <td>NaN</td>\n",
       "      <td>NaN</td>\n",
       "      <td>NaN</td>\n",
       "      <td>NaN</td>\n",
       "      <td>NaN</td>\n",
       "      <td>NaN</td>\n",
       "      <td>NaN</td>\n",
       "      <td>NaN</td>\n",
       "      <td>NaN</td>\n",
       "      <td>NaN</td>\n",
       "      <td>...</td>\n",
       "      <td>NaN</td>\n",
       "      <td>NaN</td>\n",
       "      <td>NaN</td>\n",
       "      <td>NaN</td>\n",
       "      <td>NaN</td>\n",
       "      <td>NaN</td>\n",
       "      <td>NaN</td>\n",
       "      <td>NaN</td>\n",
       "      <td>NaN</td>\n",
       "      <td>NaN</td>\n",
       "    </tr>\n",
       "    <tr>\n",
       "      <th>2001-08-08</th>\n",
       "      <td>NaN</td>\n",
       "      <td>NaN</td>\n",
       "      <td>NaN</td>\n",
       "      <td>NaN</td>\n",
       "      <td>NaN</td>\n",
       "      <td>NaN</td>\n",
       "      <td>NaN</td>\n",
       "      <td>NaN</td>\n",
       "      <td>NaN</td>\n",
       "      <td>NaN</td>\n",
       "      <td>...</td>\n",
       "      <td>NaN</td>\n",
       "      <td>NaN</td>\n",
       "      <td>NaN</td>\n",
       "      <td>NaN</td>\n",
       "      <td>NaN</td>\n",
       "      <td>NaN</td>\n",
       "      <td>NaN</td>\n",
       "      <td>NaN</td>\n",
       "      <td>NaN</td>\n",
       "      <td>NaN</td>\n",
       "    </tr>\n",
       "    <tr>\n",
       "      <th>2001-08-09</th>\n",
       "      <td>NaN</td>\n",
       "      <td>NaN</td>\n",
       "      <td>NaN</td>\n",
       "      <td>NaN</td>\n",
       "      <td>NaN</td>\n",
       "      <td>NaN</td>\n",
       "      <td>NaN</td>\n",
       "      <td>NaN</td>\n",
       "      <td>NaN</td>\n",
       "      <td>NaN</td>\n",
       "      <td>...</td>\n",
       "      <td>NaN</td>\n",
       "      <td>NaN</td>\n",
       "      <td>NaN</td>\n",
       "      <td>NaN</td>\n",
       "      <td>NaN</td>\n",
       "      <td>NaN</td>\n",
       "      <td>NaN</td>\n",
       "      <td>NaN</td>\n",
       "      <td>NaN</td>\n",
       "      <td>NaN</td>\n",
       "    </tr>\n",
       "    <tr>\n",
       "      <th>2001-08-10</th>\n",
       "      <td>NaN</td>\n",
       "      <td>NaN</td>\n",
       "      <td>NaN</td>\n",
       "      <td>NaN</td>\n",
       "      <td>NaN</td>\n",
       "      <td>NaN</td>\n",
       "      <td>NaN</td>\n",
       "      <td>NaN</td>\n",
       "      <td>NaN</td>\n",
       "      <td>NaN</td>\n",
       "      <td>...</td>\n",
       "      <td>NaN</td>\n",
       "      <td>NaN</td>\n",
       "      <td>NaN</td>\n",
       "      <td>NaN</td>\n",
       "      <td>NaN</td>\n",
       "      <td>NaN</td>\n",
       "      <td>NaN</td>\n",
       "      <td>NaN</td>\n",
       "      <td>NaN</td>\n",
       "      <td>NaN</td>\n",
       "    </tr>\n",
       "    <tr>\n",
       "      <th>2001-08-13</th>\n",
       "      <td>NaN</td>\n",
       "      <td>NaN</td>\n",
       "      <td>NaN</td>\n",
       "      <td>NaN</td>\n",
       "      <td>NaN</td>\n",
       "      <td>NaN</td>\n",
       "      <td>NaN</td>\n",
       "      <td>NaN</td>\n",
       "      <td>NaN</td>\n",
       "      <td>NaN</td>\n",
       "      <td>...</td>\n",
       "      <td>NaN</td>\n",
       "      <td>NaN</td>\n",
       "      <td>NaN</td>\n",
       "      <td>NaN</td>\n",
       "      <td>NaN</td>\n",
       "      <td>NaN</td>\n",
       "      <td>NaN</td>\n",
       "      <td>NaN</td>\n",
       "      <td>NaN</td>\n",
       "      <td>NaN</td>\n",
       "    </tr>\n",
       "    <tr>\n",
       "      <th>2001-08-14</th>\n",
       "      <td>NaN</td>\n",
       "      <td>NaN</td>\n",
       "      <td>NaN</td>\n",
       "      <td>NaN</td>\n",
       "      <td>NaN</td>\n",
       "      <td>NaN</td>\n",
       "      <td>NaN</td>\n",
       "      <td>NaN</td>\n",
       "      <td>NaN</td>\n",
       "      <td>NaN</td>\n",
       "      <td>...</td>\n",
       "      <td>NaN</td>\n",
       "      <td>NaN</td>\n",
       "      <td>NaN</td>\n",
       "      <td>NaN</td>\n",
       "      <td>NaN</td>\n",
       "      <td>NaN</td>\n",
       "      <td>NaN</td>\n",
       "      <td>NaN</td>\n",
       "      <td>NaN</td>\n",
       "      <td>NaN</td>\n",
       "    </tr>\n",
       "  </tbody>\n",
       "</table>\n",
       "<p>10 rows × 220 columns</p>\n",
       "</div>"
      ],
      "text/plain": [
       "            1-month_mean_3day  1-month_std_3day  1-month_median_3day  \\\n",
       "2001-08-01                NaN               NaN                  NaN   \n",
       "2001-08-02                NaN               NaN                  NaN   \n",
       "2001-08-03                NaN               NaN                  NaN   \n",
       "2001-08-06                NaN               NaN                  NaN   \n",
       "2001-08-07                NaN               NaN                  NaN   \n",
       "2001-08-08                NaN               NaN                  NaN   \n",
       "2001-08-09                NaN               NaN                  NaN   \n",
       "2001-08-10                NaN               NaN                  NaN   \n",
       "2001-08-13                NaN               NaN                  NaN   \n",
       "2001-08-14                NaN               NaN                  NaN   \n",
       "\n",
       "            1-month_min_3day  1-month_max_3day  1-month_mean_7day  \\\n",
       "2001-08-01               NaN               NaN                NaN   \n",
       "2001-08-02               NaN               NaN                NaN   \n",
       "2001-08-03               NaN               NaN                NaN   \n",
       "2001-08-06               NaN               NaN                NaN   \n",
       "2001-08-07               NaN               NaN                NaN   \n",
       "2001-08-08               NaN               NaN                NaN   \n",
       "2001-08-09               NaN               NaN                NaN   \n",
       "2001-08-10               NaN               NaN                NaN   \n",
       "2001-08-13               NaN               NaN                NaN   \n",
       "2001-08-14               NaN               NaN                NaN   \n",
       "\n",
       "            1-month_std_7day  1-month_median_7day  1-month_min_7day  \\\n",
       "2001-08-01               NaN                  NaN               NaN   \n",
       "2001-08-02               NaN                  NaN               NaN   \n",
       "2001-08-03               NaN                  NaN               NaN   \n",
       "2001-08-06               NaN                  NaN               NaN   \n",
       "2001-08-07               NaN                  NaN               NaN   \n",
       "2001-08-08               NaN                  NaN               NaN   \n",
       "2001-08-09               NaN                  NaN               NaN   \n",
       "2001-08-10               NaN                  NaN               NaN   \n",
       "2001-08-13               NaN                  NaN               NaN   \n",
       "2001-08-14               NaN                  NaN               NaN   \n",
       "\n",
       "            1-month_max_7day        ...          30-year_mean_15day  \\\n",
       "2001-08-01               NaN        ...                         NaN   \n",
       "2001-08-02               NaN        ...                         NaN   \n",
       "2001-08-03               NaN        ...                         NaN   \n",
       "2001-08-06               NaN        ...                         NaN   \n",
       "2001-08-07               NaN        ...                         NaN   \n",
       "2001-08-08               NaN        ...                         NaN   \n",
       "2001-08-09               NaN        ...                         NaN   \n",
       "2001-08-10               NaN        ...                         NaN   \n",
       "2001-08-13               NaN        ...                         NaN   \n",
       "2001-08-14               NaN        ...                         NaN   \n",
       "\n",
       "            30-year_std_15day  30-year_median_15day  30-year_min_15day  \\\n",
       "2001-08-01                NaN                   NaN                NaN   \n",
       "2001-08-02                NaN                   NaN                NaN   \n",
       "2001-08-03                NaN                   NaN                NaN   \n",
       "2001-08-06                NaN                   NaN                NaN   \n",
       "2001-08-07                NaN                   NaN                NaN   \n",
       "2001-08-08                NaN                   NaN                NaN   \n",
       "2001-08-09                NaN                   NaN                NaN   \n",
       "2001-08-10                NaN                   NaN                NaN   \n",
       "2001-08-13                NaN                   NaN                NaN   \n",
       "2001-08-14                NaN                   NaN                NaN   \n",
       "\n",
       "            30-year_max_15day  30-year_mean_20day  30-year_std_20day  \\\n",
       "2001-08-01                NaN                 NaN                NaN   \n",
       "2001-08-02                NaN                 NaN                NaN   \n",
       "2001-08-03                NaN                 NaN                NaN   \n",
       "2001-08-06                NaN                 NaN                NaN   \n",
       "2001-08-07                NaN                 NaN                NaN   \n",
       "2001-08-08                NaN                 NaN                NaN   \n",
       "2001-08-09                NaN                 NaN                NaN   \n",
       "2001-08-10                NaN                 NaN                NaN   \n",
       "2001-08-13                NaN                 NaN                NaN   \n",
       "2001-08-14                NaN                 NaN                NaN   \n",
       "\n",
       "            30-year_median_20day  30-year_min_20day  30-year_max_20day  \n",
       "2001-08-01                   NaN                NaN                NaN  \n",
       "2001-08-02                   NaN                NaN                NaN  \n",
       "2001-08-03                   NaN                NaN                NaN  \n",
       "2001-08-06                   NaN                NaN                NaN  \n",
       "2001-08-07                   NaN                NaN                NaN  \n",
       "2001-08-08                   NaN                NaN                NaN  \n",
       "2001-08-09                   NaN                NaN                NaN  \n",
       "2001-08-10                   NaN                NaN                NaN  \n",
       "2001-08-13                   NaN                NaN                NaN  \n",
       "2001-08-14                   NaN                NaN                NaN  \n",
       "\n",
       "[10 rows x 220 columns]"
      ]
     },
     "execution_count": 5,
     "metadata": {},
     "output_type": "execute_result"
    }
   ],
   "source": [
    "yield_data_features=pd.concat([rolling_method(yield_data_filtered,i,j) \\\n",
    "                               for i in yield_data_filtered.columns[:11] \\\n",
    "                               for j in [3,7,15,20]],axis=1).shift(11) \n",
    "# 11 beacuse first shift 1 and then shift 10 as rolling window of 20 from 10th to 30th day\n",
    "yield_data_features.head(10)\n"
   ]
  },
  {
   "cell_type": "markdown",
   "metadata": {},
   "source": [
    "** Append the actual yield values and apply lag **"
   ]
  },
  {
   "cell_type": "code",
   "execution_count": 6,
   "metadata": {
    "ExecuteTime": {
     "end_time": "2017-12-11T15:50:30.965062Z",
     "start_time": "2017-12-11T15:50:30.796522Z"
    }
   },
   "outputs": [
    {
     "data": {
      "text/html": [
       "<div>\n",
       "<style scoped>\n",
       "    .dataframe tbody tr th:only-of-type {\n",
       "        vertical-align: middle;\n",
       "    }\n",
       "\n",
       "    .dataframe tbody tr th {\n",
       "        vertical-align: top;\n",
       "    }\n",
       "\n",
       "    .dataframe thead th {\n",
       "        text-align: right;\n",
       "    }\n",
       "</style>\n",
       "<table border=\"1\" class=\"dataframe\">\n",
       "  <thead>\n",
       "    <tr style=\"text-align: right;\">\n",
       "      <th></th>\n",
       "      <th>1-month_mean_3day</th>\n",
       "      <th>1-month_std_3day</th>\n",
       "      <th>1-month_median_3day</th>\n",
       "      <th>1-month_min_3day</th>\n",
       "      <th>1-month_max_3day</th>\n",
       "      <th>1-month_mean_7day</th>\n",
       "      <th>1-month_std_7day</th>\n",
       "      <th>1-month_median_7day</th>\n",
       "      <th>1-month_min_7day</th>\n",
       "      <th>1-month_max_7day</th>\n",
       "      <th>...</th>\n",
       "      <th>3-month_10</th>\n",
       "      <th>6-month_10</th>\n",
       "      <th>1-year_10</th>\n",
       "      <th>2-year_10</th>\n",
       "      <th>3-year_10</th>\n",
       "      <th>5-year_10</th>\n",
       "      <th>7-year_10</th>\n",
       "      <th>10-year_10</th>\n",
       "      <th>20-year_10</th>\n",
       "      <th>30-year_10</th>\n",
       "    </tr>\n",
       "  </thead>\n",
       "  <tbody>\n",
       "    <tr>\n",
       "      <th>2001-09-17</th>\n",
       "      <td>3.479041</td>\n",
       "      <td>0.000581</td>\n",
       "      <td>3.479348</td>\n",
       "      <td>3.478371</td>\n",
       "      <td>3.479403</td>\n",
       "      <td>3.480346</td>\n",
       "      <td>0.002754</td>\n",
       "      <td>3.479403</td>\n",
       "      <td>3.476507</td>\n",
       "      <td>3.483919</td>\n",
       "      <td>...</td>\n",
       "      <td>3.42</td>\n",
       "      <td>3.33</td>\n",
       "      <td>3.44</td>\n",
       "      <td>3.67</td>\n",
       "      <td>3.92</td>\n",
       "      <td>4.43</td>\n",
       "      <td>4.67</td>\n",
       "      <td>4.78</td>\n",
       "      <td>5.44</td>\n",
       "      <td>5.36</td>\n",
       "    </tr>\n",
       "    <tr>\n",
       "      <th>2001-09-18</th>\n",
       "      <td>3.477400</td>\n",
       "      <td>0.003422</td>\n",
       "      <td>3.479348</td>\n",
       "      <td>3.473448</td>\n",
       "      <td>3.479403</td>\n",
       "      <td>3.479910</td>\n",
       "      <td>0.003583</td>\n",
       "      <td>3.479403</td>\n",
       "      <td>3.473448</td>\n",
       "      <td>3.483919</td>\n",
       "      <td>...</td>\n",
       "      <td>3.36</td>\n",
       "      <td>3.28</td>\n",
       "      <td>3.38</td>\n",
       "      <td>3.61</td>\n",
       "      <td>3.88</td>\n",
       "      <td>4.42</td>\n",
       "      <td>4.68</td>\n",
       "      <td>4.79</td>\n",
       "      <td>5.45</td>\n",
       "      <td>5.37</td>\n",
       "    </tr>\n",
       "    <tr>\n",
       "      <th>2001-09-19</th>\n",
       "      <td>3.488839</td>\n",
       "      <td>0.021748</td>\n",
       "      <td>3.479348</td>\n",
       "      <td>3.473448</td>\n",
       "      <td>3.513719</td>\n",
       "      <td>3.484566</td>\n",
       "      <td>0.013335</td>\n",
       "      <td>3.479403</td>\n",
       "      <td>3.473448</td>\n",
       "      <td>3.513719</td>\n",
       "      <td>...</td>\n",
       "      <td>3.37</td>\n",
       "      <td>3.31</td>\n",
       "      <td>3.41</td>\n",
       "      <td>3.64</td>\n",
       "      <td>3.91</td>\n",
       "      <td>4.46</td>\n",
       "      <td>4.72</td>\n",
       "      <td>4.85</td>\n",
       "      <td>5.47</td>\n",
       "      <td>5.39</td>\n",
       "    </tr>\n",
       "    <tr>\n",
       "      <th>2001-09-20</th>\n",
       "      <td>3.503526</td>\n",
       "      <td>0.026496</td>\n",
       "      <td>3.513719</td>\n",
       "      <td>3.473448</td>\n",
       "      <td>3.523412</td>\n",
       "      <td>3.490208</td>\n",
       "      <td>0.019802</td>\n",
       "      <td>3.479403</td>\n",
       "      <td>3.473448</td>\n",
       "      <td>3.523412</td>\n",
       "      <td>...</td>\n",
       "      <td>3.44</td>\n",
       "      <td>3.43</td>\n",
       "      <td>3.55</td>\n",
       "      <td>3.83</td>\n",
       "      <td>4.1</td>\n",
       "      <td>4.63</td>\n",
       "      <td>4.88</td>\n",
       "      <td>4.99</td>\n",
       "      <td>5.59</td>\n",
       "      <td>5.5</td>\n",
       "    </tr>\n",
       "    <tr>\n",
       "      <th>2001-09-21</th>\n",
       "      <td>3.509342</td>\n",
       "      <td>0.016694</td>\n",
       "      <td>3.513719</td>\n",
       "      <td>3.490896</td>\n",
       "      <td>3.523412</td>\n",
       "      <td>3.491228</td>\n",
       "      <td>0.019597</td>\n",
       "      <td>3.479403</td>\n",
       "      <td>3.473448</td>\n",
       "      <td>3.523412</td>\n",
       "      <td>...</td>\n",
       "      <td>3.41</td>\n",
       "      <td>3.39</td>\n",
       "      <td>3.47</td>\n",
       "      <td>3.79</td>\n",
       "      <td>4.07</td>\n",
       "      <td>4.61</td>\n",
       "      <td>4.86</td>\n",
       "      <td>4.97</td>\n",
       "      <td>5.57</td>\n",
       "      <td>5.48</td>\n",
       "    </tr>\n",
       "  </tbody>\n",
       "</table>\n",
       "<p>5 rows × 343 columns</p>\n",
       "</div>"
      ],
      "text/plain": [
       "            1-month_mean_3day  1-month_std_3day  1-month_median_3day  \\\n",
       "2001-09-17           3.479041          0.000581             3.479348   \n",
       "2001-09-18           3.477400          0.003422             3.479348   \n",
       "2001-09-19           3.488839          0.021748             3.479348   \n",
       "2001-09-20           3.503526          0.026496             3.513719   \n",
       "2001-09-21           3.509342          0.016694             3.513719   \n",
       "\n",
       "            1-month_min_3day  1-month_max_3day  1-month_mean_7day  \\\n",
       "2001-09-17          3.478371          3.479403           3.480346   \n",
       "2001-09-18          3.473448          3.479403           3.479910   \n",
       "2001-09-19          3.473448          3.513719           3.484566   \n",
       "2001-09-20          3.473448          3.523412           3.490208   \n",
       "2001-09-21          3.490896          3.523412           3.491228   \n",
       "\n",
       "            1-month_std_7day  1-month_median_7day  1-month_min_7day  \\\n",
       "2001-09-17          0.002754             3.479403          3.476507   \n",
       "2001-09-18          0.003583             3.479403          3.473448   \n",
       "2001-09-19          0.013335             3.479403          3.473448   \n",
       "2001-09-20          0.019802             3.479403          3.473448   \n",
       "2001-09-21          0.019597             3.479403          3.473448   \n",
       "\n",
       "            1-month_max_7day     ...      3-month_10  6-month_10  1-year_10  \\\n",
       "2001-09-17          3.483919     ...            3.42        3.33       3.44   \n",
       "2001-09-18          3.483919     ...            3.36        3.28       3.38   \n",
       "2001-09-19          3.513719     ...            3.37        3.31       3.41   \n",
       "2001-09-20          3.523412     ...            3.44        3.43       3.55   \n",
       "2001-09-21          3.523412     ...            3.41        3.39       3.47   \n",
       "\n",
       "            2-year_10  3-year_10  5-year_10  7-year_10  10-year_10  \\\n",
       "2001-09-17       3.67       3.92       4.43       4.67        4.78   \n",
       "2001-09-18       3.61       3.88       4.42       4.68        4.79   \n",
       "2001-09-19       3.64       3.91       4.46       4.72        4.85   \n",
       "2001-09-20       3.83        4.1       4.63       4.88        4.99   \n",
       "2001-09-21       3.79       4.07       4.61       4.86        4.97   \n",
       "\n",
       "            20-year_10  30-year_10  \n",
       "2001-09-17        5.44        5.36  \n",
       "2001-09-18        5.45        5.37  \n",
       "2001-09-19        5.47        5.39  \n",
       "2001-09-20        5.59         5.5  \n",
       "2001-09-21        5.57        5.48  \n",
       "\n",
       "[5 rows x 343 columns]"
      ]
     },
     "execution_count": 6,
     "metadata": {},
     "output_type": "execute_result"
    }
   ],
   "source": [
    "yield_data_features=pd.concat([yield_data_features,yield_data],axis=1)\n",
    "#yield_data_features.dropna(axis=0,how='any',inplace=True)\n",
    "yield_data_features.head()\n",
    "for i in range(1,11):\n",
    "    temp=yield_data_features[[col for col in yield_data_filtered.columns]].shift(i)\n",
    "    temp.columns=[j+'_'+str(i) for j in list(temp.columns)]\n",
    "    yield_data_features=pd.concat([yield_data_features,temp],axis=1)\n",
    "yield_data_features.dropna(axis=0,how='any',inplace=True)\n",
    "yield_data_features.head()"
   ]
  },
  {
   "cell_type": "markdown",
   "metadata": {},
   "source": [
    "## feature importances plot"
   ]
  },
  {
   "cell_type": "code",
   "execution_count": 14,
   "metadata": {
    "ExecuteTime": {
     "end_time": "2017-12-11T16:00:04.507043Z",
     "start_time": "2017-12-11T16:00:04.476462Z"
    }
   },
   "outputs": [],
   "source": [
    "def feature_importances(target):\n",
    "    print(\"******feature importances:\",target,\"*******\")\n",
    "    Y=yield_data_features[[target]]\n",
    "    X=yield_data_features.drop(target,axis=1)\n",
    "    X_train=X[X.index < '2017-07-01']\n",
    "    X_test=X[X.index >= '2017-07-01']\n",
    "    y_train=Y[Y.index < '2017-07-01']\n",
    "    y_test=Y[Y.index  >= '2017-07-01']\n",
    "    max_depth = 30\n",
    "    regr_rf = RandomForestRegressor(max_depth=max_depth, random_state=2)\n",
    "    regr_rf.fit(X_train, y_train)\n",
    "\n",
    "    features = X.columns\n",
    "    importances = regr_rf.feature_importances_\n",
    "    indices = np.argsort(importances)[-10:][::-1]\n",
    "\n",
    "    plt.title(f'Feature Importances for {target}')\n",
    "    plt.barh(range(len(indices)), importances[indices], color='b', align='center')\n",
    "    plt.yticks(range(len(indices)), features[indices]) ## removed [indices]\n",
    "    plt.xlabel('Relative Importance')\n",
    "    plt.show()"
   ]
  },
  {
   "cell_type": "code",
   "execution_count": 15,
   "metadata": {
    "ExecuteTime": {
     "end_time": "2017-12-11T16:00:58.035359Z",
     "start_time": "2017-12-11T16:00:05.037059Z"
    },
    "scrolled": false
   },
   "outputs": [
    {
     "name": "stdout",
     "output_type": "stream",
     "text": [
      "******feature importances: 1-month *******\n"
     ]
    },
    {
     "name": "stderr",
     "output_type": "stream",
     "text": [
      "C:\\Anaconda3\\lib\\site-packages\\ipykernel_launcher.py:11: DataConversionWarning: A column-vector y was passed when a 1d array was expected. Please change the shape of y to (n_samples,), for example using ravel().\n",
      "  # This is added back by InteractiveShellApp.init_path()\n"
     ]
    },
    {
     "data": {
      "image/png": "[encoded data removed]",
      "text/plain": [
       "<matplotlib.figure.Figure at 0x2562a7d0ac8>"
      ]
     },
     "metadata": {},
     "output_type": "display_data"
    },
    {
     "name": "stdout",
     "output_type": "stream",
     "text": [
      "******feature importances: 3-month *******\n"
     ]
    },
    {
     "name": "stderr",
     "output_type": "stream",
     "text": [
      "C:\\Anaconda3\\lib\\site-packages\\ipykernel_launcher.py:11: DataConversionWarning: A column-vector y was passed when a 1d array was expected. Please change the shape of y to (n_samples,), for example using ravel().\n",
      "  # This is added back by InteractiveShellApp.init_path()\n"
     ]
    },
    {
     "data": {
      "image/png": "[encoded data removed]",
      "text/plain": [
       "<matplotlib.figure.Figure at 0x256279ff358>"
      ]
     },
     "metadata": {},
     "output_type": "display_data"
    },
    {
     "name": "stdout",
     "output_type": "stream",
     "text": [
      "******feature importances: 6-month *******\n"
     ]
    },
    {
     "name": "stderr",
     "output_type": "stream",
     "text": [
      "C:\\Anaconda3\\lib\\site-packages\\ipykernel_launcher.py:11: DataConversionWarning: A column-vector y was passed when a 1d array was expected. Please change the shape of y to (n_samples,), for example using ravel().\n",
      "  # This is added back by InteractiveShellApp.init_path()\n"
     ]
    },
    {
     "data": {
      "image/png": "[encoded data removed]",
      "text/plain": [
       "<matplotlib.figure.Figure at 0x2562b003c18>"
      ]
     },
     "metadata": {},
     "output_type": "display_data"
    },
    {
     "name": "stdout",
     "output_type": "stream",
     "text": [
      "******feature importances: 1-year *******\n"
     ]
    },
    {
     "name": "stderr",
     "output_type": "stream",
     "text": [
      "C:\\Anaconda3\\lib\\site-packages\\ipykernel_launcher.py:11: DataConversionWarning: A column-vector y was passed when a 1d array was expected. Please change the shape of y to (n_samples,), for example using ravel().\n",
      "  # This is added back by InteractiveShellApp.init_path()\n"
     ]
    },
    {
     "data": {
      "image/png": "[encoded data removed]",
      "text/plain": [
       "<matplotlib.figure.Figure at 0x2562b0eb208>"
      ]
     },
     "metadata": {},
     "output_type": "display_data"
    },
    {
     "name": "stdout",
     "output_type": "stream",
     "text": [
      "******feature importances: 2-year *******\n"
     ]
    },
    {
     "name": "stderr",
     "output_type": "stream",
     "text": [
      "C:\\Anaconda3\\lib\\site-packages\\ipykernel_launcher.py:11: DataConversionWarning: A column-vector y was passed when a 1d array was expected. Please change the shape of y to (n_samples,), for example using ravel().\n",
      "  # This is added back by InteractiveShellApp.init_path()\n"
     ]
    },
    {
     "data": {
      "image/png": "[encoded data removed]",
      "text/plain": [
       "<matplotlib.figure.Figure at 0x2562b5e9828>"
      ]
     },
     "metadata": {},
     "output_type": "display_data"
    },
    {
     "name": "stdout",
     "output_type": "stream",
     "text": [
      "******feature importances: 3-year *******\n"
     ]
    },
    {
     "name": "stderr",
     "output_type": "stream",
     "text": [
      "C:\\Anaconda3\\lib\\site-packages\\ipykernel_launcher.py:11: DataConversionWarning: A column-vector y was passed when a 1d array was expected. Please change the shape of y to (n_samples,), for example using ravel().\n",
      "  # This is added back by InteractiveShellApp.init_path()\n"
     ]
    },
    {
     "data": {
      "image/png": "[encoded data removed]",
      "text/plain": [
       "<matplotlib.figure.Figure at 0x256300200b8>"
      ]
     },
     "metadata": {},
     "output_type": "display_data"
    },
    {
     "name": "stdout",
     "output_type": "stream",
     "text": [
      "******feature importances: 5-year *******\n"
     ]
    },
    {
     "name": "stderr",
     "output_type": "stream",
     "text": [
      "C:\\Anaconda3\\lib\\site-packages\\ipykernel_launcher.py:11: DataConversionWarning: A column-vector y was passed when a 1d array was expected. Please change the shape of y to (n_samples,), for example using ravel().\n",
      "  # This is added back by InteractiveShellApp.init_path()\n"
     ]
    },
    {
     "data": {
      "image/png": "[encoded data removed]",
      "text/plain": [
       "<matplotlib.figure.Figure at 0x256301232b0>"
      ]
     },
     "metadata": {},
     "output_type": "display_data"
    },
    {
     "name": "stdout",
     "output_type": "stream",
     "text": [
      "******feature importances: 7-year *******\n"
     ]
    },
    {
     "name": "stderr",
     "output_type": "stream",
     "text": [
      "C:\\Anaconda3\\lib\\site-packages\\ipykernel_launcher.py:11: DataConversionWarning: A column-vector y was passed when a 1d array was expected. Please change the shape of y to (n_samples,), for example using ravel().\n",
      "  # This is added back by InteractiveShellApp.init_path()\n"
     ]
    },
    {
     "data": {
      "image/png": "[encoded data removed]",
      "text/plain": [
       "<matplotlib.figure.Figure at 0x25630159240>"
      ]
     },
     "metadata": {},
     "output_type": "display_data"
    },
    {
     "name": "stdout",
     "output_type": "stream",
     "text": [
      "******feature importances: 10-year *******\n"
     ]
    },
    {
     "name": "stderr",
     "output_type": "stream",
     "text": [
      "C:\\Anaconda3\\lib\\site-packages\\ipykernel_launcher.py:11: DataConversionWarning: A column-vector y was passed when a 1d array was expected. Please change the shape of y to (n_samples,), for example using ravel().\n",
      "  # This is added back by InteractiveShellApp.init_path()\n"
     ]
    },
    {
     "data": {
      "image/png": "[encoded data removed]",
      "text/plain": [
       "<matplotlib.figure.Figure at 0x2562a7e5ef0>"
      ]
     },
     "metadata": {},
     "output_type": "display_data"
    },
    {
     "name": "stdout",
     "output_type": "stream",
     "text": [
      "******feature importances: 20-year *******\n"
     ]
    },
    {
     "name": "stderr",
     "output_type": "stream",
     "text": [
      "C:\\Anaconda3\\lib\\site-packages\\ipykernel_launcher.py:11: DataConversionWarning: A column-vector y was passed when a 1d array was expected. Please change the shape of y to (n_samples,), for example using ravel().\n",
      "  # This is added back by InteractiveShellApp.init_path()\n"
     ]
    },
    {
     "data": {
      "image/png": "[encoded data removed]",
      "text/plain": [
       "<matplotlib.figure.Figure at 0x2562811bfd0>"
      ]
     },
     "metadata": {},
     "output_type": "display_data"
    },
    {
     "name": "stdout",
     "output_type": "stream",
     "text": [
      "******feature importances: 30-year *******\n"
     ]
    },
    {
     "name": "stderr",
     "output_type": "stream",
     "text": [
      "C:\\Anaconda3\\lib\\site-packages\\ipykernel_launcher.py:11: DataConversionWarning: A column-vector y was passed when a 1d array was expected. Please change the shape of y to (n_samples,), for example using ravel().\n",
      "  # This is added back by InteractiveShellApp.init_path()\n"
     ]
    },
    {
     "data": {
      "image/png": "[encoded data removed]",
      "text/plain": [
       "<matplotlib.figure.Figure at 0x2562a9cae48>"
      ]
     },
     "metadata": {},
     "output_type": "display_data"
    }
   ],
   "source": [
    "for target in ['1-month', '3-month', '6-month', '1-year', '2-year', '3-year', '5-year','7-year', '10-year', '20-year', '30-year']:\n",
    "    feature_importances(target)\n",
    "    "
   ]
  }
 ],
 "metadata": {
  "anaconda-cloud": {},
  "hide_input": false,
  "kernelspec": {
   "display_name": "Python 3",
   "language": "python",
   "name": "python3"
  },
  "language_info": {
   "codemirror_mode": {
    "name": "ipython",
    "version": 3
   },
   "file_extension": ".py",
   "mimetype": "text/x-python",
   "name": "python",
   "nbconvert_exporter": "python",
   "pygments_lexer": "ipython3",
   "version": "3.6.3"
  },
  "toc": {
   "nav_menu": {},
   "number_sections": true,
   "sideBar": true,
   "skip_h1_title": false,
   "toc_cell": false,
   "toc_position": {},
   "toc_section_display": "block",
   "toc_window_display": false
  },
  "varInspector": {
   "cols": {
    "lenName": 16,
    "lenType": 16,
    "lenVar": 40
   },
   "kernels_config": {
    "python": {
     "delete_cmd_postfix": "",
     "delete_cmd_prefix": "del ",
     "library": "var_list.py",
     "varRefreshCmd": "print(var_dic_list())"
    },
    "r": {
     "delete_cmd_postfix": ") ",
     "delete_cmd_prefix": "rm(",
     "library": "var_list.r",
     "varRefreshCmd": "cat(var_dic_list()) "
    }
   },
   "types_to_exclude": [
    "module",
    "function",
    "builtin_function_or_method",
    "instance",
    "_Feature"
   ],
   "window_display": false
  }
 },
 "nbformat": 4,
 "nbformat_minor": 2
}
