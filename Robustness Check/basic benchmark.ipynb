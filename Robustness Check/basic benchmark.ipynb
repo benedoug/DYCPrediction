{
 "cells": [
  {
   "cell_type": "code",
   "execution_count": 1,
   "metadata": {
    "ExecuteTime": {
     "end_time": "2017-12-10T23:16:11.647050Z",
     "start_time": "2017-12-10T23:16:10.724589Z"
    }
   },
   "outputs": [],
   "source": [
    "import numpy as np\n",
    "import pandas as pd\n",
    "from scipy.stats import linregress\n",
    "from scipy.signal import savgol_filter\n",
    "import matplotlib.pyplot as plt\n",
    "from sklearn.ensemble import RandomForestRegressor\n",
    "from sklearn.model_selection import train_test_split\n",
    "from sklearn.metrics import r2_score,mean_squared_error\n",
    "from datetime import datetime\n",
    "%matplotlib inline\n"
   ]
  },
  {
   "cell_type": "code",
   "execution_count": 2,
   "metadata": {
    "ExecuteTime": {
     "end_time": "2017-12-10T23:16:12.250959Z",
     "start_time": "2017-12-10T23:16:11.658074Z"
    }
   },
   "outputs": [],
   "source": [
    "yield_data = pd.read_csv('FRB_H15.csv').replace('ND',np.nan).dropna(axis=0,how='any')\n",
    "yield_data['Time Period'] = pd.to_datetime(yield_data['Time Period'])\n",
    "yield_data['Day of week'] = yield_data['Time Period'].dt.dayofweek\n",
    "#derive is weekend\n",
    "yield_data['IS_WEEKEND'] = 1\n",
    "weekend = yield_data['IS_WEEKEND'].copy()\n",
    "weekend[(yield_data['Day of week'] != 5) & (yield_data['Day of week'] != 6)] = 0\n",
    "yield_data['IS_WEEKEND'] = weekend\n",
    "yield_data.set_index('Time Period',inplace=True)\n",
    "yield_data.index.name = None\n",
    "#kickout weekend data\n",
    "yield_data=yield_data.query('IS_WEEKEND==0')\n",
    "#cut off data 2010 onwards,but for rolling window of 30 we need '09 dec data\n",
    "yield_data = yield_data[yield_data.index >'2009-11-30']\n"
   ]
  },
  {
   "cell_type": "markdown",
   "metadata": {},
   "source": [
    "** Use [Savitzky–Golay filter](https://en.wikipedia.org/wiki/Savitzky%E2%80%93Golay_filter) to smooth the series(get rid of peaks in Monday and Friday). I use rolling window of 15 and power of 3 **"
   ]
  },
  {
   "cell_type": "code",
   "execution_count": 3,
   "metadata": {
    "ExecuteTime": {
     "end_time": "2017-12-10T23:16:12.562848Z",
     "start_time": "2017-12-10T23:16:12.316062Z"
    }
   },
   "outputs": [
    {
     "data": {
      "text/plain": [
       "<matplotlib.axes._subplots.AxesSubplot at 0x109469160>"
      ]
     },
     "execution_count": 3,
     "metadata": {},
     "output_type": "execute_result"
    },
    {
     "data": {
      "image/png": "[encoded data removed]",
      "text/plain": [
       "<matplotlib.figure.Figure at 0x10945aac8>"
      ]
     },
     "metadata": {},
     "output_type": "display_data"
    }
   ],
   "source": [
    "##savgol_filter polynomial filter\n",
    "yield_data_filtered = pd.DataFrame(savgol_filter(np.array(yield_data.iloc[:,:11]).transpose(),15,3).transpose())\n",
    "yield_data_filtered.columns = yield_data.iloc[:,:11].columns\n",
    "yield_data_filtered.index = yield_data.index\n",
    "yield_data_filtered.head()\n",
    "yield_data[yield_data.index >'2017-07-01']['1-month'].astype(np.float32).plot()\n",
    "yield_data_filtered[yield_data_filtered.index >'2017-07-01']['1-month'].astype(np.float32).plot()"
   ]
  },
  {
   "cell_type": "markdown",
   "metadata": {},
   "source": [
    "**Define a rolling window function that calculate following statistic for one column:**  \n",
    "1.Mean  \n",
    "2.Standard Deviation  \n",
    "3.Median  \n",
    "4.Min  \n",
    "5.Max  \n",
    "6.Rooted Mean Square  \n",
    "7.[Crest Factor](https://en.wikipedia.org/wiki/Crest_factor)  \n",
    "8.[Zero-crossing Rate](https://en.wikipedia.org/wiki/Zero-crossing_rate)(here is Mean-crossing Rate)  \n",
    "9.Trend(Slope of linear regression)"
   ]
  },
  {
   "cell_type": "code",
   "execution_count": 8,
   "metadata": {
    "ExecuteTime": {
     "end_time": "2017-12-10T23:17:48.654979Z",
     "start_time": "2017-12-10T23:17:48.638496Z"
    }
   },
   "outputs": [
    {
     "data": {
      "text/html": [
       "<div>\n",
       "<style scoped>\n",
       "    .dataframe tbody tr th:only-of-type {\n",
       "        vertical-align: middle;\n",
       "    }\n",
       "\n",
       "    .dataframe tbody tr th {\n",
       "        vertical-align: top;\n",
       "    }\n",
       "\n",
       "    .dataframe thead th {\n",
       "        text-align: right;\n",
       "    }\n",
       "</style>\n",
       "<table border=\"1\" class=\"dataframe\">\n",
       "  <thead>\n",
       "    <tr style=\"text-align: right;\">\n",
       "      <th></th>\n",
       "      <th>1-month</th>\n",
       "      <th>3-month</th>\n",
       "      <th>6-month</th>\n",
       "      <th>1-year</th>\n",
       "      <th>2-year</th>\n",
       "      <th>3-year</th>\n",
       "      <th>5-year</th>\n",
       "      <th>7-year</th>\n",
       "      <th>10-year</th>\n",
       "      <th>20-year</th>\n",
       "      <th>30-year</th>\n",
       "    </tr>\n",
       "  </thead>\n",
       "  <tbody>\n",
       "    <tr>\n",
       "      <th>2009-12-01</th>\n",
       "      <td>NaN</td>\n",
       "      <td>NaN</td>\n",
       "      <td>NaN</td>\n",
       "      <td>NaN</td>\n",
       "      <td>NaN</td>\n",
       "      <td>NaN</td>\n",
       "      <td>NaN</td>\n",
       "      <td>NaN</td>\n",
       "      <td>NaN</td>\n",
       "      <td>NaN</td>\n",
       "      <td>NaN</td>\n",
       "    </tr>\n",
       "    <tr>\n",
       "      <th>2009-12-02</th>\n",
       "      <td>0.100098</td>\n",
       "      <td>0.061363</td>\n",
       "      <td>0.153196</td>\n",
       "      <td>0.271778</td>\n",
       "      <td>0.687016</td>\n",
       "      <td>1.160258</td>\n",
       "      <td>2.054386</td>\n",
       "      <td>2.757788</td>\n",
       "      <td>3.284833</td>\n",
       "      <td>4.120350</td>\n",
       "      <td>4.238709</td>\n",
       "    </tr>\n",
       "    <tr>\n",
       "      <th>2009-12-03</th>\n",
       "      <td>0.086674</td>\n",
       "      <td>0.056951</td>\n",
       "      <td>0.154331</td>\n",
       "      <td>0.284103</td>\n",
       "      <td>0.716897</td>\n",
       "      <td>1.195020</td>\n",
       "      <td>2.092698</td>\n",
       "      <td>2.809209</td>\n",
       "      <td>3.335632</td>\n",
       "      <td>4.177983</td>\n",
       "      <td>4.290404</td>\n",
       "    </tr>\n",
       "    <tr>\n",
       "      <th>2009-12-04</th>\n",
       "      <td>0.073826</td>\n",
       "      <td>0.052056</td>\n",
       "      <td>0.155113</td>\n",
       "      <td>0.295601</td>\n",
       "      <td>0.741628</td>\n",
       "      <td>1.222619</td>\n",
       "      <td>2.124901</td>\n",
       "      <td>2.851474</td>\n",
       "      <td>3.378137</td>\n",
       "      <td>4.225860</td>\n",
       "      <td>4.334141</td>\n",
       "    </tr>\n",
       "    <tr>\n",
       "      <th>2009-12-07</th>\n",
       "      <td>0.061699</td>\n",
       "      <td>0.047002</td>\n",
       "      <td>0.155626</td>\n",
       "      <td>0.306321</td>\n",
       "      <td>0.761818</td>\n",
       "      <td>1.244129</td>\n",
       "      <td>2.151963</td>\n",
       "      <td>2.885915</td>\n",
       "      <td>3.413430</td>\n",
       "      <td>4.265017</td>\n",
       "      <td>4.370661</td>\n",
       "    </tr>\n",
       "  </tbody>\n",
       "</table>\n",
       "</div>"
      ],
      "text/plain": [
       "             1-month   3-month   6-month    1-year    2-year    3-year  \\\n",
       "2009-12-01       NaN       NaN       NaN       NaN       NaN       NaN   \n",
       "2009-12-02  0.100098  0.061363  0.153196  0.271778  0.687016  1.160258   \n",
       "2009-12-03  0.086674  0.056951  0.154331  0.284103  0.716897  1.195020   \n",
       "2009-12-04  0.073826  0.052056  0.155113  0.295601  0.741628  1.222619   \n",
       "2009-12-07  0.061699  0.047002  0.155626  0.306321  0.761818  1.244129   \n",
       "\n",
       "              5-year    7-year   10-year   20-year   30-year  \n",
       "2009-12-01       NaN       NaN       NaN       NaN       NaN  \n",
       "2009-12-02  2.054386  2.757788  3.284833  4.120350  4.238709  \n",
       "2009-12-03  2.092698  2.809209  3.335632  4.177983  4.290404  \n",
       "2009-12-04  2.124901  2.851474  3.378137  4.225860  4.334141  \n",
       "2009-12-07  2.151963  2.885915  3.413430  4.265017  4.370661  "
      ]
     },
     "execution_count": 8,
     "metadata": {},
     "output_type": "execute_result"
    }
   ],
   "source": [
    "pred = yield_data_filtered.shift(1)\n",
    "pred.head()"
   ]
  },
  {
   "cell_type": "code",
   "execution_count": 13,
   "metadata": {
    "ExecuteTime": {
     "end_time": "2017-12-10T23:24:09.028205Z",
     "start_time": "2017-12-10T23:24:09.022170Z"
    },
    "scrolled": false
   },
   "outputs": [],
   "source": [
    "def predictTargetNew(target):\n",
    "    print(\"******predicting:\",target,\"*******\")\n",
    "    #score\n",
    "    r2 = r2_score(yield_data_filtered[target][1:],pred[target][1:])\n",
    "    rmse = np.sqrt(mean_squared_error(yield_data_filtered[target][1:],pred[target][1:]))\n",
    "    print(target,\" R sq:\",r2)\n",
    "    print(target,\" RMSE:\",rmse)"
   ]
  },
  {
   "cell_type": "code",
   "execution_count": 14,
   "metadata": {
    "ExecuteTime": {
     "end_time": "2017-12-10T23:24:09.899858Z",
     "start_time": "2017-12-10T23:24:09.809064Z"
    },
    "scrolled": false
   },
   "outputs": [
    {
     "name": "stdout",
     "output_type": "stream",
     "text": [
      "******predicting: 1-month *******\n",
      "1-month  R sq: 0.999252667242\n",
      "1-month  RMSE: 0.00610987394817\n",
      "******predicting: 3-month *******\n",
      "3-month  R sq: 0.999659717515\n",
      "3-month  RMSE: 0.00457640628436\n",
      "******predicting: 6-month *******\n",
      "6-month  R sq: 0.99968018481\n",
      "6-month  RMSE: 0.00489977310294\n",
      "******predicting: 1-year *******\n",
      "1-year  R sq: 0.999600639342\n",
      "1-year  RMSE: 0.00592553700648\n",
      "******predicting: 2-year *******\n",
      "2-year  R sq: 0.999071418399\n",
      "2-year  RMSE: 0.0098613321613\n",
      "******predicting: 3-year *******\n",
      "3-year  R sq: 0.998703680379\n",
      "3-year  RMSE: 0.0136183204123\n",
      "******predicting: 5-year *******\n",
      "5-year  R sq: 0.998559824854\n",
      "5-year  RMSE: 0.0180034156417\n",
      "******predicting: 7-year *******\n",
      "7-year  R sq: 0.998687897269\n",
      "7-year  RMSE: 0.0195302612386\n",
      "******predicting: 10-year *******\n",
      "10-year  R sq: 0.998940400919\n",
      "10-year  RMSE: 0.0190053115221\n",
      "******predicting: 20-year *******\n",
      "20-year  R sq: 0.999259232032\n",
      "20-year  RMSE: 0.018853108936\n",
      "******predicting: 30-year *******\n",
      "30-year  R sq: 0.999202529324\n",
      "30-year  RMSE: 0.0182465650868\n"
     ]
    }
   ],
   "source": [
    "for target in ['1-month', '3-month', '6-month', '1-year', '2-year', '3-year', '5-year','7-year', '10-year', '20-year', '30-year']:\n",
    "    predictTargetNew(target)"
   ]
  }
 ],
 "metadata": {
  "anaconda-cloud": {},
  "hide_input": false,
  "kernelspec": {
   "display_name": "Python 3",
   "language": "python",
   "name": "python3"
  },
  "language_info": {
   "codemirror_mode": {
    "name": "ipython",
    "version": 3
   },
   "file_extension": ".py",
   "mimetype": "text/x-python",
   "name": "python",
   "nbconvert_exporter": "python",
   "pygments_lexer": "ipython3",
   "version": "3.6.3"
  },
  "toc": {
   "nav_menu": {},
   "number_sections": true,
   "sideBar": true,
   "skip_h1_title": false,
   "toc_cell": false,
   "toc_position": {},
   "toc_section_display": "block",
   "toc_window_display": false
  },
  "varInspector": {
   "cols": {
    "lenName": 16,
    "lenType": 16,
    "lenVar": 40
   },
   "kernels_config": {
    "python": {
     "delete_cmd_postfix": "",
     "delete_cmd_prefix": "del ",
     "library": "var_list.py",
     "varRefreshCmd": "print(var_dic_list())"
    },
    "r": {
     "delete_cmd_postfix": ") ",
     "delete_cmd_prefix": "rm(",
     "library": "var_list.r",
     "varRefreshCmd": "cat(var_dic_list()) "
    }
   },
   "types_to_exclude": [
    "module",
    "function",
    "builtin_function_or_method",
    "instance",
    "_Feature"
   ],
   "window_display": false
  }
 },
 "nbformat": 4,
 "nbformat_minor": 2
}
