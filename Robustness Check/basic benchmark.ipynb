{
 "cells": [
  {
   "cell_type": "code",
   "execution_count": 1,
   "metadata": {
    "ExecuteTime": {
     "end_time": "2017-12-11T14:13:44.072095Z",
     "start_time": "2017-12-11T14:13:42.215032Z"
    }
   },
   "outputs": [],
   "source": [
    "import numpy as np\n",
    "import pandas as pd\n",
    "from scipy.stats import linregress\n",
    "from scipy.signal import savgol_filter\n",
    "import matplotlib.pyplot as plt\n",
    "from sklearn.ensemble import RandomForestRegressor\n",
    "from sklearn.model_selection import train_test_split\n",
    "from sklearn.metrics import r2_score,mean_squared_error\n",
    "from datetime import datetime\n",
    "%matplotlib inline\n"
   ]
  },
  {
   "cell_type": "code",
   "execution_count": 2,
   "metadata": {
    "ExecuteTime": {
     "end_time": "2017-12-11T14:13:44.856478Z",
     "start_time": "2017-12-11T14:13:44.072095Z"
    }
   },
   "outputs": [],
   "source": [
    "yield_data = pd.read_csv('FRB_H15.csv').replace('ND',np.nan).dropna(axis=0,how='any')\n",
    "yield_data['Time Period'] = pd.to_datetime(yield_data['Time Period'])\n",
    "yield_data['Day of week'] = yield_data['Time Period'].dt.dayofweek\n",
    "#derive is weekend\n",
    "yield_data['IS_WEEKEND'] = 1\n",
    "weekend = yield_data['IS_WEEKEND'].copy()\n",
    "weekend[(yield_data['Day of week'] != 5) & (yield_data['Day of week'] != 6)] = 0\n",
    "yield_data['IS_WEEKEND'] = weekend\n",
    "yield_data.set_index('Time Period',inplace=True)\n",
    "yield_data.index.name = None\n",
    "#kickout weekend data\n",
    "yield_data=yield_data.query('IS_WEEKEND==0')\n",
    "#cut off data 2010 onwards,but for rolling window of 30 we need '09 dec data\n",
    "yield_data = yield_data[yield_data.index >= '2017-07-01']\n"
   ]
  },
  {
   "cell_type": "markdown",
   "metadata": {},
   "source": [
    "** Use [Savitzky–Golay filter](https://en.wikipedia.org/wiki/Savitzky%E2%80%93Golay_filter) to smooth the series(get rid of peaks in Monday and Friday). I use rolling window of 15 and power of 3 **"
   ]
  },
  {
   "cell_type": "code",
   "execution_count": 3,
   "metadata": {
    "ExecuteTime": {
     "end_time": "2017-12-11T14:13:45.297491Z",
     "start_time": "2017-12-11T14:13:44.856478Z"
    }
   },
   "outputs": [
    {
     "data": {
      "text/plain": [
       "<matplotlib.axes._subplots.AxesSubplot at 0x25b159c5128>"
      ]
     },
     "execution_count": 3,
     "metadata": {},
     "output_type": "execute_result"
    },
    {
     "data": {
      "image/png": "[encoded data removed]",
      "text/plain": [
       "<matplotlib.figure.Figure at 0x25b159ceb00>"
      ]
     },
     "metadata": {},
     "output_type": "display_data"
    }
   ],
   "source": [
    "##savgol_filter polynomial filter\n",
    "yield_data_filtered = pd.DataFrame(savgol_filter(np.array(yield_data.iloc[:,:11]).transpose(),15,3).transpose())\n",
    "yield_data_filtered.columns = yield_data.iloc[:,:11].columns\n",
    "yield_data_filtered.index = yield_data.index\n",
    "yield_data_filtered.head()\n",
    "yield_data[yield_data.index >'2017-07-01']['1-month'].astype(np.float32).plot()\n",
    "yield_data_filtered[yield_data_filtered.index >'2017-07-01']['1-month'].astype(np.float32).plot()"
   ]
  },
  {
   "cell_type": "markdown",
   "metadata": {},
   "source": [
    "**Define a rolling window function that calculate following statistic for one column:**  \n",
    "1.Mean  \n",
    "2.Standard Deviation  \n",
    "3.Median  \n",
    "4.Min  \n",
    "5.Max  \n",
    "6.Rooted Mean Square  \n",
    "7.[Crest Factor](https://en.wikipedia.org/wiki/Crest_factor)  \n",
    "8.[Zero-crossing Rate](https://en.wikipedia.org/wiki/Zero-crossing_rate)(here is Mean-crossing Rate)  \n",
    "9.Trend(Slope of linear regression)"
   ]
  },
  {
   "cell_type": "code",
   "execution_count": 4,
   "metadata": {
    "ExecuteTime": {
     "end_time": "2017-12-11T14:13:45.319022Z",
     "start_time": "2017-12-11T14:13:45.299481Z"
    }
   },
   "outputs": [
    {
     "data": {
      "text/html": [
       "<div>\n",
       "<style scoped>\n",
       "    .dataframe tbody tr th:only-of-type {\n",
       "        vertical-align: middle;\n",
       "    }\n",
       "\n",
       "    .dataframe tbody tr th {\n",
       "        vertical-align: top;\n",
       "    }\n",
       "\n",
       "    .dataframe thead th {\n",
       "        text-align: right;\n",
       "    }\n",
       "</style>\n",
       "<table border=\"1\" class=\"dataframe\">\n",
       "  <thead>\n",
       "    <tr style=\"text-align: right;\">\n",
       "      <th></th>\n",
       "      <th>1-month</th>\n",
       "      <th>3-month</th>\n",
       "      <th>6-month</th>\n",
       "      <th>1-year</th>\n",
       "      <th>2-year</th>\n",
       "      <th>3-year</th>\n",
       "      <th>5-year</th>\n",
       "      <th>7-year</th>\n",
       "      <th>10-year</th>\n",
       "      <th>20-year</th>\n",
       "      <th>30-year</th>\n",
       "      <th>Day of week</th>\n",
       "      <th>IS_WEEKEND</th>\n",
       "    </tr>\n",
       "  </thead>\n",
       "  <tbody>\n",
       "    <tr>\n",
       "      <th>2017-07-03</th>\n",
       "      <td>NaN</td>\n",
       "      <td>NaN</td>\n",
       "      <td>NaN</td>\n",
       "      <td>NaN</td>\n",
       "      <td>NaN</td>\n",
       "      <td>NaN</td>\n",
       "      <td>NaN</td>\n",
       "      <td>NaN</td>\n",
       "      <td>NaN</td>\n",
       "      <td>NaN</td>\n",
       "      <td>NaN</td>\n",
       "      <td>NaN</td>\n",
       "      <td>NaN</td>\n",
       "    </tr>\n",
       "    <tr>\n",
       "      <th>2017-07-05</th>\n",
       "      <td>0.96</td>\n",
       "      <td>1.06</td>\n",
       "      <td>1.13</td>\n",
       "      <td>1.24</td>\n",
       "      <td>1.41</td>\n",
       "      <td>1.6</td>\n",
       "      <td>1.93</td>\n",
       "      <td>2.19</td>\n",
       "      <td>2.35</td>\n",
       "      <td>2.65</td>\n",
       "      <td>2.86</td>\n",
       "      <td>0.0</td>\n",
       "      <td>0.0</td>\n",
       "    </tr>\n",
       "    <tr>\n",
       "      <th>2017-07-06</th>\n",
       "      <td>0.97</td>\n",
       "      <td>1.05</td>\n",
       "      <td>1.15</td>\n",
       "      <td>1.24</td>\n",
       "      <td>1.41</td>\n",
       "      <td>1.59</td>\n",
       "      <td>1.92</td>\n",
       "      <td>2.17</td>\n",
       "      <td>2.33</td>\n",
       "      <td>2.63</td>\n",
       "      <td>2.85</td>\n",
       "      <td>2.0</td>\n",
       "      <td>0.0</td>\n",
       "    </tr>\n",
       "    <tr>\n",
       "      <th>2017-07-07</th>\n",
       "      <td>0.95</td>\n",
       "      <td>1.04</td>\n",
       "      <td>1.14</td>\n",
       "      <td>1.23</td>\n",
       "      <td>1.4</td>\n",
       "      <td>1.6</td>\n",
       "      <td>1.94</td>\n",
       "      <td>2.21</td>\n",
       "      <td>2.37</td>\n",
       "      <td>2.68</td>\n",
       "      <td>2.9</td>\n",
       "      <td>3.0</td>\n",
       "      <td>0.0</td>\n",
       "    </tr>\n",
       "    <tr>\n",
       "      <th>2017-07-10</th>\n",
       "      <td>0.94</td>\n",
       "      <td>1.05</td>\n",
       "      <td>1.14</td>\n",
       "      <td>1.22</td>\n",
       "      <td>1.4</td>\n",
       "      <td>1.6</td>\n",
       "      <td>1.95</td>\n",
       "      <td>2.22</td>\n",
       "      <td>2.39</td>\n",
       "      <td>2.71</td>\n",
       "      <td>2.93</td>\n",
       "      <td>4.0</td>\n",
       "      <td>0.0</td>\n",
       "    </tr>\n",
       "  </tbody>\n",
       "</table>\n",
       "</div>"
      ],
      "text/plain": [
       "           1-month 3-month 6-month 1-year 2-year 3-year 5-year 7-year 10-year  \\\n",
       "2017-07-03     NaN     NaN     NaN    NaN    NaN    NaN    NaN    NaN     NaN   \n",
       "2017-07-05    0.96    1.06    1.13   1.24   1.41    1.6   1.93   2.19    2.35   \n",
       "2017-07-06    0.97    1.05    1.15   1.24   1.41   1.59   1.92   2.17    2.33   \n",
       "2017-07-07    0.95    1.04    1.14   1.23    1.4    1.6   1.94   2.21    2.37   \n",
       "2017-07-10    0.94    1.05    1.14   1.22    1.4    1.6   1.95   2.22    2.39   \n",
       "\n",
       "           20-year 30-year  Day of week  IS_WEEKEND  \n",
       "2017-07-03     NaN     NaN          NaN         NaN  \n",
       "2017-07-05    2.65    2.86          0.0         0.0  \n",
       "2017-07-06    2.63    2.85          2.0         0.0  \n",
       "2017-07-07    2.68     2.9          3.0         0.0  \n",
       "2017-07-10    2.71    2.93          4.0         0.0  "
      ]
     },
     "execution_count": 4,
     "metadata": {},
     "output_type": "execute_result"
    }
   ],
   "source": [
    "pred = yield_data.shift(1)\n",
    "pred.head()"
   ]
  },
  {
   "cell_type": "code",
   "execution_count": 5,
   "metadata": {
    "ExecuteTime": {
     "end_time": "2017-12-11T14:13:45.331559Z",
     "start_time": "2017-12-11T14:13:45.321527Z"
    },
    "scrolled": false
   },
   "outputs": [],
   "source": [
    "def predictTargetNew(target):\n",
    "    print(\"******predicting:\",target,\"*******\")\n",
    "    #score\n",
    "    r2 = r2_score(yield_data[target][1:],pred[target][1:])\n",
    "    rmse = np.sqrt(mean_squared_error(yield_data[target][1:],pred[target][1:]))\n",
    "    print(target,\" R sq:\",r2)\n",
    "    print(target,\" RMSE:\",rmse)"
   ]
  },
  {
   "cell_type": "code",
   "execution_count": 6,
   "metadata": {
    "ExecuteTime": {
     "end_time": "2017-12-11T14:13:45.439354Z",
     "start_time": "2017-12-11T14:13:45.333565Z"
    },
    "scrolled": false
   },
   "outputs": [
    {
     "name": "stdout",
     "output_type": "stream",
     "text": [
      "******predicting: 1-month *******\n",
      "1-month  R sq: -0.524298323912\n",
      "1-month  RMSE: 0.059432342961\n",
      "******predicting: 3-month *******\n",
      "3-month  R sq: 0.731494569902\n",
      "3-month  RMSE: 0.0211531942533\n",
      "******predicting: 6-month *******\n",
      "6-month  R sq: 0.633236634894\n",
      "6-month  RMSE: 0.0159448201036\n",
      "******predicting: 1-year *******\n",
      "1-year  R sq: 0.766347737929\n",
      "1-year  RMSE: 0.0145555627435\n",
      "******predicting: 2-year *******\n",
      "2-year  R sq: 0.776197249881\n",
      "2-year  RMSE: 0.0194848920179\n",
      "******predicting: 3-year *******\n",
      "3-year  R sq: 0.779675363473\n",
      "3-year  RMSE: 0.0252109742045\n",
      "******predicting: 5-year *******\n",
      "5-year  R sq: 0.796174641647\n",
      "5-year  RMSE: 0.0326771573147\n",
      "******predicting: 7-year *******\n",
      "7-year  R sq: 0.803358960737\n",
      "7-year  RMSE: 0.033572587688\n",
      "******predicting: 10-year *******\n",
      "10-year  R sq: 0.821133616099\n",
      "10-year  RMSE: 0.0331662479036\n",
      "******predicting: 20-year *******\n",
      "20-year  R sq: 0.796932261818\n",
      "20-year  RMSE: 0.0327548676678\n",
      "******predicting: 30-year *******\n",
      "30-year  R sq: 0.776227565188\n",
      "30-year  RMSE: 0.0308083193695\n"
     ]
    }
   ],
   "source": [
    "for target in ['1-month', '3-month', '6-month', '1-year', '2-year', '3-year', '5-year','7-year', '10-year', '20-year', '30-year']:\n",
    "    predictTargetNew(target)"
   ]
  }
 ],
 "metadata": {
  "anaconda-cloud": {},
  "hide_input": false,
  "kernelspec": {
   "display_name": "Python 3",
   "language": "python",
   "name": "python3"
  },
  "language_info": {
   "codemirror_mode": {
    "name": "ipython",
    "version": 3
   },
   "file_extension": ".py",
   "mimetype": "text/x-python",
   "name": "python",
   "nbconvert_exporter": "python",
   "pygments_lexer": "ipython3",
   "version": "3.6.3"
  },
  "toc": {
   "nav_menu": {},
   "number_sections": true,
   "sideBar": true,
   "skip_h1_title": false,
   "toc_cell": false,
   "toc_position": {},
   "toc_section_display": "block",
   "toc_window_display": false
  },
  "varInspector": {
   "cols": {
    "lenName": 16,
    "lenType": 16,
    "lenVar": 40
   },
   "kernels_config": {
    "python": {
     "delete_cmd_postfix": "",
     "delete_cmd_prefix": "del ",
     "library": "var_list.py",
     "varRefreshCmd": "print(var_dic_list())"
    },
    "r": {
     "delete_cmd_postfix": ") ",
     "delete_cmd_prefix": "rm(",
     "library": "var_list.r",
     "varRefreshCmd": "cat(var_dic_list()) "
    }
   },
   "types_to_exclude": [
    "module",
    "function",
    "builtin_function_or_method",
    "instance",
    "_Feature"
   ],
   "window_display": false
  }
 },
 "nbformat": 4,
 "nbformat_minor": 2
}
