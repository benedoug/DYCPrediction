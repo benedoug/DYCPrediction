{
 "cells": [
  {
   "cell_type": "code",
   "execution_count": 1,
   "metadata": {
    "collapsed": true
   },
   "outputs": [],
   "source": [
    "import numpy as np\n",
    "import pandas as pd\n",
    "from scipy.stats import linregress\n",
    "from scipy.signal import savgol_filter\n",
    "import matplotlib.pyplot as plt\n",
    "from sklearn.ensemble import RandomForestRegressor\n",
    "from sklearn.model_selection import train_test_split\n",
    "from sklearn.metrics import r2_score,mean_squared_error\n",
    "from datetime import datetime\n",
    "%matplotlib inline"
   ]
  },
  {
   "cell_type": "code",
   "execution_count": 40,
   "metadata": {
    "collapsed": true
   },
   "outputs": [],
   "source": [
    "yield_data = pd.read_csv('missing_0.3.csv')"
   ]
  },
  {
   "cell_type": "code",
   "execution_count": 41,
   "metadata": {
    "collapsed": true
   },
   "outputs": [],
   "source": [
    "yield_data = yield_data.set_index('Unnamed: 0')\n",
    "yield_data.index.name='Time Period'"
   ]
  },
  {
   "cell_type": "code",
   "execution_count": 42,
   "metadata": {},
   "outputs": [
    {
     "data": {
      "text/html": [
       "<div>\n",
       "<style>\n",
       "    .dataframe thead tr:only-child th {\n",
       "        text-align: right;\n",
       "    }\n",
       "\n",
       "    .dataframe thead th {\n",
       "        text-align: left;\n",
       "    }\n",
       "\n",
       "    .dataframe tbody tr th {\n",
       "        vertical-align: top;\n",
       "    }\n",
       "</style>\n",
       "<table border=\"1\" class=\"dataframe\">\n",
       "  <thead>\n",
       "    <tr style=\"text-align: right;\">\n",
       "      <th></th>\n",
       "      <th>1-month</th>\n",
       "      <th>3-month</th>\n",
       "      <th>6-month</th>\n",
       "      <th>1-year</th>\n",
       "      <th>2-year</th>\n",
       "      <th>3-year</th>\n",
       "      <th>5-year</th>\n",
       "      <th>7-year</th>\n",
       "      <th>10-year</th>\n",
       "      <th>20-year</th>\n",
       "      <th>30-year</th>\n",
       "      <th>Day of week</th>\n",
       "      <th>IS_WEEKEND</th>\n",
       "    </tr>\n",
       "    <tr>\n",
       "      <th>Time Period</th>\n",
       "      <th></th>\n",
       "      <th></th>\n",
       "      <th></th>\n",
       "      <th></th>\n",
       "      <th></th>\n",
       "      <th></th>\n",
       "      <th></th>\n",
       "      <th></th>\n",
       "      <th></th>\n",
       "      <th></th>\n",
       "      <th></th>\n",
       "      <th></th>\n",
       "      <th></th>\n",
       "    </tr>\n",
       "  </thead>\n",
       "  <tbody>\n",
       "    <tr>\n",
       "      <th>2009-12-01</th>\n",
       "      <td>0.09</td>\n",
       "      <td>NaN</td>\n",
       "      <td>NaN</td>\n",
       "      <td>0.26</td>\n",
       "      <td>0.67</td>\n",
       "      <td>1.14</td>\n",
       "      <td>NaN</td>\n",
       "      <td>2.74</td>\n",
       "      <td>3.28</td>\n",
       "      <td>4.14</td>\n",
       "      <td>4.26</td>\n",
       "      <td>NaN</td>\n",
       "      <td>0.0</td>\n",
       "    </tr>\n",
       "    <tr>\n",
       "      <th>2009-12-02</th>\n",
       "      <td>NaN</td>\n",
       "      <td>NaN</td>\n",
       "      <td>NaN</td>\n",
       "      <td>0.28</td>\n",
       "      <td>NaN</td>\n",
       "      <td>NaN</td>\n",
       "      <td>2.09</td>\n",
       "      <td>2.80</td>\n",
       "      <td>NaN</td>\n",
       "      <td>4.14</td>\n",
       "      <td>4.26</td>\n",
       "      <td>2.0</td>\n",
       "      <td>0.0</td>\n",
       "    </tr>\n",
       "    <tr>\n",
       "      <th>2009-12-03</th>\n",
       "      <td>0.09</td>\n",
       "      <td>0.06</td>\n",
       "      <td>NaN</td>\n",
       "      <td>0.30</td>\n",
       "      <td>0.74</td>\n",
       "      <td>1.23</td>\n",
       "      <td>2.14</td>\n",
       "      <td>2.87</td>\n",
       "      <td>3.39</td>\n",
       "      <td>4.23</td>\n",
       "      <td>NaN</td>\n",
       "      <td>NaN</td>\n",
       "      <td>NaN</td>\n",
       "    </tr>\n",
       "    <tr>\n",
       "      <th>2009-12-04</th>\n",
       "      <td>NaN</td>\n",
       "      <td>NaN</td>\n",
       "      <td>0.17</td>\n",
       "      <td>0.36</td>\n",
       "      <td>NaN</td>\n",
       "      <td>1.34</td>\n",
       "      <td>2.24</td>\n",
       "      <td>2.97</td>\n",
       "      <td>3.48</td>\n",
       "      <td>4.31</td>\n",
       "      <td>NaN</td>\n",
       "      <td>4.0</td>\n",
       "      <td>0.0</td>\n",
       "    </tr>\n",
       "    <tr>\n",
       "      <th>2009-12-07</th>\n",
       "      <td>NaN</td>\n",
       "      <td>0.04</td>\n",
       "      <td>NaN</td>\n",
       "      <td>0.32</td>\n",
       "      <td>0.78</td>\n",
       "      <td>1.26</td>\n",
       "      <td>2.19</td>\n",
       "      <td>2.92</td>\n",
       "      <td>3.44</td>\n",
       "      <td>NaN</td>\n",
       "      <td>4.40</td>\n",
       "      <td>0.0</td>\n",
       "      <td>0.0</td>\n",
       "    </tr>\n",
       "  </tbody>\n",
       "</table>\n",
       "</div>"
      ],
      "text/plain": [
       "             1-month  3-month  6-month  1-year  2-year  3-year  5-year  \\\n",
       "Time Period                                                              \n",
       "2009-12-01      0.09      NaN      NaN    0.26    0.67    1.14     NaN   \n",
       "2009-12-02       NaN      NaN      NaN    0.28     NaN     NaN    2.09   \n",
       "2009-12-03      0.09     0.06      NaN    0.30    0.74    1.23    2.14   \n",
       "2009-12-04       NaN      NaN     0.17    0.36     NaN    1.34    2.24   \n",
       "2009-12-07       NaN     0.04      NaN    0.32    0.78    1.26    2.19   \n",
       "\n",
       "             7-year  10-year  20-year  30-year  Day of week  IS_WEEKEND  \n",
       "Time Period                                                              \n",
       "2009-12-01     2.74     3.28     4.14     4.26          NaN         0.0  \n",
       "2009-12-02     2.80      NaN     4.14     4.26          2.0         0.0  \n",
       "2009-12-03     2.87     3.39     4.23      NaN          NaN         NaN  \n",
       "2009-12-04     2.97     3.48     4.31      NaN          4.0         0.0  \n",
       "2009-12-07     2.92     3.44      NaN     4.40          0.0         0.0  "
      ]
     },
     "execution_count": 42,
     "metadata": {},
     "output_type": "execute_result"
    }
   ],
   "source": [
    "yield_data.head()"
   ]
  },
  {
   "cell_type": "code",
   "execution_count": 43,
   "metadata": {
    "collapsed": true
   },
   "outputs": [],
   "source": [
    "yield_data = yield_data.iloc[:,0:11] #get rid of day of week and is weekend\n",
    "yield_data_filtered = yield_data"
   ]
  },
  {
   "cell_type": "code",
   "execution_count": 44,
   "metadata": {},
   "outputs": [
    {
     "data": {
      "text/html": [
       "<div>\n",
       "<style>\n",
       "    .dataframe thead tr:only-child th {\n",
       "        text-align: right;\n",
       "    }\n",
       "\n",
       "    .dataframe thead th {\n",
       "        text-align: left;\n",
       "    }\n",
       "\n",
       "    .dataframe tbody tr th {\n",
       "        vertical-align: top;\n",
       "    }\n",
       "</style>\n",
       "<table border=\"1\" class=\"dataframe\">\n",
       "  <thead>\n",
       "    <tr style=\"text-align: right;\">\n",
       "      <th></th>\n",
       "      <th>1-month</th>\n",
       "      <th>3-month</th>\n",
       "      <th>6-month</th>\n",
       "      <th>1-year</th>\n",
       "      <th>2-year</th>\n",
       "      <th>3-year</th>\n",
       "      <th>5-year</th>\n",
       "      <th>7-year</th>\n",
       "      <th>10-year</th>\n",
       "      <th>20-year</th>\n",
       "      <th>30-year</th>\n",
       "    </tr>\n",
       "    <tr>\n",
       "      <th>Time Period</th>\n",
       "      <th></th>\n",
       "      <th></th>\n",
       "      <th></th>\n",
       "      <th></th>\n",
       "      <th></th>\n",
       "      <th></th>\n",
       "      <th></th>\n",
       "      <th></th>\n",
       "      <th></th>\n",
       "      <th></th>\n",
       "      <th></th>\n",
       "    </tr>\n",
       "  </thead>\n",
       "  <tbody>\n",
       "    <tr>\n",
       "      <th>2009-12-01</th>\n",
       "      <td>0.09</td>\n",
       "      <td>NaN</td>\n",
       "      <td>NaN</td>\n",
       "      <td>0.26</td>\n",
       "      <td>0.67</td>\n",
       "      <td>1.14</td>\n",
       "      <td>NaN</td>\n",
       "      <td>2.74</td>\n",
       "      <td>3.28</td>\n",
       "      <td>4.14</td>\n",
       "      <td>4.26</td>\n",
       "    </tr>\n",
       "    <tr>\n",
       "      <th>2009-12-02</th>\n",
       "      <td>NaN</td>\n",
       "      <td>NaN</td>\n",
       "      <td>NaN</td>\n",
       "      <td>0.28</td>\n",
       "      <td>NaN</td>\n",
       "      <td>NaN</td>\n",
       "      <td>2.09</td>\n",
       "      <td>2.80</td>\n",
       "      <td>NaN</td>\n",
       "      <td>4.14</td>\n",
       "      <td>4.26</td>\n",
       "    </tr>\n",
       "    <tr>\n",
       "      <th>2009-12-03</th>\n",
       "      <td>0.09</td>\n",
       "      <td>0.06</td>\n",
       "      <td>NaN</td>\n",
       "      <td>0.30</td>\n",
       "      <td>0.74</td>\n",
       "      <td>1.23</td>\n",
       "      <td>2.14</td>\n",
       "      <td>2.87</td>\n",
       "      <td>3.39</td>\n",
       "      <td>4.23</td>\n",
       "      <td>NaN</td>\n",
       "    </tr>\n",
       "    <tr>\n",
       "      <th>2009-12-04</th>\n",
       "      <td>NaN</td>\n",
       "      <td>NaN</td>\n",
       "      <td>0.17</td>\n",
       "      <td>0.36</td>\n",
       "      <td>NaN</td>\n",
       "      <td>1.34</td>\n",
       "      <td>2.24</td>\n",
       "      <td>2.97</td>\n",
       "      <td>3.48</td>\n",
       "      <td>4.31</td>\n",
       "      <td>NaN</td>\n",
       "    </tr>\n",
       "    <tr>\n",
       "      <th>2009-12-07</th>\n",
       "      <td>NaN</td>\n",
       "      <td>0.04</td>\n",
       "      <td>NaN</td>\n",
       "      <td>0.32</td>\n",
       "      <td>0.78</td>\n",
       "      <td>1.26</td>\n",
       "      <td>2.19</td>\n",
       "      <td>2.92</td>\n",
       "      <td>3.44</td>\n",
       "      <td>NaN</td>\n",
       "      <td>4.40</td>\n",
       "    </tr>\n",
       "  </tbody>\n",
       "</table>\n",
       "</div>"
      ],
      "text/plain": [
       "             1-month  3-month  6-month  1-year  2-year  3-year  5-year  \\\n",
       "Time Period                                                              \n",
       "2009-12-01      0.09      NaN      NaN    0.26    0.67    1.14     NaN   \n",
       "2009-12-02       NaN      NaN      NaN    0.28     NaN     NaN    2.09   \n",
       "2009-12-03      0.09     0.06      NaN    0.30    0.74    1.23    2.14   \n",
       "2009-12-04       NaN      NaN     0.17    0.36     NaN    1.34    2.24   \n",
       "2009-12-07       NaN     0.04      NaN    0.32    0.78    1.26    2.19   \n",
       "\n",
       "             7-year  10-year  20-year  30-year  \n",
       "Time Period                                     \n",
       "2009-12-01     2.74     3.28     4.14     4.26  \n",
       "2009-12-02     2.80      NaN     4.14     4.26  \n",
       "2009-12-03     2.87     3.39     4.23      NaN  \n",
       "2009-12-04     2.97     3.48     4.31      NaN  \n",
       "2009-12-07     2.92     3.44      NaN     4.40  "
      ]
     },
     "execution_count": 44,
     "metadata": {},
     "output_type": "execute_result"
    }
   ],
   "source": [
    "yield_data_filtered.head()"
   ]
  },
  {
   "cell_type": "code",
   "execution_count": 45,
   "metadata": {
    "collapsed": true
   },
   "outputs": [],
   "source": [
    "def rolling_method(df,col,window):\n",
    "    method = ['mean','std','median','min','max']\n",
    "    a = df[col].rolling(window=window, min_periods = 1)\n",
    "    b = pd.concat([getattr(a,k)() for k in method],axis=1)\n",
    "    b.columns  = method\n",
    "    #b['RMS'] = a.apply(lambda y: np.sqrt(np.mean(y**2)))\n",
    "    #b['crest'] = 0.5*(b['max']-b['min'])/b['RMS']\n",
    "    #b['crossing'] = a.apply(lambda y: len(np.where(np.diff(y - np.mean(y)))[0]))/window\n",
    "    #b['slope'] = a.apply(lambda y: linregress(range(window),y)[0])\n",
    "    b.columns = [col + '_'+ k +'_'+str(window)+'day' \n",
    "                 for k in ['mean','std','median','min','max'#,'RMS','crest','crossing','slope'\n",
    "                          ]]\n",
    "    return b"
   ]
  },
  {
   "cell_type": "code",
   "execution_count": 46,
   "metadata": {},
   "outputs": [
    {
     "data": {
      "text/html": [
       "<div>\n",
       "<style>\n",
       "    .dataframe thead tr:only-child th {\n",
       "        text-align: right;\n",
       "    }\n",
       "\n",
       "    .dataframe thead th {\n",
       "        text-align: left;\n",
       "    }\n",
       "\n",
       "    .dataframe tbody tr th {\n",
       "        vertical-align: top;\n",
       "    }\n",
       "</style>\n",
       "<table border=\"1\" class=\"dataframe\">\n",
       "  <thead>\n",
       "    <tr style=\"text-align: right;\">\n",
       "      <th></th>\n",
       "      <th>1-month_mean_3day</th>\n",
       "      <th>1-month_std_3day</th>\n",
       "      <th>1-month_median_3day</th>\n",
       "      <th>1-month_min_3day</th>\n",
       "      <th>1-month_max_3day</th>\n",
       "      <th>1-month_mean_7day</th>\n",
       "      <th>1-month_std_7day</th>\n",
       "      <th>1-month_median_7day</th>\n",
       "      <th>1-month_min_7day</th>\n",
       "      <th>1-month_max_7day</th>\n",
       "      <th>...</th>\n",
       "      <th>30-year_mean_15day</th>\n",
       "      <th>30-year_std_15day</th>\n",
       "      <th>30-year_median_15day</th>\n",
       "      <th>30-year_min_15day</th>\n",
       "      <th>30-year_max_15day</th>\n",
       "      <th>30-year_mean_20day</th>\n",
       "      <th>30-year_std_20day</th>\n",
       "      <th>30-year_median_20day</th>\n",
       "      <th>30-year_min_20day</th>\n",
       "      <th>30-year_max_20day</th>\n",
       "    </tr>\n",
       "    <tr>\n",
       "      <th>Time Period</th>\n",
       "      <th></th>\n",
       "      <th></th>\n",
       "      <th></th>\n",
       "      <th></th>\n",
       "      <th></th>\n",
       "      <th></th>\n",
       "      <th></th>\n",
       "      <th></th>\n",
       "      <th></th>\n",
       "      <th></th>\n",
       "      <th></th>\n",
       "      <th></th>\n",
       "      <th></th>\n",
       "      <th></th>\n",
       "      <th></th>\n",
       "      <th></th>\n",
       "      <th></th>\n",
       "      <th></th>\n",
       "      <th></th>\n",
       "      <th></th>\n",
       "      <th></th>\n",
       "    </tr>\n",
       "  </thead>\n",
       "  <tbody>\n",
       "    <tr>\n",
       "      <th>2009-12-01</th>\n",
       "      <td>NaN</td>\n",
       "      <td>NaN</td>\n",
       "      <td>NaN</td>\n",
       "      <td>NaN</td>\n",
       "      <td>NaN</td>\n",
       "      <td>NaN</td>\n",
       "      <td>NaN</td>\n",
       "      <td>NaN</td>\n",
       "      <td>NaN</td>\n",
       "      <td>NaN</td>\n",
       "      <td>...</td>\n",
       "      <td>NaN</td>\n",
       "      <td>NaN</td>\n",
       "      <td>NaN</td>\n",
       "      <td>NaN</td>\n",
       "      <td>NaN</td>\n",
       "      <td>NaN</td>\n",
       "      <td>NaN</td>\n",
       "      <td>NaN</td>\n",
       "      <td>NaN</td>\n",
       "      <td>NaN</td>\n",
       "    </tr>\n",
       "    <tr>\n",
       "      <th>2009-12-02</th>\n",
       "      <td>NaN</td>\n",
       "      <td>NaN</td>\n",
       "      <td>NaN</td>\n",
       "      <td>NaN</td>\n",
       "      <td>NaN</td>\n",
       "      <td>NaN</td>\n",
       "      <td>NaN</td>\n",
       "      <td>NaN</td>\n",
       "      <td>NaN</td>\n",
       "      <td>NaN</td>\n",
       "      <td>...</td>\n",
       "      <td>NaN</td>\n",
       "      <td>NaN</td>\n",
       "      <td>NaN</td>\n",
       "      <td>NaN</td>\n",
       "      <td>NaN</td>\n",
       "      <td>NaN</td>\n",
       "      <td>NaN</td>\n",
       "      <td>NaN</td>\n",
       "      <td>NaN</td>\n",
       "      <td>NaN</td>\n",
       "    </tr>\n",
       "    <tr>\n",
       "      <th>2009-12-03</th>\n",
       "      <td>NaN</td>\n",
       "      <td>NaN</td>\n",
       "      <td>NaN</td>\n",
       "      <td>NaN</td>\n",
       "      <td>NaN</td>\n",
       "      <td>NaN</td>\n",
       "      <td>NaN</td>\n",
       "      <td>NaN</td>\n",
       "      <td>NaN</td>\n",
       "      <td>NaN</td>\n",
       "      <td>...</td>\n",
       "      <td>NaN</td>\n",
       "      <td>NaN</td>\n",
       "      <td>NaN</td>\n",
       "      <td>NaN</td>\n",
       "      <td>NaN</td>\n",
       "      <td>NaN</td>\n",
       "      <td>NaN</td>\n",
       "      <td>NaN</td>\n",
       "      <td>NaN</td>\n",
       "      <td>NaN</td>\n",
       "    </tr>\n",
       "    <tr>\n",
       "      <th>2009-12-04</th>\n",
       "      <td>NaN</td>\n",
       "      <td>NaN</td>\n",
       "      <td>NaN</td>\n",
       "      <td>NaN</td>\n",
       "      <td>NaN</td>\n",
       "      <td>NaN</td>\n",
       "      <td>NaN</td>\n",
       "      <td>NaN</td>\n",
       "      <td>NaN</td>\n",
       "      <td>NaN</td>\n",
       "      <td>...</td>\n",
       "      <td>NaN</td>\n",
       "      <td>NaN</td>\n",
       "      <td>NaN</td>\n",
       "      <td>NaN</td>\n",
       "      <td>NaN</td>\n",
       "      <td>NaN</td>\n",
       "      <td>NaN</td>\n",
       "      <td>NaN</td>\n",
       "      <td>NaN</td>\n",
       "      <td>NaN</td>\n",
       "    </tr>\n",
       "    <tr>\n",
       "      <th>2009-12-07</th>\n",
       "      <td>NaN</td>\n",
       "      <td>NaN</td>\n",
       "      <td>NaN</td>\n",
       "      <td>NaN</td>\n",
       "      <td>NaN</td>\n",
       "      <td>NaN</td>\n",
       "      <td>NaN</td>\n",
       "      <td>NaN</td>\n",
       "      <td>NaN</td>\n",
       "      <td>NaN</td>\n",
       "      <td>...</td>\n",
       "      <td>NaN</td>\n",
       "      <td>NaN</td>\n",
       "      <td>NaN</td>\n",
       "      <td>NaN</td>\n",
       "      <td>NaN</td>\n",
       "      <td>NaN</td>\n",
       "      <td>NaN</td>\n",
       "      <td>NaN</td>\n",
       "      <td>NaN</td>\n",
       "      <td>NaN</td>\n",
       "    </tr>\n",
       "    <tr>\n",
       "      <th>2009-12-08</th>\n",
       "      <td>NaN</td>\n",
       "      <td>NaN</td>\n",
       "      <td>NaN</td>\n",
       "      <td>NaN</td>\n",
       "      <td>NaN</td>\n",
       "      <td>NaN</td>\n",
       "      <td>NaN</td>\n",
       "      <td>NaN</td>\n",
       "      <td>NaN</td>\n",
       "      <td>NaN</td>\n",
       "      <td>...</td>\n",
       "      <td>NaN</td>\n",
       "      <td>NaN</td>\n",
       "      <td>NaN</td>\n",
       "      <td>NaN</td>\n",
       "      <td>NaN</td>\n",
       "      <td>NaN</td>\n",
       "      <td>NaN</td>\n",
       "      <td>NaN</td>\n",
       "      <td>NaN</td>\n",
       "      <td>NaN</td>\n",
       "    </tr>\n",
       "    <tr>\n",
       "      <th>2009-12-09</th>\n",
       "      <td>NaN</td>\n",
       "      <td>NaN</td>\n",
       "      <td>NaN</td>\n",
       "      <td>NaN</td>\n",
       "      <td>NaN</td>\n",
       "      <td>NaN</td>\n",
       "      <td>NaN</td>\n",
       "      <td>NaN</td>\n",
       "      <td>NaN</td>\n",
       "      <td>NaN</td>\n",
       "      <td>...</td>\n",
       "      <td>NaN</td>\n",
       "      <td>NaN</td>\n",
       "      <td>NaN</td>\n",
       "      <td>NaN</td>\n",
       "      <td>NaN</td>\n",
       "      <td>NaN</td>\n",
       "      <td>NaN</td>\n",
       "      <td>NaN</td>\n",
       "      <td>NaN</td>\n",
       "      <td>NaN</td>\n",
       "    </tr>\n",
       "    <tr>\n",
       "      <th>2009-12-10</th>\n",
       "      <td>NaN</td>\n",
       "      <td>NaN</td>\n",
       "      <td>NaN</td>\n",
       "      <td>NaN</td>\n",
       "      <td>NaN</td>\n",
       "      <td>NaN</td>\n",
       "      <td>NaN</td>\n",
       "      <td>NaN</td>\n",
       "      <td>NaN</td>\n",
       "      <td>NaN</td>\n",
       "      <td>...</td>\n",
       "      <td>NaN</td>\n",
       "      <td>NaN</td>\n",
       "      <td>NaN</td>\n",
       "      <td>NaN</td>\n",
       "      <td>NaN</td>\n",
       "      <td>NaN</td>\n",
       "      <td>NaN</td>\n",
       "      <td>NaN</td>\n",
       "      <td>NaN</td>\n",
       "      <td>NaN</td>\n",
       "    </tr>\n",
       "    <tr>\n",
       "      <th>2009-12-11</th>\n",
       "      <td>NaN</td>\n",
       "      <td>NaN</td>\n",
       "      <td>NaN</td>\n",
       "      <td>NaN</td>\n",
       "      <td>NaN</td>\n",
       "      <td>NaN</td>\n",
       "      <td>NaN</td>\n",
       "      <td>NaN</td>\n",
       "      <td>NaN</td>\n",
       "      <td>NaN</td>\n",
       "      <td>...</td>\n",
       "      <td>NaN</td>\n",
       "      <td>NaN</td>\n",
       "      <td>NaN</td>\n",
       "      <td>NaN</td>\n",
       "      <td>NaN</td>\n",
       "      <td>NaN</td>\n",
       "      <td>NaN</td>\n",
       "      <td>NaN</td>\n",
       "      <td>NaN</td>\n",
       "      <td>NaN</td>\n",
       "    </tr>\n",
       "    <tr>\n",
       "      <th>2009-12-14</th>\n",
       "      <td>NaN</td>\n",
       "      <td>NaN</td>\n",
       "      <td>NaN</td>\n",
       "      <td>NaN</td>\n",
       "      <td>NaN</td>\n",
       "      <td>NaN</td>\n",
       "      <td>NaN</td>\n",
       "      <td>NaN</td>\n",
       "      <td>NaN</td>\n",
       "      <td>NaN</td>\n",
       "      <td>...</td>\n",
       "      <td>NaN</td>\n",
       "      <td>NaN</td>\n",
       "      <td>NaN</td>\n",
       "      <td>NaN</td>\n",
       "      <td>NaN</td>\n",
       "      <td>NaN</td>\n",
       "      <td>NaN</td>\n",
       "      <td>NaN</td>\n",
       "      <td>NaN</td>\n",
       "      <td>NaN</td>\n",
       "    </tr>\n",
       "  </tbody>\n",
       "</table>\n",
       "<p>10 rows × 220 columns</p>\n",
       "</div>"
      ],
      "text/plain": [
       "             1-month_mean_3day  1-month_std_3day  1-month_median_3day  \\\n",
       "Time Period                                                             \n",
       "2009-12-01                 NaN               NaN                  NaN   \n",
       "2009-12-02                 NaN               NaN                  NaN   \n",
       "2009-12-03                 NaN               NaN                  NaN   \n",
       "2009-12-04                 NaN               NaN                  NaN   \n",
       "2009-12-07                 NaN               NaN                  NaN   \n",
       "2009-12-08                 NaN               NaN                  NaN   \n",
       "2009-12-09                 NaN               NaN                  NaN   \n",
       "2009-12-10                 NaN               NaN                  NaN   \n",
       "2009-12-11                 NaN               NaN                  NaN   \n",
       "2009-12-14                 NaN               NaN                  NaN   \n",
       "\n",
       "             1-month_min_3day  1-month_max_3day  1-month_mean_7day  \\\n",
       "Time Period                                                          \n",
       "2009-12-01                NaN               NaN                NaN   \n",
       "2009-12-02                NaN               NaN                NaN   \n",
       "2009-12-03                NaN               NaN                NaN   \n",
       "2009-12-04                NaN               NaN                NaN   \n",
       "2009-12-07                NaN               NaN                NaN   \n",
       "2009-12-08                NaN               NaN                NaN   \n",
       "2009-12-09                NaN               NaN                NaN   \n",
       "2009-12-10                NaN               NaN                NaN   \n",
       "2009-12-11                NaN               NaN                NaN   \n",
       "2009-12-14                NaN               NaN                NaN   \n",
       "\n",
       "             1-month_std_7day  1-month_median_7day  1-month_min_7day  \\\n",
       "Time Period                                                            \n",
       "2009-12-01                NaN                  NaN               NaN   \n",
       "2009-12-02                NaN                  NaN               NaN   \n",
       "2009-12-03                NaN                  NaN               NaN   \n",
       "2009-12-04                NaN                  NaN               NaN   \n",
       "2009-12-07                NaN                  NaN               NaN   \n",
       "2009-12-08                NaN                  NaN               NaN   \n",
       "2009-12-09                NaN                  NaN               NaN   \n",
       "2009-12-10                NaN                  NaN               NaN   \n",
       "2009-12-11                NaN                  NaN               NaN   \n",
       "2009-12-14                NaN                  NaN               NaN   \n",
       "\n",
       "             1-month_max_7day        ...          30-year_mean_15day  \\\n",
       "Time Period                          ...                               \n",
       "2009-12-01                NaN        ...                         NaN   \n",
       "2009-12-02                NaN        ...                         NaN   \n",
       "2009-12-03                NaN        ...                         NaN   \n",
       "2009-12-04                NaN        ...                         NaN   \n",
       "2009-12-07                NaN        ...                         NaN   \n",
       "2009-12-08                NaN        ...                         NaN   \n",
       "2009-12-09                NaN        ...                         NaN   \n",
       "2009-12-10                NaN        ...                         NaN   \n",
       "2009-12-11                NaN        ...                         NaN   \n",
       "2009-12-14                NaN        ...                         NaN   \n",
       "\n",
       "             30-year_std_15day  30-year_median_15day  30-year_min_15day  \\\n",
       "Time Period                                                               \n",
       "2009-12-01                 NaN                   NaN                NaN   \n",
       "2009-12-02                 NaN                   NaN                NaN   \n",
       "2009-12-03                 NaN                   NaN                NaN   \n",
       "2009-12-04                 NaN                   NaN                NaN   \n",
       "2009-12-07                 NaN                   NaN                NaN   \n",
       "2009-12-08                 NaN                   NaN                NaN   \n",
       "2009-12-09                 NaN                   NaN                NaN   \n",
       "2009-12-10                 NaN                   NaN                NaN   \n",
       "2009-12-11                 NaN                   NaN                NaN   \n",
       "2009-12-14                 NaN                   NaN                NaN   \n",
       "\n",
       "             30-year_max_15day  30-year_mean_20day  30-year_std_20day  \\\n",
       "Time Period                                                             \n",
       "2009-12-01                 NaN                 NaN                NaN   \n",
       "2009-12-02                 NaN                 NaN                NaN   \n",
       "2009-12-03                 NaN                 NaN                NaN   \n",
       "2009-12-04                 NaN                 NaN                NaN   \n",
       "2009-12-07                 NaN                 NaN                NaN   \n",
       "2009-12-08                 NaN                 NaN                NaN   \n",
       "2009-12-09                 NaN                 NaN                NaN   \n",
       "2009-12-10                 NaN                 NaN                NaN   \n",
       "2009-12-11                 NaN                 NaN                NaN   \n",
       "2009-12-14                 NaN                 NaN                NaN   \n",
       "\n",
       "             30-year_median_20day  30-year_min_20day  30-year_max_20day  \n",
       "Time Period                                                              \n",
       "2009-12-01                    NaN                NaN                NaN  \n",
       "2009-12-02                    NaN                NaN                NaN  \n",
       "2009-12-03                    NaN                NaN                NaN  \n",
       "2009-12-04                    NaN                NaN                NaN  \n",
       "2009-12-07                    NaN                NaN                NaN  \n",
       "2009-12-08                    NaN                NaN                NaN  \n",
       "2009-12-09                    NaN                NaN                NaN  \n",
       "2009-12-10                    NaN                NaN                NaN  \n",
       "2009-12-11                    NaN                NaN                NaN  \n",
       "2009-12-14                    NaN                NaN                NaN  \n",
       "\n",
       "[10 rows x 220 columns]"
      ]
     },
     "execution_count": 46,
     "metadata": {},
     "output_type": "execute_result"
    }
   ],
   "source": [
    "yield_data_features=pd.concat([rolling_method(yield_data_filtered,i,j) \\\n",
    "                               for i in yield_data_filtered.columns[:11] \\\n",
    "                               for j in [3,7,15,20]],axis=1).shift(11) \n",
    "# 11 beacuse first shift 1 and then shift 10 as rolling window of 20 from 10th to 30th day\n",
    "yield_data_features.head(10)"
   ]
  },
  {
   "cell_type": "code",
   "execution_count": 47,
   "metadata": {},
   "outputs": [
    {
     "data": {
      "text/html": [
       "<div>\n",
       "<style>\n",
       "    .dataframe thead tr:only-child th {\n",
       "        text-align: right;\n",
       "    }\n",
       "\n",
       "    .dataframe thead th {\n",
       "        text-align: left;\n",
       "    }\n",
       "\n",
       "    .dataframe tbody tr th {\n",
       "        vertical-align: top;\n",
       "    }\n",
       "</style>\n",
       "<table border=\"1\" class=\"dataframe\">\n",
       "  <thead>\n",
       "    <tr style=\"text-align: right;\">\n",
       "      <th></th>\n",
       "      <th>1-month_mean_3day</th>\n",
       "      <th>1-month_std_3day</th>\n",
       "      <th>1-month_median_3day</th>\n",
       "      <th>1-month_min_3day</th>\n",
       "      <th>1-month_max_3day</th>\n",
       "      <th>1-month_mean_7day</th>\n",
       "      <th>1-month_std_7day</th>\n",
       "      <th>1-month_median_7day</th>\n",
       "      <th>1-month_min_7day</th>\n",
       "      <th>1-month_max_7day</th>\n",
       "      <th>...</th>\n",
       "      <th>3-month_10</th>\n",
       "      <th>6-month_10</th>\n",
       "      <th>1-year_10</th>\n",
       "      <th>2-year_10</th>\n",
       "      <th>3-year_10</th>\n",
       "      <th>5-year_10</th>\n",
       "      <th>7-year_10</th>\n",
       "      <th>10-year_10</th>\n",
       "      <th>20-year_10</th>\n",
       "      <th>30-year_10</th>\n",
       "    </tr>\n",
       "    <tr>\n",
       "      <th>Time Period</th>\n",
       "      <th></th>\n",
       "      <th></th>\n",
       "      <th></th>\n",
       "      <th></th>\n",
       "      <th></th>\n",
       "      <th></th>\n",
       "      <th></th>\n",
       "      <th></th>\n",
       "      <th></th>\n",
       "      <th></th>\n",
       "      <th></th>\n",
       "      <th></th>\n",
       "      <th></th>\n",
       "      <th></th>\n",
       "      <th></th>\n",
       "      <th></th>\n",
       "      <th></th>\n",
       "      <th></th>\n",
       "      <th></th>\n",
       "      <th></th>\n",
       "      <th></th>\n",
       "    </tr>\n",
       "  </thead>\n",
       "  <tbody>\n",
       "    <tr>\n",
       "      <th>2010-01-14</th>\n",
       "      <td>0.020</td>\n",
       "      <td>0.000000</td>\n",
       "      <td>0.020</td>\n",
       "      <td>0.02</td>\n",
       "      <td>0.02</td>\n",
       "      <td>0.0140</td>\n",
       "      <td>0.005477</td>\n",
       "      <td>0.01</td>\n",
       "      <td>0.01</td>\n",
       "      <td>0.02</td>\n",
       "      <td>...</td>\n",
       "      <td>0.05</td>\n",
       "      <td>0.19</td>\n",
       "      <td>0.47</td>\n",
       "      <td>1.08</td>\n",
       "      <td>1.65</td>\n",
       "      <td>2.61</td>\n",
       "      <td>3.34</td>\n",
       "      <td>3.80</td>\n",
       "      <td>4.54</td>\n",
       "      <td>4.61</td>\n",
       "    </tr>\n",
       "    <tr>\n",
       "      <th>2010-01-15</th>\n",
       "      <td>0.020</td>\n",
       "      <td>0.000000</td>\n",
       "      <td>0.020</td>\n",
       "      <td>0.02</td>\n",
       "      <td>0.02</td>\n",
       "      <td>0.0160</td>\n",
       "      <td>0.005477</td>\n",
       "      <td>0.02</td>\n",
       "      <td>0.01</td>\n",
       "      <td>0.02</td>\n",
       "      <td>...</td>\n",
       "      <td>0.06</td>\n",
       "      <td>0.20</td>\n",
       "      <td>0.47</td>\n",
       "      <td>1.14</td>\n",
       "      <td>1.70</td>\n",
       "      <td>2.69</td>\n",
       "      <td>3.39</td>\n",
       "      <td>3.85</td>\n",
       "      <td>4.58</td>\n",
       "      <td>4.63</td>\n",
       "    </tr>\n",
       "    <tr>\n",
       "      <th>2010-01-19</th>\n",
       "      <td>0.020</td>\n",
       "      <td>0.000000</td>\n",
       "      <td>0.020</td>\n",
       "      <td>0.02</td>\n",
       "      <td>0.02</td>\n",
       "      <td>0.0175</td>\n",
       "      <td>0.005000</td>\n",
       "      <td>0.02</td>\n",
       "      <td>0.01</td>\n",
       "      <td>0.02</td>\n",
       "      <td>...</td>\n",
       "      <td>0.08</td>\n",
       "      <td>0.18</td>\n",
       "      <td>0.45</td>\n",
       "      <td>1.14</td>\n",
       "      <td>1.70</td>\n",
       "      <td>2.65</td>\n",
       "      <td>3.36</td>\n",
       "      <td>3.85</td>\n",
       "      <td>4.60</td>\n",
       "      <td>4.63</td>\n",
       "    </tr>\n",
       "    <tr>\n",
       "      <th>2010-01-20</th>\n",
       "      <td>0.035</td>\n",
       "      <td>0.021213</td>\n",
       "      <td>0.035</td>\n",
       "      <td>0.02</td>\n",
       "      <td>0.05</td>\n",
       "      <td>0.0240</td>\n",
       "      <td>0.015166</td>\n",
       "      <td>0.02</td>\n",
       "      <td>0.01</td>\n",
       "      <td>0.05</td>\n",
       "      <td>...</td>\n",
       "      <td>0.08</td>\n",
       "      <td>0.17</td>\n",
       "      <td>0.41</td>\n",
       "      <td>1.14</td>\n",
       "      <td>1.70</td>\n",
       "      <td>2.65</td>\n",
       "      <td>3.28</td>\n",
       "      <td>3.77</td>\n",
       "      <td>4.54</td>\n",
       "      <td>4.59</td>\n",
       "    </tr>\n",
       "    <tr>\n",
       "      <th>2010-01-21</th>\n",
       "      <td>0.040</td>\n",
       "      <td>0.014142</td>\n",
       "      <td>0.040</td>\n",
       "      <td>0.03</td>\n",
       "      <td>0.05</td>\n",
       "      <td>0.0280</td>\n",
       "      <td>0.013038</td>\n",
       "      <td>0.02</td>\n",
       "      <td>0.02</td>\n",
       "      <td>0.05</td>\n",
       "      <td>...</td>\n",
       "      <td>0.06</td>\n",
       "      <td>0.15</td>\n",
       "      <td>0.41</td>\n",
       "      <td>1.01</td>\n",
       "      <td>1.60</td>\n",
       "      <td>2.60</td>\n",
       "      <td>3.28</td>\n",
       "      <td>3.85</td>\n",
       "      <td>4.63</td>\n",
       "      <td>4.70</td>\n",
       "    </tr>\n",
       "  </tbody>\n",
       "</table>\n",
       "<p>5 rows × 341 columns</p>\n",
       "</div>"
      ],
      "text/plain": [
       "             1-month_mean_3day  1-month_std_3day  1-month_median_3day  \\\n",
       "Time Period                                                             \n",
       "2010-01-14               0.020          0.000000                0.020   \n",
       "2010-01-15               0.020          0.000000                0.020   \n",
       "2010-01-19               0.020          0.000000                0.020   \n",
       "2010-01-20               0.035          0.021213                0.035   \n",
       "2010-01-21               0.040          0.014142                0.040   \n",
       "\n",
       "             1-month_min_3day  1-month_max_3day  1-month_mean_7day  \\\n",
       "Time Period                                                          \n",
       "2010-01-14               0.02              0.02             0.0140   \n",
       "2010-01-15               0.02              0.02             0.0160   \n",
       "2010-01-19               0.02              0.02             0.0175   \n",
       "2010-01-20               0.02              0.05             0.0240   \n",
       "2010-01-21               0.03              0.05             0.0280   \n",
       "\n",
       "             1-month_std_7day  1-month_median_7day  1-month_min_7day  \\\n",
       "Time Period                                                            \n",
       "2010-01-14           0.005477                 0.01              0.01   \n",
       "2010-01-15           0.005477                 0.02              0.01   \n",
       "2010-01-19           0.005000                 0.02              0.01   \n",
       "2010-01-20           0.015166                 0.02              0.01   \n",
       "2010-01-21           0.013038                 0.02              0.02   \n",
       "\n",
       "             1-month_max_7day     ...      3-month_10  6-month_10  1-year_10  \\\n",
       "Time Period                       ...                                          \n",
       "2010-01-14               0.02     ...            0.05        0.19       0.47   \n",
       "2010-01-15               0.02     ...            0.06        0.20       0.47   \n",
       "2010-01-19               0.02     ...            0.08        0.18       0.45   \n",
       "2010-01-20               0.05     ...            0.08        0.17       0.41   \n",
       "2010-01-21               0.05     ...            0.06        0.15       0.41   \n",
       "\n",
       "             2-year_10  3-year_10  5-year_10  7-year_10  10-year_10  \\\n",
       "Time Period                                                           \n",
       "2010-01-14        1.08       1.65       2.61       3.34        3.80   \n",
       "2010-01-15        1.14       1.70       2.69       3.39        3.85   \n",
       "2010-01-19        1.14       1.70       2.65       3.36        3.85   \n",
       "2010-01-20        1.14       1.70       2.65       3.28        3.77   \n",
       "2010-01-21        1.01       1.60       2.60       3.28        3.85   \n",
       "\n",
       "             20-year_10  30-year_10  \n",
       "Time Period                          \n",
       "2010-01-14         4.54        4.61  \n",
       "2010-01-15         4.58        4.63  \n",
       "2010-01-19         4.60        4.63  \n",
       "2010-01-20         4.54        4.59  \n",
       "2010-01-21         4.63        4.70  \n",
       "\n",
       "[5 rows x 341 columns]"
      ]
     },
     "execution_count": 47,
     "metadata": {},
     "output_type": "execute_result"
    }
   ],
   "source": [
    "yield_data_features=pd.concat([yield_data_features,yield_data],axis=1)\n",
    "#yield_data_features.dropna(axis=0,how='any',inplace=True)\n",
    "yield_data_features.head()\n",
    "for i in range(1,11):\n",
    "    temp=yield_data_features[[col for col in yield_data_filtered.columns]].shift(i)\n",
    "    temp.columns=[j+'_'+str(i) for j in list(temp.columns)]\n",
    "    yield_data_features=pd.concat([yield_data_features,temp],axis=1)\n",
    "yield_data_features = yield_data_features.fillna(method='ffill')\n",
    "yield_data_features = yield_data_features[yield_data_features.index>='2010-01-14']\n",
    "yield_data_features.head()"
   ]
  },
  {
   "cell_type": "code",
   "execution_count": 48,
   "metadata": {
    "collapsed": true
   },
   "outputs": [],
   "source": [
    "yield_data_features = yield_data_features[yield_data_features.index>'2010-05-11']"
   ]
  },
  {
   "cell_type": "code",
   "execution_count": 49,
   "metadata": {},
   "outputs": [
    {
     "data": {
      "text/html": [
       "<div>\n",
       "<style>\n",
       "    .dataframe thead tr:only-child th {\n",
       "        text-align: right;\n",
       "    }\n",
       "\n",
       "    .dataframe thead th {\n",
       "        text-align: left;\n",
       "    }\n",
       "\n",
       "    .dataframe tbody tr th {\n",
       "        vertical-align: top;\n",
       "    }\n",
       "</style>\n",
       "<table border=\"1\" class=\"dataframe\">\n",
       "  <thead>\n",
       "    <tr style=\"text-align: right;\">\n",
       "      <th></th>\n",
       "      <th>1-month_mean_3day</th>\n",
       "      <th>1-month_std_3day</th>\n",
       "      <th>1-month_median_3day</th>\n",
       "      <th>1-month_min_3day</th>\n",
       "      <th>1-month_max_3day</th>\n",
       "      <th>1-month_mean_7day</th>\n",
       "      <th>1-month_std_7day</th>\n",
       "      <th>1-month_median_7day</th>\n",
       "      <th>1-month_min_7day</th>\n",
       "      <th>1-month_max_7day</th>\n",
       "      <th>...</th>\n",
       "      <th>3-month_10</th>\n",
       "      <th>6-month_10</th>\n",
       "      <th>1-year_10</th>\n",
       "      <th>2-year_10</th>\n",
       "      <th>3-year_10</th>\n",
       "      <th>5-year_10</th>\n",
       "      <th>7-year_10</th>\n",
       "      <th>10-year_10</th>\n",
       "      <th>20-year_10</th>\n",
       "      <th>30-year_10</th>\n",
       "    </tr>\n",
       "    <tr>\n",
       "      <th>Time Period</th>\n",
       "      <th></th>\n",
       "      <th></th>\n",
       "      <th></th>\n",
       "      <th></th>\n",
       "      <th></th>\n",
       "      <th></th>\n",
       "      <th></th>\n",
       "      <th></th>\n",
       "      <th></th>\n",
       "      <th></th>\n",
       "      <th></th>\n",
       "      <th></th>\n",
       "      <th></th>\n",
       "      <th></th>\n",
       "      <th></th>\n",
       "      <th></th>\n",
       "      <th></th>\n",
       "      <th></th>\n",
       "      <th></th>\n",
       "      <th></th>\n",
       "      <th></th>\n",
       "    </tr>\n",
       "  </thead>\n",
       "  <tbody>\n",
       "    <tr>\n",
       "      <th>2010-05-12</th>\n",
       "      <td>0.140</td>\n",
       "      <td>1.095171e-09</td>\n",
       "      <td>0.140</td>\n",
       "      <td>0.14</td>\n",
       "      <td>0.14</td>\n",
       "      <td>0.144000</td>\n",
       "      <td>0.005477</td>\n",
       "      <td>0.14</td>\n",
       "      <td>0.14</td>\n",
       "      <td>0.15</td>\n",
       "      <td>...</td>\n",
       "      <td>0.16</td>\n",
       "      <td>0.24</td>\n",
       "      <td>0.430000</td>\n",
       "      <td>1.030000</td>\n",
       "      <td>1.56357</td>\n",
       "      <td>2.597937</td>\n",
       "      <td>3.230000</td>\n",
       "      <td>3.800000</td>\n",
       "      <td>4.470000</td>\n",
       "      <td>4.630000</td>\n",
       "    </tr>\n",
       "    <tr>\n",
       "      <th>2010-05-13</th>\n",
       "      <td>0.140</td>\n",
       "      <td>1.548805e-09</td>\n",
       "      <td>0.140</td>\n",
       "      <td>0.14</td>\n",
       "      <td>0.14</td>\n",
       "      <td>0.142500</td>\n",
       "      <td>0.005000</td>\n",
       "      <td>0.14</td>\n",
       "      <td>0.14</td>\n",
       "      <td>0.15</td>\n",
       "      <td>...</td>\n",
       "      <td>0.17</td>\n",
       "      <td>0.23</td>\n",
       "      <td>0.420000</td>\n",
       "      <td>0.998559</td>\n",
       "      <td>1.58000</td>\n",
       "      <td>2.514644</td>\n",
       "      <td>3.190000</td>\n",
       "      <td>3.745087</td>\n",
       "      <td>4.470298</td>\n",
       "      <td>4.600000</td>\n",
       "    </tr>\n",
       "    <tr>\n",
       "      <th>2010-05-14</th>\n",
       "      <td>0.145</td>\n",
       "      <td>7.071072e-03</td>\n",
       "      <td>0.145</td>\n",
       "      <td>0.14</td>\n",
       "      <td>0.15</td>\n",
       "      <td>0.144000</td>\n",
       "      <td>0.005477</td>\n",
       "      <td>0.14</td>\n",
       "      <td>0.14</td>\n",
       "      <td>0.15</td>\n",
       "      <td>...</td>\n",
       "      <td>0.16</td>\n",
       "      <td>0.25</td>\n",
       "      <td>0.418369</td>\n",
       "      <td>0.970000</td>\n",
       "      <td>1.51000</td>\n",
       "      <td>2.430000</td>\n",
       "      <td>3.174928</td>\n",
       "      <td>3.690000</td>\n",
       "      <td>4.470384</td>\n",
       "      <td>4.530000</td>\n",
       "    </tr>\n",
       "    <tr>\n",
       "      <th>2010-05-17</th>\n",
       "      <td>0.145</td>\n",
       "      <td>7.071072e-03</td>\n",
       "      <td>0.145</td>\n",
       "      <td>0.14</td>\n",
       "      <td>0.15</td>\n",
       "      <td>0.143333</td>\n",
       "      <td>0.005164</td>\n",
       "      <td>0.14</td>\n",
       "      <td>0.14</td>\n",
       "      <td>0.15</td>\n",
       "      <td>...</td>\n",
       "      <td>0.17</td>\n",
       "      <td>0.25</td>\n",
       "      <td>0.418677</td>\n",
       "      <td>1.000000</td>\n",
       "      <td>1.50006</td>\n",
       "      <td>2.470000</td>\n",
       "      <td>3.160000</td>\n",
       "      <td>3.720000</td>\n",
       "      <td>4.373032</td>\n",
       "      <td>4.530000</td>\n",
       "    </tr>\n",
       "    <tr>\n",
       "      <th>2010-05-18</th>\n",
       "      <td>0.145</td>\n",
       "      <td>7.071072e-03</td>\n",
       "      <td>0.145</td>\n",
       "      <td>0.14</td>\n",
       "      <td>0.15</td>\n",
       "      <td>0.142000</td>\n",
       "      <td>0.004472</td>\n",
       "      <td>0.14</td>\n",
       "      <td>0.14</td>\n",
       "      <td>0.15</td>\n",
       "      <td>...</td>\n",
       "      <td>0.17</td>\n",
       "      <td>0.25</td>\n",
       "      <td>0.404478</td>\n",
       "      <td>0.960000</td>\n",
       "      <td>1.49000</td>\n",
       "      <td>2.380000</td>\n",
       "      <td>3.083158</td>\n",
       "      <td>3.630000</td>\n",
       "      <td>4.270000</td>\n",
       "      <td>4.464013</td>\n",
       "    </tr>\n",
       "  </tbody>\n",
       "</table>\n",
       "<p>5 rows × 341 columns</p>\n",
       "</div>"
      ],
      "text/plain": [
       "             1-month_mean_3day  1-month_std_3day  1-month_median_3day  \\\n",
       "Time Period                                                             \n",
       "2010-05-12               0.140      1.095171e-09                0.140   \n",
       "2010-05-13               0.140      1.548805e-09                0.140   \n",
       "2010-05-14               0.145      7.071072e-03                0.145   \n",
       "2010-05-17               0.145      7.071072e-03                0.145   \n",
       "2010-05-18               0.145      7.071072e-03                0.145   \n",
       "\n",
       "             1-month_min_3day  1-month_max_3day  1-month_mean_7day  \\\n",
       "Time Period                                                          \n",
       "2010-05-12               0.14              0.14           0.144000   \n",
       "2010-05-13               0.14              0.14           0.142500   \n",
       "2010-05-14               0.14              0.15           0.144000   \n",
       "2010-05-17               0.14              0.15           0.143333   \n",
       "2010-05-18               0.14              0.15           0.142000   \n",
       "\n",
       "             1-month_std_7day  1-month_median_7day  1-month_min_7day  \\\n",
       "Time Period                                                            \n",
       "2010-05-12           0.005477                 0.14              0.14   \n",
       "2010-05-13           0.005000                 0.14              0.14   \n",
       "2010-05-14           0.005477                 0.14              0.14   \n",
       "2010-05-17           0.005164                 0.14              0.14   \n",
       "2010-05-18           0.004472                 0.14              0.14   \n",
       "\n",
       "             1-month_max_7day     ...      3-month_10  6-month_10  1-year_10  \\\n",
       "Time Period                       ...                                          \n",
       "2010-05-12               0.15     ...            0.16        0.24   0.430000   \n",
       "2010-05-13               0.15     ...            0.17        0.23   0.420000   \n",
       "2010-05-14               0.15     ...            0.16        0.25   0.418369   \n",
       "2010-05-17               0.15     ...            0.17        0.25   0.418677   \n",
       "2010-05-18               0.15     ...            0.17        0.25   0.404478   \n",
       "\n",
       "             2-year_10  3-year_10  5-year_10  7-year_10  10-year_10  \\\n",
       "Time Period                                                           \n",
       "2010-05-12    1.030000    1.56357   2.597937   3.230000    3.800000   \n",
       "2010-05-13    0.998559    1.58000   2.514644   3.190000    3.745087   \n",
       "2010-05-14    0.970000    1.51000   2.430000   3.174928    3.690000   \n",
       "2010-05-17    1.000000    1.50006   2.470000   3.160000    3.720000   \n",
       "2010-05-18    0.960000    1.49000   2.380000   3.083158    3.630000   \n",
       "\n",
       "             20-year_10  30-year_10  \n",
       "Time Period                          \n",
       "2010-05-12     4.470000    4.630000  \n",
       "2010-05-13     4.470298    4.600000  \n",
       "2010-05-14     4.470384    4.530000  \n",
       "2010-05-17     4.373032    4.530000  \n",
       "2010-05-18     4.270000    4.464013  \n",
       "\n",
       "[5 rows x 341 columns]"
      ]
     },
     "execution_count": 49,
     "metadata": {},
     "output_type": "execute_result"
    }
   ],
   "source": [
    "yield_data_features.head()"
   ]
  },
  {
   "cell_type": "code",
   "execution_count": 50,
   "metadata": {
    "collapsed": true
   },
   "outputs": [],
   "source": [
    "def predictTargetNew(target):\n",
    "    print(\"******predicting:\",target,\"*******\")\n",
    "    Y=yield_data_features[[target]]\n",
    "    X=yield_data_features.drop(target,axis=1)\n",
    "    print(\"Shapeof Y:\",Y.shape)\n",
    "    print(\"Shapeof X:\",X.shape)\n",
    "    X_train=X[X.index < '2017-07-01']\n",
    "    X_test=X[X.index >= '2017-07-01']\n",
    "    y_train=Y[Y.index < '2017-07-01']\n",
    "    y_test=Y[Y.index  >= '2017-07-01']\n",
    "    print(\"Shapeof Y_train:\",y_train.shape)\n",
    "    print(\"Shapeof X_train:\",X_train.shape)\n",
    "    print(\"Shapeof Y_test:\",y_test.shape)\n",
    "    print(\"Shapeof X_test:\",X_test.shape)\n",
    "    max_depth = 30\n",
    "    regr_rf = RandomForestRegressor(max_depth=max_depth, random_state=2)\n",
    "    regr_rf.fit(X_train, y_train)\n",
    "    # Predict on new data\n",
    "    y_rf = pd.DataFrame(regr_rf.predict(X_test))\n",
    "    y_rf.index=y_test.index\n",
    "    y_rf.columns=y_test.columns\n",
    "    #score\n",
    "    print(target,\" R sq:\",r2_score(y_test,y_rf))\n",
    "    print(target,\" RMSE:\",np.sqrt(mean_squared_error(y_test,y_rf)))\n",
    "    final=pd.DataFrame()\n",
    "    final['Time']=y_test.index\n",
    "    final.index=y_test.index\n",
    "    final['true']=y_test[target]\n",
    "    final['pred']=y_rf[target]\n",
    "    plt.figure(figsize=(8, 6))\n",
    "    s = 25\n",
    "    a = 0.4\n",
    "    plt.figure(figsize=(8,3))\n",
    "    x_axis=range(len(final))\n",
    "    plt.scatter(x_axis, final['true'], edgecolor='k',\n",
    "                c=\"navy\", s=s, alpha=a, label=\"Data\")\n",
    "    plt.scatter(x_axis, final['pred'], edgecolor='k',\n",
    "                c=\"c\", s=s, alpha=a,\n",
    "                label=\"RF (R2score={:.2f} \\n RMSE={:.2f})\".format(regr_rf.score(X_test, y_test),np.sqrt(mean_squared_error(y_test,y_rf))))\n",
    "    plt.xticks(x_axis, final['Time'].dt.date, rotation='vertical')\n",
    "    plt.xlabel(\"date\")\n",
    "    plt.ylabel(target+\" yield\")\n",
    "    plt.gca().margins(x=0)\n",
    "    plt.grid()\n",
    "    plt.legend(loc='center left', bbox_to_anchor=(1, 0.5))\n",
    "    plt.tight_layout()\n",
    "    plt.show()"
   ]
  },
  {
   "cell_type": "code",
   "execution_count": 55,
   "metadata": {
    "collapsed": true
   },
   "outputs": [],
   "source": [
    "yield_data_features.index = pd.to_datetime(yield_data_features.index)"
   ]
  },
  {
   "cell_type": "code",
   "execution_count": 56,
   "metadata": {},
   "outputs": [
    {
     "name": "stdout",
     "output_type": "stream",
     "text": [
      "******predicting: 1-month *******\n",
      "Shapeof Y: (1847, 1)\n",
      "Shapeof X: (1847, 340)\n",
      "Shapeof Y_train: (1787, 1)\n",
      "Shapeof X_train: (1787, 340)\n",
      "Shapeof Y_test: (60, 1)\n",
      "Shapeof X_test: (60, 340)\n"
     ]
    },
    {
     "name": "stderr",
     "output_type": "stream",
     "text": [
      "D:\\anaconda_py3\\python3\\lib\\site-packages\\ipykernel_launcher.py:17: DataConversionWarning: A column-vector y was passed when a 1d array was expected. Please change the shape of y to (n_samples,), for example using ravel().\n"
     ]
    },
    {
     "name": "stdout",
     "output_type": "stream",
     "text": [
      "1-month  R sq: -8.83387305592\n",
      "1-month  RMSE: 0.147653034795\n"
     ]
    },
    {
     "data": {
      "text/plain": [
       "<matplotlib.figure.Figure at 0x28616b7b1d0>"
      ]
     },
     "metadata": {},
     "output_type": "display_data"
    },
    {
     "data": {
      "image/png": "[encoded data removed]",
      "text/plain": [
       "<matplotlib.figure.Figure at 0x28616baf860>"
      ]
     },
     "metadata": {},
     "output_type": "display_data"
    },
    {
     "name": "stdout",
     "output_type": "stream",
     "text": [
      "******predicting: 3-month *******\n",
      "Shapeof Y: (1847, 1)\n",
      "Shapeof X: (1847, 340)\n",
      "Shapeof Y_train: (1787, 1)\n",
      "Shapeof X_train: (1787, 340)\n",
      "Shapeof Y_test: (60, 1)\n",
      "Shapeof X_test: (60, 340)\n"
     ]
    },
    {
     "name": "stderr",
     "output_type": "stream",
     "text": [
      "D:\\anaconda_py3\\python3\\lib\\site-packages\\ipykernel_launcher.py:17: DataConversionWarning: A column-vector y was passed when a 1d array was expected. Please change the shape of y to (n_samples,), for example using ravel().\n"
     ]
    },
    {
     "name": "stdout",
     "output_type": "stream",
     "text": [
      "3-month  R sq: -1.85989785421\n",
      "3-month  RMSE: 0.0676002940997\n"
     ]
    },
    {
     "data": {
      "text/plain": [
       "<matplotlib.figure.Figure at 0x2861c83fb70>"
      ]
     },
     "metadata": {},
     "output_type": "display_data"
    },
    {
     "data": {
      "image/png": "[encoded data removed]",
      "text/plain": [
       "<matplotlib.figure.Figure at 0x2861b787208>"
      ]
     },
     "metadata": {},
     "output_type": "display_data"
    },
    {
     "name": "stdout",
     "output_type": "stream",
     "text": [
      "******predicting: 6-month *******\n",
      "Shapeof Y: (1847, 1)\n",
      "Shapeof X: (1847, 340)\n",
      "Shapeof Y_train: (1787, 1)\n",
      "Shapeof X_train: (1787, 340)\n",
      "Shapeof Y_test: (60, 1)\n",
      "Shapeof X_test: (60, 340)\n"
     ]
    },
    {
     "name": "stderr",
     "output_type": "stream",
     "text": [
      "D:\\anaconda_py3\\python3\\lib\\site-packages\\ipykernel_launcher.py:17: DataConversionWarning: A column-vector y was passed when a 1d array was expected. Please change the shape of y to (n_samples,), for example using ravel().\n"
     ]
    },
    {
     "name": "stdout",
     "output_type": "stream",
     "text": [
      "6-month  R sq: -1.84899456142\n",
      "6-month  RMSE: 0.0430873024246\n"
     ]
    },
    {
     "data": {
      "text/plain": [
       "<matplotlib.figure.Figure at 0x2861b70a4a8>"
      ]
     },
     "metadata": {},
     "output_type": "display_data"
    },
    {
     "data": {
      "image/png": "[encoded data removed]",
      "text/plain": [
       "<matplotlib.figure.Figure at 0x2861b6febe0>"
      ]
     },
     "metadata": {},
     "output_type": "display_data"
    },
    {
     "name": "stdout",
     "output_type": "stream",
     "text": [
      "******predicting: 1-year *******\n",
      "Shapeof Y: (1847, 1)\n",
      "Shapeof X: (1847, 340)\n",
      "Shapeof Y_train: (1787, 1)\n",
      "Shapeof X_train: (1787, 340)\n",
      "Shapeof Y_test: (60, 1)\n",
      "Shapeof X_test: (60, 340)\n"
     ]
    },
    {
     "name": "stderr",
     "output_type": "stream",
     "text": [
      "D:\\anaconda_py3\\python3\\lib\\site-packages\\ipykernel_launcher.py:17: DataConversionWarning: A column-vector y was passed when a 1d array was expected. Please change the shape of y to (n_samples,), for example using ravel().\n"
     ]
    },
    {
     "name": "stdout",
     "output_type": "stream",
     "text": [
      "1-year  R sq: -1.8821370162\n",
      "1-year  RMSE: 0.051026298318\n"
     ]
    },
    {
     "data": {
      "text/plain": [
       "<matplotlib.figure.Figure at 0x2861b6a2a20>"
      ]
     },
     "metadata": {},
     "output_type": "display_data"
    },
    {
     "data": {
      "image/png": "[encoded data removed]",
      "text/plain": [
       "<matplotlib.figure.Figure at 0x28616b2ba20>"
      ]
     },
     "metadata": {},
     "output_type": "display_data"
    },
    {
     "name": "stdout",
     "output_type": "stream",
     "text": [
      "******predicting: 2-year *******\n",
      "Shapeof Y: (1847, 1)\n",
      "Shapeof X: (1847, 340)\n",
      "Shapeof Y_train: (1787, 1)\n",
      "Shapeof X_train: (1787, 340)\n",
      "Shapeof Y_test: (60, 1)\n",
      "Shapeof X_test: (60, 340)\n"
     ]
    },
    {
     "name": "stderr",
     "output_type": "stream",
     "text": [
      "D:\\anaconda_py3\\python3\\lib\\site-packages\\ipykernel_launcher.py:17: DataConversionWarning: A column-vector y was passed when a 1d array was expected. Please change the shape of y to (n_samples,), for example using ravel().\n"
     ]
    },
    {
     "name": "stdout",
     "output_type": "stream",
     "text": [
      "2-year  R sq: 0.0413815757307\n",
      "2-year  RMSE: 0.039862237384\n"
     ]
    },
    {
     "data": {
      "text/plain": [
       "<matplotlib.figure.Figure at 0x2861ce40ef0>"
      ]
     },
     "metadata": {},
     "output_type": "display_data"
    },
    {
     "data": {
      "image/png": "[encoded data removed]",
      "text/plain": [
       "<matplotlib.figure.Figure at 0x2861cf69e48>"
      ]
     },
     "metadata": {},
     "output_type": "display_data"
    },
    {
     "name": "stdout",
     "output_type": "stream",
     "text": [
      "******predicting: 3-year *******\n",
      "Shapeof Y: (1847, 1)\n",
      "Shapeof X: (1847, 340)\n",
      "Shapeof Y_train: (1787, 1)\n",
      "Shapeof X_train: (1787, 340)\n",
      "Shapeof Y_test: (60, 1)\n",
      "Shapeof X_test: (60, 340)\n"
     ]
    },
    {
     "name": "stderr",
     "output_type": "stream",
     "text": [
      "D:\\anaconda_py3\\python3\\lib\\site-packages\\ipykernel_launcher.py:17: DataConversionWarning: A column-vector y was passed when a 1d array was expected. Please change the shape of y to (n_samples,), for example using ravel().\n"
     ]
    },
    {
     "name": "stdout",
     "output_type": "stream",
     "text": [
      "3-year  R sq: 0.654477030118\n",
      "3-year  RMSE: 0.0288265964663\n"
     ]
    },
    {
     "data": {
      "text/plain": [
       "<matplotlib.figure.Figure at 0x2861cfddcc0>"
      ]
     },
     "metadata": {},
     "output_type": "display_data"
    },
    {
     "data": {
      "image/png": "[encoded data removed]",
      "text/plain": [
       "<matplotlib.figure.Figure at 0x2861cea6ac8>"
      ]
     },
     "metadata": {},
     "output_type": "display_data"
    },
    {
     "name": "stdout",
     "output_type": "stream",
     "text": [
      "******predicting: 5-year *******\n",
      "Shapeof Y: (1847, 1)\n",
      "Shapeof X: (1847, 340)\n",
      "Shapeof Y_train: (1787, 1)\n",
      "Shapeof X_train: (1787, 340)\n",
      "Shapeof Y_test: (60, 1)\n",
      "Shapeof X_test: (60, 340)\n"
     ]
    },
    {
     "name": "stderr",
     "output_type": "stream",
     "text": [
      "D:\\anaconda_py3\\python3\\lib\\site-packages\\ipykernel_launcher.py:17: DataConversionWarning: A column-vector y was passed when a 1d array was expected. Please change the shape of y to (n_samples,), for example using ravel().\n"
     ]
    },
    {
     "name": "stdout",
     "output_type": "stream",
     "text": [
      "5-year  R sq: 0.764793959335\n",
      "5-year  RMSE: 0.0351948009714\n"
     ]
    },
    {
     "data": {
      "text/plain": [
       "<matplotlib.figure.Figure at 0x2861d004390>"
      ]
     },
     "metadata": {},
     "output_type": "display_data"
    },
    {
     "data": {
      "image/png": "[encoded data removed]",
      "text/plain": [
       "<matplotlib.figure.Figure at 0x2861d0d80f0>"
      ]
     },
     "metadata": {},
     "output_type": "display_data"
    },
    {
     "name": "stdout",
     "output_type": "stream",
     "text": [
      "******predicting: 7-year *******\n",
      "Shapeof Y: (1847, 1)\n",
      "Shapeof X: (1847, 340)\n",
      "Shapeof Y_train: (1787, 1)\n",
      "Shapeof X_train: (1787, 340)\n",
      "Shapeof Y_test: (60, 1)\n",
      "Shapeof X_test: (60, 340)\n"
     ]
    },
    {
     "name": "stderr",
     "output_type": "stream",
     "text": [
      "D:\\anaconda_py3\\python3\\lib\\site-packages\\ipykernel_launcher.py:17: DataConversionWarning: A column-vector y was passed when a 1d array was expected. Please change the shape of y to (n_samples,), for example using ravel().\n"
     ]
    },
    {
     "name": "stdout",
     "output_type": "stream",
     "text": [
      "7-year  R sq: 0.829706238174\n",
      "7-year  RMSE: 0.0305475137817\n"
     ]
    },
    {
     "data": {
      "text/plain": [
       "<matplotlib.figure.Figure at 0x286168e99b0>"
      ]
     },
     "metadata": {},
     "output_type": "display_data"
    },
    {
     "data": {
      "image/png": "[encoded data removed]",
      "text/plain": [
       "<matplotlib.figure.Figure at 0x286169086d8>"
      ]
     },
     "metadata": {},
     "output_type": "display_data"
    },
    {
     "name": "stdout",
     "output_type": "stream",
     "text": [
      "******predicting: 10-year *******\n",
      "Shapeof Y: (1847, 1)\n",
      "Shapeof X: (1847, 340)\n",
      "Shapeof Y_train: (1787, 1)\n",
      "Shapeof X_train: (1787, 340)\n",
      "Shapeof Y_test: (60, 1)\n",
      "Shapeof X_test: (60, 340)\n"
     ]
    },
    {
     "name": "stderr",
     "output_type": "stream",
     "text": [
      "D:\\anaconda_py3\\python3\\lib\\site-packages\\ipykernel_launcher.py:17: DataConversionWarning: A column-vector y was passed when a 1d array was expected. Please change the shape of y to (n_samples,), for example using ravel().\n"
     ]
    },
    {
     "name": "stdout",
     "output_type": "stream",
     "text": [
      "10-year  R sq: 0.833840141458\n",
      "10-year  RMSE: 0.0319236358776\n"
     ]
    },
    {
     "data": {
      "text/plain": [
       "<matplotlib.figure.Figure at 0x2861cea8ef0>"
      ]
     },
     "metadata": {},
     "output_type": "display_data"
    },
    {
     "data": {
      "image/png": "[encoded data removed]",
      "text/plain": [
       "<matplotlib.figure.Figure at 0x2861cec2b00>"
      ]
     },
     "metadata": {},
     "output_type": "display_data"
    },
    {
     "name": "stdout",
     "output_type": "stream",
     "text": [
      "******predicting: 20-year *******\n",
      "Shapeof Y: (1847, 1)\n",
      "Shapeof X: (1847, 340)\n",
      "Shapeof Y_train: (1787, 1)\n",
      "Shapeof X_train: (1787, 340)\n",
      "Shapeof Y_test: (60, 1)\n",
      "Shapeof X_test: (60, 340)\n"
     ]
    },
    {
     "name": "stderr",
     "output_type": "stream",
     "text": [
      "D:\\anaconda_py3\\python3\\lib\\site-packages\\ipykernel_launcher.py:17: DataConversionWarning: A column-vector y was passed when a 1d array was expected. Please change the shape of y to (n_samples,), for example using ravel().\n"
     ]
    },
    {
     "name": "stdout",
     "output_type": "stream",
     "text": [
      "20-year  R sq: 0.849326443721\n",
      "20-year  RMSE: 0.0268900217692\n"
     ]
    },
    {
     "data": {
      "text/plain": [
       "<matplotlib.figure.Figure at 0x2861ce48f98>"
      ]
     },
     "metadata": {},
     "output_type": "display_data"
    },
    {
     "data": {
      "image/png": "[encoded data removed]",
      "text/plain": [
       "<matplotlib.figure.Figure at 0x2861c814320>"
      ]
     },
     "metadata": {},
     "output_type": "display_data"
    },
    {
     "name": "stdout",
     "output_type": "stream",
     "text": [
      "******predicting: 30-year *******\n",
      "Shapeof Y: (1847, 1)\n",
      "Shapeof X: (1847, 340)\n",
      "Shapeof Y_train: (1787, 1)\n",
      "Shapeof X_train: (1787, 340)\n",
      "Shapeof Y_test: (60, 1)\n",
      "Shapeof X_test: (60, 340)\n"
     ]
    },
    {
     "name": "stderr",
     "output_type": "stream",
     "text": [
      "D:\\anaconda_py3\\python3\\lib\\site-packages\\ipykernel_launcher.py:17: DataConversionWarning: A column-vector y was passed when a 1d array was expected. Please change the shape of y to (n_samples,), for example using ravel().\n"
     ]
    },
    {
     "name": "stdout",
     "output_type": "stream",
     "text": [
      "30-year  R sq: 0.669928021704\n",
      "30-year  RMSE: 0.0353885485884\n"
     ]
    },
    {
     "data": {
      "text/plain": [
       "<matplotlib.figure.Figure at 0x2861b725f60>"
      ]
     },
     "metadata": {},
     "output_type": "display_data"
    },
    {
     "data": {
      "image/png": "[encoded data removed]",
      "text/plain": [
       "<matplotlib.figure.Figure at 0x2861d2a15f8>"
      ]
     },
     "metadata": {},
     "output_type": "display_data"
    }
   ],
   "source": [
    "for target in ['1-month', '3-month', '6-month', '1-year', '2-year', '3-year', '5-year','7-year', '10-year', '20-year', '30-year']:\n",
    "    predictTargetNew(target)"
   ]
  },
  {
   "cell_type": "code",
   "execution_count": null,
   "metadata": {
    "collapsed": true
   },
   "outputs": [],
   "source": []
  }
 ],
 "metadata": {
  "kernelspec": {
   "display_name": "Python 3",
   "language": "python",
   "name": "python3"
  },
  "language_info": {
   "codemirror_mode": {
    "name": "ipython",
    "version": 3
   },
   "file_extension": ".py",
   "mimetype": "text/x-python",
   "name": "python",
   "nbconvert_exporter": "python",
   "pygments_lexer": "ipython3",
   "version": "3.6.0"
  }
 },
 "nbformat": 4,
 "nbformat_minor": 2
}
